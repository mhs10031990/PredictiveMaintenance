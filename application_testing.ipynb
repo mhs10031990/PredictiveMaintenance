{
 "cells": [
  {
   "cell_type": "code",
   "execution_count": 1,
   "id": "990135da",
   "metadata": {},
   "outputs": [
    {
     "name": "stdout",
     "output_type": "stream",
     "text": [
      "status code 200\n",
      "Response Content b'{\"data\": \"Failure\", \"request_id\": \"3837fc0e-d1f3-4a00-ab1d-2b183e66eb0e\", \"upload_logging_data\": {\"end_time\": \"2023-04-06 11:09:30.057040\", \"feedback\": \"\", \"model_id\": \"074e09f2-dec7-4179-829f-05bdfdbc798a\", \"request_id\": \"3837fc0e-d1f3-4a00-ab1d-2b183e66eb0e\", \"response_data\": \"Failure\", \"start_time\": \"2023-04-06 11:09:30.048109\", \"status\": \"Success\", \"status_code\": 200, \"version_id\": \"a2c90582-06fa-4894-8656-569c0e9b2d9c\"}}'\n",
      "Failure\n"
     ]
    }
   ],
   "source": [
    "import requests\n",
    "payload = {'Air temperature [°C]': {'0': 31}, 'Process temperature [°C]': {'0': 38}, 'Rotational speed [rpm]': {'0': 1400}, 'Torque [Nm]': {'0': 56}, 'Tool wear [min]': {'0': 233}, 'Temperature difference [°C]': {'0': 7}}\n",
    "headers={\"Content-type\":\"application/json\"}\n",
    "# url = 'http://svc-1a0c7b69-afcc-4146-9444-9f19d15dee59-6fcd675fdc:5001/predictivemaintenancebinaryclassification/074e09f2-dec7-4179-829f-05bdfdbc798a/score'\n",
    "# url = \"https://refract.fosfor.com/predictivemaintenancebinaryclassification/074e09f2-dec7-4179-829f-05bdfdbc798a/score\"\n",
    "url = 'http://svc-1a0c7b69-afcc-4146-9444-9f19d15dee59:5001/predictivemaintenancebinaryclassification/074e09f2-dec7-4179-829f-05bdfdbc798a/score'\n",
    "data={\"payload\" : str(payload)}\n",
    "response_json = requests.post(url, json=data, headers=headers)\n",
    "print(\"status code\",response_json.status_code)\n",
    "print(\"Response Content\",response_json.content)\n",
    "#st.text_input(\"API Response: \",response_json.content)\n",
    "response = response_json.json()\n",
    "try:\n",
    "    print(response['upload_logging_data']['response_data'])\n",
    "except ValueError:\n",
    "    print(response.status_code)"
   ]
  },
  {
   "cell_type": "code",
   "execution_count": null,
   "id": "f392ead7",
   "metadata": {},
   "outputs": [],
   "source": []
  }
 ],
 "metadata": {
  "kernelspec": {
   "display_name": "Python 3",
   "language": "python",
   "name": "python3"
  },
  "language_info": {
   "codemirror_mode": {
    "name": "ipython",
    "version": 3
   },
   "file_extension": ".py",
   "mimetype": "text/x-python",
   "name": "python",
   "nbconvert_exporter": "python",
   "pygments_lexer": "ipython3",
   "version": "3.7.12"
  }
 },
 "nbformat": 4,
 "nbformat_minor": 5
}
