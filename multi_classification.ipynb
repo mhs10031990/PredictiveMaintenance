{
 "cells": [
  {
   "cell_type": "code",
   "execution_count": 23,
   "id": "ce70ece5",
   "metadata": {},
   "outputs": [],
   "source": [
    "import numpy as np \n",
    "import pandas as pd\n",
    "import seaborn as sns\n",
    "import matplotlib.pyplot as plt\n",
    "\n",
    "import warnings\n",
    "warnings.filterwarnings(\"ignore\")"
   ]
  },
  {
   "cell_type": "code",
   "execution_count": 24,
   "id": "56c9bf84",
   "metadata": {},
   "outputs": [],
   "source": [
    "pd.set_option(\"display.max_columns\",None)\n",
    "pd.set_option(\"display.max_rows\",None)"
   ]
  },
  {
   "cell_type": "code",
   "execution_count": 82,
   "id": "eecdfe7d",
   "metadata": {},
   "outputs": [],
   "source": [
    "from sklearn.metrics import accuracy_score,classification_report,confusion_matrix,plot_confusion_matrix, f1_score,roc_auc_score, roc_curve, recall_score\n",
    "from sklearn import model_selection\n",
    "\n",
    "from sklearn.preprocessing import MinMaxScaler,StandardScaler,RobustScaler\n",
    "\n",
    "from sklearn.linear_model import LogisticRegression\n",
    "from sklearn.tree import DecisionTreeClassifier\n",
    "from sklearn.ensemble import RandomForestClassifier\n",
    "from sklearn.svm import SVC\n",
    "from sklearn.naive_bayes import GaussianNB\n",
    "\n",
    "acc_log=[]"
   ]
  },
  {
   "cell_type": "code",
   "execution_count": 26,
   "id": "ee5efeb1",
   "metadata": {
    "scrolled": false
   },
   "outputs": [
    {
     "data": {
      "text/html": [
       "<div>\n",
       "<style scoped>\n",
       "    .dataframe tbody tr th:only-of-type {\n",
       "        vertical-align: middle;\n",
       "    }\n",
       "\n",
       "    .dataframe tbody tr th {\n",
       "        vertical-align: top;\n",
       "    }\n",
       "\n",
       "    .dataframe thead th {\n",
       "        text-align: right;\n",
       "    }\n",
       "</style>\n",
       "<table border=\"1\" class=\"dataframe\">\n",
       "  <thead>\n",
       "    <tr style=\"text-align: right;\">\n",
       "      <th></th>\n",
       "      <th>Unnamed: 0</th>\n",
       "      <th>Air temperature [K]</th>\n",
       "      <th>Process temperature [K]</th>\n",
       "      <th>Rotational speed [rpm]</th>\n",
       "      <th>Torque [Nm]</th>\n",
       "      <th>Tool wear [min]</th>\n",
       "      <th>Type_L</th>\n",
       "      <th>Type_M</th>\n",
       "      <th>Failure Type</th>\n",
       "      <th>Split</th>\n",
       "    </tr>\n",
       "  </thead>\n",
       "  <tbody>\n",
       "    <tr>\n",
       "      <th>0</th>\n",
       "      <td>0</td>\n",
       "      <td>295.5</td>\n",
       "      <td>305.9</td>\n",
       "      <td>1542.0</td>\n",
       "      <td>36.2</td>\n",
       "      <td>12.0</td>\n",
       "      <td>1.0</td>\n",
       "      <td>0.0</td>\n",
       "      <td>1</td>\n",
       "      <td>train</td>\n",
       "    </tr>\n",
       "    <tr>\n",
       "      <th>1</th>\n",
       "      <td>1</td>\n",
       "      <td>304.0</td>\n",
       "      <td>313.2</td>\n",
       "      <td>1416.0</td>\n",
       "      <td>46.0</td>\n",
       "      <td>128.0</td>\n",
       "      <td>1.0</td>\n",
       "      <td>0.0</td>\n",
       "      <td>1</td>\n",
       "      <td>train</td>\n",
       "    </tr>\n",
       "    <tr>\n",
       "      <th>2</th>\n",
       "      <td>2</td>\n",
       "      <td>300.5</td>\n",
       "      <td>311.8</td>\n",
       "      <td>1591.0</td>\n",
       "      <td>42.0</td>\n",
       "      <td>182.0</td>\n",
       "      <td>0.0</td>\n",
       "      <td>1.0</td>\n",
       "      <td>1</td>\n",
       "      <td>train</td>\n",
       "    </tr>\n",
       "    <tr>\n",
       "      <th>3</th>\n",
       "      <td>3</td>\n",
       "      <td>302.5</td>\n",
       "      <td>312.0</td>\n",
       "      <td>1487.0</td>\n",
       "      <td>46.1</td>\n",
       "      <td>175.0</td>\n",
       "      <td>0.0</td>\n",
       "      <td>1.0</td>\n",
       "      <td>1</td>\n",
       "      <td>train</td>\n",
       "    </tr>\n",
       "    <tr>\n",
       "      <th>4</th>\n",
       "      <td>4</td>\n",
       "      <td>298.0</td>\n",
       "      <td>308.1</td>\n",
       "      <td>1403.0</td>\n",
       "      <td>44.8</td>\n",
       "      <td>148.0</td>\n",
       "      <td>0.0</td>\n",
       "      <td>1.0</td>\n",
       "      <td>1</td>\n",
       "      <td>train</td>\n",
       "    </tr>\n",
       "  </tbody>\n",
       "</table>\n",
       "</div>"
      ],
      "text/plain": [
       "   Unnamed: 0  Air temperature [K]  Process temperature [K]  \\\n",
       "0           0                295.5                    305.9   \n",
       "1           1                304.0                    313.2   \n",
       "2           2                300.5                    311.8   \n",
       "3           3                302.5                    312.0   \n",
       "4           4                298.0                    308.1   \n",
       "\n",
       "   Rotational speed [rpm]  Torque [Nm]  Tool wear [min]  Type_L  Type_M  \\\n",
       "0                  1542.0         36.2             12.0     1.0     0.0   \n",
       "1                  1416.0         46.0            128.0     1.0     0.0   \n",
       "2                  1591.0         42.0            182.0     0.0     1.0   \n",
       "3                  1487.0         46.1            175.0     0.0     1.0   \n",
       "4                  1403.0         44.8            148.0     0.0     1.0   \n",
       "\n",
       "   Failure Type  Split  \n",
       "0             1  train  \n",
       "1             1  train  \n",
       "2             1  train  \n",
       "3             1  train  \n",
       "4             1  train  "
      ]
     },
     "execution_count": 26,
     "metadata": {},
     "output_type": "execute_result"
    }
   ],
   "source": [
    "df=pd.read_csv(\"/data/predictive_maintenance_upsample.csv\")\n",
    "df.head()"
   ]
  },
  {
   "cell_type": "code",
   "execution_count": 27,
   "id": "7894bb68",
   "metadata": {},
   "outputs": [
    {
     "data": {
      "text/plain": [
       "1    9627\n",
       "3    6796\n",
       "0    6794\n",
       "2    6792\n",
       "5    6772\n",
       "4    6765\n",
       "Name: Failure Type, dtype: int64"
      ]
     },
     "execution_count": 27,
     "metadata": {},
     "output_type": "execute_result"
    }
   ],
   "source": [
    "df['Failure Type'].value_counts()"
   ]
  },
  {
   "cell_type": "code",
   "execution_count": 28,
   "id": "e8d3352d",
   "metadata": {},
   "outputs": [],
   "source": [
    "df.drop(columns=\"Unnamed: 0\", axis=1, inplace=True)"
   ]
  },
  {
   "cell_type": "code",
   "execution_count": 29,
   "id": "7adc760c",
   "metadata": {},
   "outputs": [
    {
     "data": {
      "text/html": [
       "<div>\n",
       "<style scoped>\n",
       "    .dataframe tbody tr th:only-of-type {\n",
       "        vertical-align: middle;\n",
       "    }\n",
       "\n",
       "    .dataframe tbody tr th {\n",
       "        vertical-align: top;\n",
       "    }\n",
       "\n",
       "    .dataframe thead th {\n",
       "        text-align: right;\n",
       "    }\n",
       "</style>\n",
       "<table border=\"1\" class=\"dataframe\">\n",
       "  <thead>\n",
       "    <tr style=\"text-align: right;\">\n",
       "      <th></th>\n",
       "      <th>Air temperature [K]</th>\n",
       "      <th>Process temperature [K]</th>\n",
       "      <th>Rotational speed [rpm]</th>\n",
       "      <th>Torque [Nm]</th>\n",
       "      <th>Tool wear [min]</th>\n",
       "      <th>Type_L</th>\n",
       "      <th>Type_M</th>\n",
       "      <th>Failure Type</th>\n",
       "      <th>Split</th>\n",
       "    </tr>\n",
       "  </thead>\n",
       "  <tbody>\n",
       "    <tr>\n",
       "      <th>0</th>\n",
       "      <td>295.5</td>\n",
       "      <td>305.9</td>\n",
       "      <td>1542.0</td>\n",
       "      <td>36.2</td>\n",
       "      <td>12.0</td>\n",
       "      <td>1.0</td>\n",
       "      <td>0.0</td>\n",
       "      <td>1</td>\n",
       "      <td>train</td>\n",
       "    </tr>\n",
       "    <tr>\n",
       "      <th>1</th>\n",
       "      <td>304.0</td>\n",
       "      <td>313.2</td>\n",
       "      <td>1416.0</td>\n",
       "      <td>46.0</td>\n",
       "      <td>128.0</td>\n",
       "      <td>1.0</td>\n",
       "      <td>0.0</td>\n",
       "      <td>1</td>\n",
       "      <td>train</td>\n",
       "    </tr>\n",
       "    <tr>\n",
       "      <th>2</th>\n",
       "      <td>300.5</td>\n",
       "      <td>311.8</td>\n",
       "      <td>1591.0</td>\n",
       "      <td>42.0</td>\n",
       "      <td>182.0</td>\n",
       "      <td>0.0</td>\n",
       "      <td>1.0</td>\n",
       "      <td>1</td>\n",
       "      <td>train</td>\n",
       "    </tr>\n",
       "    <tr>\n",
       "      <th>3</th>\n",
       "      <td>302.5</td>\n",
       "      <td>312.0</td>\n",
       "      <td>1487.0</td>\n",
       "      <td>46.1</td>\n",
       "      <td>175.0</td>\n",
       "      <td>0.0</td>\n",
       "      <td>1.0</td>\n",
       "      <td>1</td>\n",
       "      <td>train</td>\n",
       "    </tr>\n",
       "    <tr>\n",
       "      <th>4</th>\n",
       "      <td>298.0</td>\n",
       "      <td>308.1</td>\n",
       "      <td>1403.0</td>\n",
       "      <td>44.8</td>\n",
       "      <td>148.0</td>\n",
       "      <td>0.0</td>\n",
       "      <td>1.0</td>\n",
       "      <td>1</td>\n",
       "      <td>train</td>\n",
       "    </tr>\n",
       "  </tbody>\n",
       "</table>\n",
       "</div>"
      ],
      "text/plain": [
       "   Air temperature [K]  Process temperature [K]  Rotational speed [rpm]  \\\n",
       "0                295.5                    305.9                  1542.0   \n",
       "1                304.0                    313.2                  1416.0   \n",
       "2                300.5                    311.8                  1591.0   \n",
       "3                302.5                    312.0                  1487.0   \n",
       "4                298.0                    308.1                  1403.0   \n",
       "\n",
       "   Torque [Nm]  Tool wear [min]  Type_L  Type_M  Failure Type  Split  \n",
       "0         36.2             12.0     1.0     0.0             1  train  \n",
       "1         46.0            128.0     1.0     0.0             1  train  \n",
       "2         42.0            182.0     0.0     1.0             1  train  \n",
       "3         46.1            175.0     0.0     1.0             1  train  \n",
       "4         44.8            148.0     0.0     1.0             1  train  "
      ]
     },
     "execution_count": 29,
     "metadata": {},
     "output_type": "execute_result"
    }
   ],
   "source": [
    "df.head()"
   ]
  },
  {
   "cell_type": "code",
   "execution_count": 40,
   "id": "5dcbd2ef",
   "metadata": {},
   "outputs": [
    {
     "data": {
      "text/plain": [
       "Index(['Air temperature [K]', 'Process temperature [K]',\n",
       "       'Rotational speed [rpm]', 'Torque [Nm]', 'Tool wear [min]', 'Type_L',\n",
       "       'Type_M', 'Failure Type', 'Split'],\n",
       "      dtype='object')"
      ]
     },
     "execution_count": 40,
     "metadata": {},
     "output_type": "execute_result"
    }
   ],
   "source": [
    "df_train.columns"
   ]
  },
  {
   "cell_type": "code",
   "execution_count": 36,
   "id": "8cb290a8",
   "metadata": {},
   "outputs": [],
   "source": [
    "df_train = df[df['Split']==\"train\"]\n",
    "df_test = df[df['Split']==\"test\"]"
   ]
  },
  {
   "cell_type": "code",
   "execution_count": 37,
   "id": "e0a5a16b",
   "metadata": {},
   "outputs": [
    {
     "data": {
      "text/plain": [
       "((40546, 9), (3000, 9))"
      ]
     },
     "execution_count": 37,
     "metadata": {},
     "output_type": "execute_result"
    }
   ],
   "source": [
    "df_train.shape, df_test.shape"
   ]
  },
  {
   "cell_type": "code",
   "execution_count": 54,
   "id": "636be337",
   "metadata": {},
   "outputs": [],
   "source": [
    "feature_col = ['Air temperature [K]', 'Process temperature [K]',\n",
    "       'Rotational speed [rpm]', 'Torque [Nm]', 'Tool wear [min]', 'Type_L',\n",
    "       'Type_M']\n",
    "\n",
    "target_col = \"Failure Type\""
   ]
  },
  {
   "cell_type": "code",
   "execution_count": 41,
   "id": "c37cf4ee",
   "metadata": {},
   "outputs": [],
   "source": [
    "X_train = df_train[['Air temperature [K]', 'Process temperature [K]',\n",
    "       'Rotational speed [rpm]', 'Torque [Nm]', 'Tool wear [min]', 'Type_L',\n",
    "       'Type_M']]\n",
    "\n",
    "X_test = df_test[['Air temperature [K]', 'Process temperature [K]',\n",
    "       'Rotational speed [rpm]', 'Torque [Nm]', 'Tool wear [min]', 'Type_L',\n",
    "       'Type_M']]"
   ]
  },
  {
   "cell_type": "code",
   "execution_count": 39,
   "id": "5076c2ef",
   "metadata": {},
   "outputs": [],
   "source": [
    "y_train = df_train['Failure Type']\n",
    "y_test = df_test['Failure Type']"
   ]
  },
  {
   "cell_type": "code",
   "execution_count": 43,
   "id": "2c2d1770",
   "metadata": {},
   "outputs": [
    {
     "data": {
      "text/plain": [
       "((40546, 7), (3000, 7), (40546,), (3000,))"
      ]
     },
     "execution_count": 43,
     "metadata": {},
     "output_type": "execute_result"
    }
   ],
   "source": [
    "X_train.shape, X_test.shape, y_train.shape, y_test.shape"
   ]
  },
  {
   "cell_type": "code",
   "execution_count": 50,
   "id": "cba9e945",
   "metadata": {},
   "outputs": [],
   "source": [
    "ro_scaler=RobustScaler()\n",
    "X_train_scaled = ro_scaler.fit_transform(X_train)\n",
    "X_test_scaled = ro_scaler.transform(X_test)"
   ]
  },
  {
   "cell_type": "code",
   "execution_count": 53,
   "id": "161b9f4a",
   "metadata": {},
   "outputs": [
    {
     "data": {
      "text/plain": [
       "(40546, 7)"
      ]
     },
     "execution_count": 53,
     "metadata": {},
     "output_type": "execute_result"
    }
   ],
   "source": [
    "X_train_scaled.shape"
   ]
  },
  {
   "cell_type": "markdown",
   "id": "7f2a7af0",
   "metadata": {},
   "source": [
    "# Gaussian Naive Bayes"
   ]
  },
  {
   "cell_type": "code",
   "execution_count": 60,
   "id": "91d71cf8",
   "metadata": {
    "scrolled": true
   },
   "outputs": [
    {
     "name": "stdout",
     "output_type": "stream",
     "text": [
      "Training Accuracy    : 78.35 %\n",
      "Model Accuracy Score : 50.17 %\n",
      "F1 Score             : 36.07 %\n",
      "\u001b[1m--------------------------------------------------------\u001b[0m\n",
      "Classification_Report: \n",
      "               precision    recall  f1-score   support\n",
      "\n",
      "           0       0.23      0.81      0.36        32\n",
      "           1       1.00      0.49      0.66      2886\n",
      "           2       0.21      0.92      0.34        26\n",
      "           3       0.10      0.76      0.18        33\n",
      "           4       0.00      0.67      0.01         6\n",
      "           5       0.03      0.35      0.06        17\n",
      "\n",
      "    accuracy                           0.50      3000\n",
      "   macro avg       0.26      0.67      0.27      3000\n",
      "weighted avg       0.96      0.50      0.64      3000\n",
      "\n",
      "\u001b[1m--------------------------------------------------------\u001b[0m\n"
     ]
    },
    {
     "data": {
      "image/png": "[encoded data removed]",
      "text/plain": [
       "<Figure size 432x288 with 2 Axes>"
      ]
     },
     "metadata": {
      "needs_background": "light"
     },
     "output_type": "display_data"
    }
   ],
   "source": [
    "gnb=GaussianNB()\n",
    "gnb.fit(X_train_scaled,y_train)\n",
    "y_pred_gnb=gnb.predict(X_test_scaled)\n",
    "\n",
    "gnb_train = round(gnb.score(X_train_scaled, y_train) * 100, 2)\n",
    "gnb_accuracy = round(accuracy_score(y_pred_gnb, y_test) * 100, 2)\n",
    "gnb_f1score = round(f1_score(y_pred_gnb, y_test, average=\"weighted\")*100, 2)\n",
    "\n",
    "print(\"Training Accuracy    :\",gnb_train ,\"%\")\n",
    "print(\"Model Accuracy Score :\",gnb_accuracy ,\"%\")\n",
    "print(\"F1 Score             :\",gnb_f1score, \"%\")\n",
    "print(\"\\033[1m--------------------------------------------------------\\033[0m\")\n",
    "print(\"Classification_Report: \\n\",classification_report(y_test,y_pred_gnb))\n",
    "print(\"\\033[1m--------------------------------------------------------\\033[0m\")\n",
    "plot_confusion_matrix(gnb, X_test_scaled, y_test);"
   ]
  },
  {
   "cell_type": "markdown",
   "id": "a6c61f25",
   "metadata": {},
   "source": [
    "# Support Vector Machine"
   ]
  },
  {
   "cell_type": "code",
   "execution_count": 61,
   "id": "e64fa264",
   "metadata": {},
   "outputs": [
    {
     "name": "stdout",
     "output_type": "stream",
     "text": [
      "Training Accuracy    : 93.4 %\n",
      "Model Accuracy Score : 70.3 %\n",
      "F1 Score             : 59.95 %\n",
      "\u001b[1m--------------------------------------------------------\u001b[0m\n",
      "Classification_Report: \n",
      "               precision    recall  f1-score   support\n",
      "\n",
      "           0       0.30      0.94      0.46        32\n",
      "           1       1.00      0.70      0.82      2886\n",
      "           2       0.48      0.96      0.64        26\n",
      "           3       0.45      0.91      0.61        33\n",
      "           4       0.00      0.00      0.00         6\n",
      "           5       0.07      0.88      0.13        17\n",
      "\n",
      "    accuracy                           0.70      3000\n",
      "   macro avg       0.38      0.73      0.44      3000\n",
      "weighted avg       0.97      0.70      0.81      3000\n",
      "\n",
      "\u001b[1m--------------------------------------------------------\u001b[0m\n"
     ]
    },
    {
     "data": {
      "image/png": "[encoded data removed]",
      "text/plain": [
       "<Figure size 432x288 with 2 Axes>"
      ]
     },
     "metadata": {
      "needs_background": "light"
     },
     "output_type": "display_data"
    }
   ],
   "source": [
    "svc=SVC(kernel=\"linear\")\n",
    "svc.fit(X_train_scaled,y_train)\n",
    "y_pred_svc=svc.predict(X_test_scaled)\n",
    "\n",
    "svc_train = round(svc.score(X_train_scaled, y_train) * 100, 2)\n",
    "svc_accuracy = round(accuracy_score(y_pred_svc, y_test) * 100, 2)\n",
    "svc_f1score = round(f1_score(y_pred_svc, y_test, average=\"weighted\")*100, 2)\n",
    "\n",
    "print(\"Training Accuracy    :\",svc_train ,\"%\")\n",
    "print(\"Model Accuracy Score :\",svc_accuracy ,\"%\")\n",
    "print(\"F1 Score             :\",svc_f1score, \"%\")\n",
    "print(\"\\033[1m--------------------------------------------------------\\033[0m\")\n",
    "print(\"Classification_Report: \\n\",classification_report(y_test,y_pred_svc))\n",
    "print(\"\\033[1m--------------------------------------------------------\\033[0m\")\n",
    "plot_confusion_matrix(svc, X_test_scaled, y_test);"
   ]
  },
  {
   "cell_type": "code",
   "execution_count": 62,
   "id": "87249a91",
   "metadata": {},
   "outputs": [
    {
     "name": "stdout",
     "output_type": "stream",
     "text": [
      "Training Accuracy    : 89.54 %\n",
      "Model Accuracy Score : 73.93 %\n",
      "F1 Score             : 64.81 %\n",
      "\u001b[1m--------------------------------------------------------\u001b[0m\n",
      "Classification_Report: \n",
      "               precision    recall  f1-score   support\n",
      "\n",
      "           0       0.29      0.81      0.43        32\n",
      "           1       0.99      0.74      0.85      2886\n",
      "           2       0.11      0.92      0.20        26\n",
      "           3       0.62      0.73      0.67        33\n",
      "           4       0.00      0.00      0.00         6\n",
      "           5       0.05      0.47      0.10        17\n",
      "\n",
      "    accuracy                           0.74      3000\n",
      "   macro avg       0.34      0.61      0.37      3000\n",
      "weighted avg       0.97      0.74      0.83      3000\n",
      "\n",
      "\u001b[1m--------------------------------------------------------\u001b[0m\n"
     ]
    },
    {
     "data": {
      "image/png": "[encoded data removed]",
      "text/plain": [
       "<Figure size 432x288 with 2 Axes>"
      ]
     },
     "metadata": {
      "needs_background": "light"
     },
     "output_type": "display_data"
    }
   ],
   "source": [
    "svc_p=SVC(kernel=\"poly\")\n",
    "svc_p.fit(X_train_scaled,y_train)\n",
    "y_pred_svc_p=svc_p.predict(X_test_scaled)\n",
    "\n",
    "svc_p_train = round(svc_p.score(X_train_scaled, y_train) * 100, 2)\n",
    "svc_p_accuracy = round(accuracy_score(y_pred_svc_p, y_test) * 100, 2)\n",
    "svc_p_f1score = round(f1_score(y_pred_svc_p, y_test, average=\"weighted\")*100, 2)\n",
    "\n",
    "print(\"Training Accuracy    :\",svc_p_train ,\"%\")\n",
    "print(\"Model Accuracy Score :\",svc_p_accuracy ,\"%\")\n",
    "print(\"F1 Score             :\",svc_p_f1score, \"%\")\n",
    "print(\"\\033[1m--------------------------------------------------------\\033[0m\")\n",
    "print(\"Classification_Report: \\n\",classification_report(y_test,y_pred_svc_p))\n",
    "print(\"\\033[1m--------------------------------------------------------\\033[0m\")\n",
    "plot_confusion_matrix(svc_p, X_test_scaled, y_test);"
   ]
  },
  {
   "cell_type": "markdown",
   "id": "a235fa7f",
   "metadata": {},
   "source": [
    "# Logistics Regression"
   ]
  },
  {
   "cell_type": "code",
   "execution_count": 65,
   "id": "caa14595",
   "metadata": {
    "scrolled": true
   },
   "outputs": [
    {
     "name": "stdout",
     "output_type": "stream",
     "text": [
      "Training Accuracy    : 92.45 %\n",
      "Model Accuracy Score : 67.73 %\n",
      "F1 Score             : 56.7 %\n",
      "\u001b[1m--------------------------------------------------------\u001b[0m\n",
      "Classification_Report: \n",
      "               precision    recall  f1-score   support\n",
      "\n",
      "           0       0.28      0.84      0.42        32\n",
      "           1       1.00      0.67      0.80      2886\n",
      "           2       0.43      0.96      0.60        26\n",
      "           3       0.42      0.94      0.58        33\n",
      "           4       0.00      0.00      0.00         6\n",
      "           5       0.06      0.94      0.12        17\n",
      "\n",
      "    accuracy                           0.68      3000\n",
      "   macro avg       0.36      0.73      0.42      3000\n",
      "weighted avg       0.97      0.68      0.79      3000\n",
      "\n",
      "\u001b[1m--------------------------------------------------------\u001b[0m\n"
     ]
    },
    {
     "data": {
      "image/png": "[encoded data removed]",
      "text/plain": [
       "<Figure size 432x288 with 2 Axes>"
      ]
     },
     "metadata": {
      "needs_background": "light"
     },
     "output_type": "display_data"
    }
   ],
   "source": [
    "log_reg=LogisticRegression()\n",
    "log_reg.fit(X_train_scaled,y_train)\n",
    "y_pred_log=log_reg.predict(X_test_scaled)\n",
    "\n",
    "log_train = round(log_reg.score(X_train_scaled, y_train) * 100, 2)\n",
    "log_accuracy = round(accuracy_score(y_pred_log, y_test) * 100, 2)\n",
    "log_f1score = round(f1_score(y_pred_log, y_test, average=\"weighted\")*100, 2)\n",
    "\n",
    "print(\"Training Accuracy    :\",log_train ,\"%\")\n",
    "print(\"Model Accuracy Score :\",log_accuracy ,\"%\")\n",
    "print(\"F1 Score             :\",log_f1score, \"%\")\n",
    "print(\"\\033[1m--------------------------------------------------------\\033[0m\")\n",
    "print(\"Classification_Report: \\n\",classification_report(y_test,y_pred_log))\n",
    "print(\"\\033[1m--------------------------------------------------------\\033[0m\")\n",
    "plot_confusion_matrix(log_reg, X_test_scaled, y_test);"
   ]
  },
  {
   "cell_type": "markdown",
   "id": "8d3c788c",
   "metadata": {},
   "source": [
    "# Decision Tree"
   ]
  },
  {
   "cell_type": "code",
   "execution_count": 67,
   "id": "b7ca517d",
   "metadata": {},
   "outputs": [
    {
     "name": "stdout",
     "output_type": "stream",
     "text": [
      "Training Accuracy    : 100.0 %\n",
      "Model Accuracy Score : 96.37 %\n",
      "F1 Score             : 95.96 %\n",
      "\u001b[1m--------------------------------------------------------\u001b[0m\n",
      "Classification_Report: \n",
      "               precision    recall  f1-score   support\n",
      "\n",
      "           0       0.76      0.88      0.81        32\n",
      "           1       0.99      0.98      0.98      2886\n",
      "           2       0.65      0.77      0.70        26\n",
      "           3       0.71      0.61      0.66        33\n",
      "           4       0.00      0.00      0.00         6\n",
      "           5       0.11      0.18      0.13        17\n",
      "\n",
      "    accuracy                           0.96      3000\n",
      "   macro avg       0.54      0.57      0.55      3000\n",
      "weighted avg       0.97      0.96      0.97      3000\n",
      "\n",
      "\u001b[1m--------------------------------------------------------\u001b[0m\n"
     ]
    },
    {
     "data": {
      "image/png": "[encoded data removed]",
      "text/plain": [
       "<Figure size 432x288 with 2 Axes>"
      ]
     },
     "metadata": {
      "needs_background": "light"
     },
     "output_type": "display_data"
    }
   ],
   "source": [
    "decision = DecisionTreeClassifier()\n",
    "decision.fit(X_train_scaled, y_train)\n",
    "y_pred_dec = decision.predict(X_test_scaled)\n",
    "\n",
    "decision_train = round(decision.score(X_train_scaled, y_train) * 100, 2)\n",
    "decision_accuracy = round(accuracy_score(y_pred_dec, y_test) * 100, 2)\n",
    "decision_f1score = round(f1_score(y_pred_dec, y_test,average=\"weighted\")*100, 2)\n",
    "\n",
    "print(\"Training Accuracy    :\",decision_train ,\"%\")\n",
    "print(\"Model Accuracy Score :\",decision_accuracy ,\"%\")\n",
    "print(\"F1 Score             :\",decision_f1score, \"%\")\n",
    "print(\"\\033[1m--------------------------------------------------------\\033[0m\")\n",
    "print(\"Classification_Report: \\n\",classification_report(y_test,y_pred_dec))\n",
    "print(\"\\033[1m--------------------------------------------------------\\033[0m\")\n",
    "plot_confusion_matrix(decision, X_test_scaled, y_test);\n",
    "plt.title('Confusion Matrix');"
   ]
  },
  {
   "cell_type": "markdown",
   "id": "7598e438",
   "metadata": {},
   "source": [
    "# Random Forest Classifier"
   ]
  },
  {
   "cell_type": "code",
   "execution_count": 68,
   "id": "aad604bd",
   "metadata": {
    "scrolled": true
   },
   "outputs": [
    {
     "name": "stdout",
     "output_type": "stream",
     "text": [
      "Training Accuracy    : 100.0 %\n",
      "Model Accuracy Score : 97.07 %\n",
      "F1 Score             : 97.0 %\n",
      "\u001b[1m--------------------------------------------------------\u001b[0m\n",
      "Classification_Report: \n",
      "               precision    recall  f1-score   support\n",
      "\n",
      "           0       0.73      0.84      0.78        32\n",
      "           1       0.99      0.98      0.99      2886\n",
      "           2       0.72      0.81      0.76        26\n",
      "           3       0.68      0.76      0.71        33\n",
      "           4       0.00      0.00      0.00         6\n",
      "           5       0.09      0.06      0.07        17\n",
      "\n",
      "    accuracy                           0.97      3000\n",
      "   macro avg       0.53      0.58      0.55      3000\n",
      "weighted avg       0.97      0.97      0.97      3000\n",
      "\n",
      "\u001b[1m--------------------------------------------------------\u001b[0m\n"
     ]
    },
    {
     "data": {
      "image/png": "[encoded data removed]",
      "text/plain": [
       "<Figure size 432x288 with 2 Axes>"
      ]
     },
     "metadata": {
      "needs_background": "light"
     },
     "output_type": "display_data"
    }
   ],
   "source": [
    "# Random Forest\n",
    "random_forest = RandomForestClassifier(n_estimators=100)\n",
    "random_forest.fit(X_train_scaled, y_train)\n",
    "y_pred_rf = random_forest.predict(X_test_scaled)\n",
    "random_forest.score(X_train_scaled, y_train)\n",
    "\n",
    "random_forest_train = round(random_forest.score(X_train_scaled, y_train) * 100, 2)\n",
    "random_forest_accuracy = round(accuracy_score(y_pred_rf, y_test) * 100, 2)\n",
    "random_forest_f1score = round(f1_score(y_pred_rf, y_test,average=\"weighted\")*100, 2)\n",
    "\n",
    "print(\"Training Accuracy    :\",random_forest_train ,\"%\")\n",
    "print(\"Model Accuracy Score :\",random_forest_accuracy ,\"%\")\n",
    "print(\"F1 Score             :\",random_forest_f1score, \"%\")\n",
    "print(\"\\033[1m--------------------------------------------------------\\033[0m\")\n",
    "print(\"Classification_Report: \\n\",classification_report(y_test,y_pred_rf))\n",
    "print(\"\\033[1m--------------------------------------------------------\\033[0m\")\n",
    "plot_confusion_matrix(random_forest, X_test_scaled, y_test);\n",
    "plt.title('Confusion Matrix');"
   ]
  },
  {
   "cell_type": "markdown",
   "id": "9bb28538",
   "metadata": {},
   "source": [
    "# Model building"
   ]
  },
  {
   "cell_type": "code",
   "execution_count": 71,
   "id": "0509ff50",
   "metadata": {},
   "outputs": [],
   "source": [
    "models = pd.DataFrame({\n",
    "    'Model': [\n",
    "         'Logistic Regression','Linear SVM','Polynomial SVM','Decision Tree', 'Random Forest','GuassianNB'],\n",
    "    \n",
    "    'Training Accuracy': [log_train, svc_train,svc_p_train, decision_train, random_forest_train, gnb_train],\n",
    "    \n",
    "    'Model Accuracy Score': [log_accuracy, svc_accuracy,svc_p_accuracy, decision_accuracy, random_forest_accuracy, gnb_accuracy],\n",
    "    \n",
    "    'Model F1 Score': [log_f1score , svc_f1score, svc_p_f1score,decision_f1score, random_forest_f1score, gnb_f1score]\n",
    "})"
   ]
  },
  {
   "cell_type": "code",
   "execution_count": 72,
   "id": "246402ea",
   "metadata": {},
   "outputs": [
    {
     "data": {
      "text/html": [
       "<style  type=\"text/css\" >\n",
       "#T_cd3ba1a8_81ff_11ed_b6db_da4626608ca6row0_col0,#T_cd3ba1a8_81ff_11ed_b6db_da4626608ca6row1_col0,#T_cd3ba1a8_81ff_11ed_b6db_da4626608ca6row2_col0,#T_cd3ba1a8_81ff_11ed_b6db_da4626608ca6row3_col0,#T_cd3ba1a8_81ff_11ed_b6db_da4626608ca6row4_col0,#T_cd3ba1a8_81ff_11ed_b6db_da4626608ca6row5_col0{\n",
       "            font-family:  Lucida Calligraphy;\n",
       "            color:  LigntGreen;\n",
       "            font-size:  15px;\n",
       "        }#T_cd3ba1a8_81ff_11ed_b6db_da4626608ca6row0_col1,#T_cd3ba1a8_81ff_11ed_b6db_da4626608ca6row0_col2,#T_cd3ba1a8_81ff_11ed_b6db_da4626608ca6row0_col3,#T_cd3ba1a8_81ff_11ed_b6db_da4626608ca6row1_col1{\n",
       "            background-color:  #b40426;\n",
       "            color:  #f1f1f1;\n",
       "            font-family:  Lucida Calligraphy;\n",
       "            color:  LigntGreen;\n",
       "            font-size:  15px;\n",
       "        }#T_cd3ba1a8_81ff_11ed_b6db_da4626608ca6row1_col2{\n",
       "            background-color:  #b8122a;\n",
       "            color:  #f1f1f1;\n",
       "            font-family:  Lucida Calligraphy;\n",
       "            color:  LigntGreen;\n",
       "            font-size:  15px;\n",
       "        }#T_cd3ba1a8_81ff_11ed_b6db_da4626608ca6row1_col3{\n",
       "            background-color:  #ba162b;\n",
       "            color:  #f1f1f1;\n",
       "            font-family:  Lucida Calligraphy;\n",
       "            color:  LigntGreen;\n",
       "            font-size:  15px;\n",
       "        }#T_cd3ba1a8_81ff_11ed_b6db_da4626608ca6row2_col1{\n",
       "            background-color:  #e1dad6;\n",
       "            color:  #000000;\n",
       "            font-family:  Lucida Calligraphy;\n",
       "            color:  LigntGreen;\n",
       "            font-size:  15px;\n",
       "        }#T_cd3ba1a8_81ff_11ed_b6db_da4626608ca6row2_col2{\n",
       "            background-color:  #dedcdb;\n",
       "            color:  #000000;\n",
       "            font-family:  Lucida Calligraphy;\n",
       "            color:  LigntGreen;\n",
       "            font-size:  15px;\n",
       "        }#T_cd3ba1a8_81ff_11ed_b6db_da4626608ca6row2_col3{\n",
       "            background-color:  #d5dbe5;\n",
       "            color:  #000000;\n",
       "            font-family:  Lucida Calligraphy;\n",
       "            color:  LigntGreen;\n",
       "            font-size:  15px;\n",
       "        }#T_cd3ba1a8_81ff_11ed_b6db_da4626608ca6row3_col1{\n",
       "            background-color:  #f7af91;\n",
       "            color:  #000000;\n",
       "            font-family:  Lucida Calligraphy;\n",
       "            color:  LigntGreen;\n",
       "            font-size:  15px;\n",
       "        }#T_cd3ba1a8_81ff_11ed_b6db_da4626608ca6row3_col2{\n",
       "            background-color:  #c9d7f0;\n",
       "            color:  #000000;\n",
       "            font-family:  Lucida Calligraphy;\n",
       "            color:  LigntGreen;\n",
       "            font-size:  15px;\n",
       "        }#T_cd3ba1a8_81ff_11ed_b6db_da4626608ca6row3_col3{\n",
       "            background-color:  #bed2f6;\n",
       "            color:  #000000;\n",
       "            font-family:  Lucida Calligraphy;\n",
       "            color:  LigntGreen;\n",
       "            font-size:  15px;\n",
       "        }#T_cd3ba1a8_81ff_11ed_b6db_da4626608ca6row4_col1{\n",
       "            background-color:  #f6bda2;\n",
       "            color:  #000000;\n",
       "            font-family:  Lucida Calligraphy;\n",
       "            color:  LigntGreen;\n",
       "            font-size:  15px;\n",
       "        }#T_cd3ba1a8_81ff_11ed_b6db_da4626608ca6row4_col2{\n",
       "            background-color:  #b7cff9;\n",
       "            color:  #000000;\n",
       "            font-family:  Lucida Calligraphy;\n",
       "            color:  LigntGreen;\n",
       "            font-size:  15px;\n",
       "        }#T_cd3ba1a8_81ff_11ed_b6db_da4626608ca6row4_col3{\n",
       "            background-color:  #abc8fd;\n",
       "            color:  #000000;\n",
       "            font-family:  Lucida Calligraphy;\n",
       "            color:  LigntGreen;\n",
       "            font-size:  15px;\n",
       "        }#T_cd3ba1a8_81ff_11ed_b6db_da4626608ca6row5_col1,#T_cd3ba1a8_81ff_11ed_b6db_da4626608ca6row5_col2,#T_cd3ba1a8_81ff_11ed_b6db_da4626608ca6row5_col3{\n",
       "            background-color:  #3b4cc0;\n",
       "            color:  #f1f1f1;\n",
       "            font-family:  Lucida Calligraphy;\n",
       "            color:  LigntGreen;\n",
       "            font-size:  15px;\n",
       "        }</style><table id=\"T_cd3ba1a8_81ff_11ed_b6db_da4626608ca6\" ><thead>    <tr>        <th class=\"col_heading level0 col0\" >Model</th>        <th class=\"col_heading level0 col1\" >Training Accuracy</th>        <th class=\"col_heading level0 col2\" >Model Accuracy Score</th>        <th class=\"col_heading level0 col3\" >Model F1 Score</th>    </tr></thead><tbody>\n",
       "                <tr>\n",
       "                                <td id=\"T_cd3ba1a8_81ff_11ed_b6db_da4626608ca6row0_col0\" class=\"data row0 col0\" >Random Forest</td>\n",
       "                        <td id=\"T_cd3ba1a8_81ff_11ed_b6db_da4626608ca6row0_col1\" class=\"data row0 col1\" >100.00</td>\n",
       "                        <td id=\"T_cd3ba1a8_81ff_11ed_b6db_da4626608ca6row0_col2\" class=\"data row0 col2\" >97.07</td>\n",
       "                        <td id=\"T_cd3ba1a8_81ff_11ed_b6db_da4626608ca6row0_col3\" class=\"data row0 col3\" >97.00</td>\n",
       "            </tr>\n",
       "            <tr>\n",
       "                                <td id=\"T_cd3ba1a8_81ff_11ed_b6db_da4626608ca6row1_col0\" class=\"data row1 col0\" >Decision Tree</td>\n",
       "                        <td id=\"T_cd3ba1a8_81ff_11ed_b6db_da4626608ca6row1_col1\" class=\"data row1 col1\" >100.00</td>\n",
       "                        <td id=\"T_cd3ba1a8_81ff_11ed_b6db_da4626608ca6row1_col2\" class=\"data row1 col2\" >96.37</td>\n",
       "                        <td id=\"T_cd3ba1a8_81ff_11ed_b6db_da4626608ca6row1_col3\" class=\"data row1 col3\" >95.96</td>\n",
       "            </tr>\n",
       "            <tr>\n",
       "                                <td id=\"T_cd3ba1a8_81ff_11ed_b6db_da4626608ca6row2_col0\" class=\"data row2 col0\" >Polynomial SVM</td>\n",
       "                        <td id=\"T_cd3ba1a8_81ff_11ed_b6db_da4626608ca6row2_col1\" class=\"data row2 col1\" >89.54</td>\n",
       "                        <td id=\"T_cd3ba1a8_81ff_11ed_b6db_da4626608ca6row2_col2\" class=\"data row2 col2\" >73.93</td>\n",
       "                        <td id=\"T_cd3ba1a8_81ff_11ed_b6db_da4626608ca6row2_col3\" class=\"data row2 col3\" >64.81</td>\n",
       "            </tr>\n",
       "            <tr>\n",
       "                                <td id=\"T_cd3ba1a8_81ff_11ed_b6db_da4626608ca6row3_col0\" class=\"data row3 col0\" >Linear SVM</td>\n",
       "                        <td id=\"T_cd3ba1a8_81ff_11ed_b6db_da4626608ca6row3_col1\" class=\"data row3 col1\" >93.40</td>\n",
       "                        <td id=\"T_cd3ba1a8_81ff_11ed_b6db_da4626608ca6row3_col2\" class=\"data row3 col2\" >70.30</td>\n",
       "                        <td id=\"T_cd3ba1a8_81ff_11ed_b6db_da4626608ca6row3_col3\" class=\"data row3 col3\" >59.95</td>\n",
       "            </tr>\n",
       "            <tr>\n",
       "                                <td id=\"T_cd3ba1a8_81ff_11ed_b6db_da4626608ca6row4_col0\" class=\"data row4 col0\" >Logistic Regression</td>\n",
       "                        <td id=\"T_cd3ba1a8_81ff_11ed_b6db_da4626608ca6row4_col1\" class=\"data row4 col1\" >92.45</td>\n",
       "                        <td id=\"T_cd3ba1a8_81ff_11ed_b6db_da4626608ca6row4_col2\" class=\"data row4 col2\" >67.73</td>\n",
       "                        <td id=\"T_cd3ba1a8_81ff_11ed_b6db_da4626608ca6row4_col3\" class=\"data row4 col3\" >56.70</td>\n",
       "            </tr>\n",
       "            <tr>\n",
       "                                <td id=\"T_cd3ba1a8_81ff_11ed_b6db_da4626608ca6row5_col0\" class=\"data row5 col0\" >GuassianNB</td>\n",
       "                        <td id=\"T_cd3ba1a8_81ff_11ed_b6db_da4626608ca6row5_col1\" class=\"data row5 col1\" >78.35</td>\n",
       "                        <td id=\"T_cd3ba1a8_81ff_11ed_b6db_da4626608ca6row5_col2\" class=\"data row5 col2\" >50.17</td>\n",
       "                        <td id=\"T_cd3ba1a8_81ff_11ed_b6db_da4626608ca6row5_col3\" class=\"data row5 col3\" >36.07</td>\n",
       "            </tr>\n",
       "    </tbody></table>"
      ],
      "text/plain": [
       "<pandas.io.formats.style.Styler at 0x7fcf0107fb00>"
      ]
     },
     "execution_count": 72,
     "metadata": {},
     "output_type": "execute_result"
    }
   ],
   "source": [
    "pd.set_option('precision',2)\n",
    "models.sort_values(by='Model F1 Score', ascending=False).style.background_gradient(\n",
    "        cmap='coolwarm').hide_index().set_properties(**{\n",
    "            'font-family': 'Lucida Calligraphy',\n",
    "            'color': 'LigntGreen',\n",
    "            'font-size': '15px'\n",
    "        })"
   ]
  },
  {
   "cell_type": "code",
   "execution_count": 84,
   "id": "4bf34eb3",
   "metadata": {},
   "outputs": [],
   "source": [
    "#Model function\n",
    "def model(algorithm,dtrain_X,dtrain_Y,dtest_X,dtest_Y,cols=None):\n",
    "\n",
    "    algorithm.fit(dtrain_X,dtrain_Y)\n",
    "    predictions = algorithm.predict(dtest_X)\n",
    "    print (algorithm)\n",
    "    \n",
    "    print (\"Accuracy score : \", accuracy_score(predictions,dtest_Y))\n",
    "    print (\"Recall score   : \", recall_score(predictions,dtest_Y, average=\"weighted\"))\n",
    "    print (\"classification report :\\n\",classification_report(predictions,dtest_Y))\n",
    "    \n",
    "    fig = plt.figure(figsize=(10,8))\n",
    "    ax  = fig.add_subplot(111)\n",
    "    prediction_probabilities = algorithm.predict_proba(dtest_X)[:,1]\n",
    "    #fpr , tpr , thresholds   = roc_curve(dtest_Y,prediction_probabilities)\n",
    "    #ax.plot(fpr,tpr,label   = [\"Area under curve : \",auc(fpr,tpr)],linewidth=2,linestyle=\"dotted\")\n",
    "    #ax.plot([0,1],[0,1],linewidth=2,linestyle=\"dashed\")\n",
    "    #plt.legend(loc=\"best\")\n",
    "    #plt.title(\"ROC-CURVE & AREA UNDER CURVE\")\n",
    "    #ax.set_facecolor(\"k\")\n",
    "    return predictions,prediction_probabilities,algorithm"
   ]
  },
  {
   "cell_type": "code",
   "execution_count": 85,
   "id": "5bd98ab0",
   "metadata": {
    "scrolled": true
   },
   "outputs": [
    {
     "name": "stdout",
     "output_type": "stream",
     "text": [
      "RandomForestClassifier()\n",
      "Accuracy score :  0.9726666666666667\n",
      "Recall score   :  0.9726666666666667\n",
      "classification report :\n",
      "               precision    recall  f1-score   support\n",
      "\n",
      "           0       0.81      0.79      0.80        33\n",
      "           1       0.99      0.99      0.99      2878\n",
      "           2       0.88      0.70      0.78        33\n",
      "           3       0.70      0.68      0.69        34\n",
      "           4       0.00      0.00      0.00        11\n",
      "           5       0.12      0.18      0.14        11\n",
      "\n",
      "    accuracy                           0.97      3000\n",
      "   macro avg       0.58      0.56      0.57      3000\n",
      "weighted avg       0.97      0.97      0.97      3000\n",
      "\n"
     ]
    },
    {
     "data": {
      "image/png": "[encoded data removed]",
      "text/plain": [
       "<Figure size 720x576 with 1 Axes>"
      ]
     },
     "metadata": {
      "needs_background": "light"
     },
     "output_type": "display_data"
    }
   ],
   "source": [
    "rfc =  RandomForestClassifier(n_estimators=100)\n",
    "\n",
    "y_pred,y_prob,model_obj=model(rfc,X_train_scaled,y_train,X_test_scaled,y_test,feature_col)"
   ]
  },
  {
   "cell_type": "code",
   "execution_count": 93,
   "id": "5ebedfd9",
   "metadata": {},
   "outputs": [
    {
     "data": {
      "text/plain": [
       "array([1, 1, 1, ..., 1, 1, 1])"
      ]
     },
     "execution_count": 93,
     "metadata": {},
     "output_type": "execute_result"
    }
   ],
   "source": [
    "y_pred"
   ]
  },
  {
   "cell_type": "code",
   "execution_count": 87,
   "id": "33e33dc8",
   "metadata": {
    "scrolled": true
   },
   "outputs": [
    {
     "data": {
      "text/plain": [
       "array([1.  , 1.  , 0.97, ..., 1.  , 0.99, 1.  ])"
      ]
     },
     "execution_count": 87,
     "metadata": {},
     "output_type": "execute_result"
    }
   ],
   "source": [
    "y_prob"
   ]
  },
  {
   "cell_type": "code",
   "execution_count": 94,
   "id": "9cf0cb19",
   "metadata": {},
   "outputs": [
    {
     "data": {
      "text/plain": [
       "array([[-1.83162007, -2.77798516,  0.75994095, ..., -1.31462043,\n",
       "         0.00984974,  0.        ],\n",
       "       [ 1.1893074 ,  1.65586684,  0.09499262, ..., -0.31426488,\n",
       "         0.00984974,  0.        ],\n",
       "       [-0.05460391,  0.80553906,  1.01853197, ...,  0.15141788,\n",
       "        -1.32329269,  2.25236358],\n",
       "       ...,\n",
       "       [-0.95921981, -0.83506461,  2.4180644 , ...,  0.3304651 ,\n",
       "         0.00984974,  0.        ],\n",
       "       [-0.42572876,  0.02350459,  2.02208633, ...,  0.48988986,\n",
       "        -0.21746347,  0.384049  ],\n",
       "       [ 0.47542623,  0.33287721,  0.83241855, ...,  0.40899677,\n",
       "         0.00984974,  0.        ]])"
      ]
     },
     "execution_count": 94,
     "metadata": {},
     "output_type": "execute_result"
    }
   ],
   "source": [
    "X_train_scaled"
   ]
  },
  {
   "cell_type": "code",
   "execution_count": 95,
   "id": "22c6d81c",
   "metadata": {},
   "outputs": [
    {
     "data": {
      "text/html": [
       "<div>\n",
       "<style scoped>\n",
       "    .dataframe tbody tr th:only-of-type {\n",
       "        vertical-align: middle;\n",
       "    }\n",
       "\n",
       "    .dataframe tbody tr th {\n",
       "        vertical-align: top;\n",
       "    }\n",
       "\n",
       "    .dataframe thead th {\n",
       "        text-align: right;\n",
       "    }\n",
       "</style>\n",
       "<table border=\"1\" class=\"dataframe\">\n",
       "  <thead>\n",
       "    <tr style=\"text-align: right;\">\n",
       "      <th></th>\n",
       "      <th>Air temperature [K]</th>\n",
       "      <th>Process temperature [K]</th>\n",
       "      <th>Rotational speed [rpm]</th>\n",
       "      <th>Torque [Nm]</th>\n",
       "      <th>Tool wear [min]</th>\n",
       "      <th>Type_L</th>\n",
       "      <th>Type_M</th>\n",
       "    </tr>\n",
       "  </thead>\n",
       "  <tbody>\n",
       "    <tr>\n",
       "      <th>0</th>\n",
       "      <td>295.5</td>\n",
       "      <td>305.9</td>\n",
       "      <td>1542.0</td>\n",
       "      <td>36.2</td>\n",
       "      <td>12.0</td>\n",
       "      <td>1.0</td>\n",
       "      <td>0.0</td>\n",
       "    </tr>\n",
       "    <tr>\n",
       "      <th>1</th>\n",
       "      <td>304.0</td>\n",
       "      <td>313.2</td>\n",
       "      <td>1416.0</td>\n",
       "      <td>46.0</td>\n",
       "      <td>128.0</td>\n",
       "      <td>1.0</td>\n",
       "      <td>0.0</td>\n",
       "    </tr>\n",
       "    <tr>\n",
       "      <th>2</th>\n",
       "      <td>300.5</td>\n",
       "      <td>311.8</td>\n",
       "      <td>1591.0</td>\n",
       "      <td>42.0</td>\n",
       "      <td>182.0</td>\n",
       "      <td>0.0</td>\n",
       "      <td>1.0</td>\n",
       "    </tr>\n",
       "    <tr>\n",
       "      <th>3</th>\n",
       "      <td>302.5</td>\n",
       "      <td>312.0</td>\n",
       "      <td>1487.0</td>\n",
       "      <td>46.1</td>\n",
       "      <td>175.0</td>\n",
       "      <td>0.0</td>\n",
       "      <td>1.0</td>\n",
       "    </tr>\n",
       "    <tr>\n",
       "      <th>4</th>\n",
       "      <td>298.0</td>\n",
       "      <td>308.1</td>\n",
       "      <td>1403.0</td>\n",
       "      <td>44.8</td>\n",
       "      <td>148.0</td>\n",
       "      <td>0.0</td>\n",
       "      <td>1.0</td>\n",
       "    </tr>\n",
       "  </tbody>\n",
       "</table>\n",
       "</div>"
      ],
      "text/plain": [
       "   Air temperature [K]  Process temperature [K]  Rotational speed [rpm]  \\\n",
       "0                295.5                    305.9                  1542.0   \n",
       "1                304.0                    313.2                  1416.0   \n",
       "2                300.5                    311.8                  1591.0   \n",
       "3                302.5                    312.0                  1487.0   \n",
       "4                298.0                    308.1                  1403.0   \n",
       "\n",
       "   Torque [Nm]  Tool wear [min]  Type_L  Type_M  \n",
       "0         36.2             12.0     1.0     0.0  \n",
       "1         46.0            128.0     1.0     0.0  \n",
       "2         42.0            182.0     0.0     1.0  \n",
       "3         46.1            175.0     0.0     1.0  \n",
       "4         44.8            148.0     0.0     1.0  "
      ]
     },
     "execution_count": 95,
     "metadata": {},
     "output_type": "execute_result"
    }
   ],
   "source": [
    "X_train.head()"
   ]
  },
  {
   "cell_type": "code",
   "execution_count": 97,
   "id": "1ee88d3b",
   "metadata": {},
   "outputs": [],
   "source": [
    "from mosaicml import *\n",
    "from mosaicml.constants import MLModelFlavours"
   ]
  },
  {
   "cell_type": "code",
   "execution_count": 112,
   "id": "ca95755e",
   "metadata": {},
   "outputs": [],
   "source": [
    "@scoring_func\n",
    "def score(model, request):\n",
    "    payload = request.json[\"payload\"]\n",
    "    print(payload)\n",
    "    data = pd.DataFrame(eval(payload))\n",
    "    data = ro_scaler.transform(data)\n",
    "    print(data)\n",
    "    prediction = model.predict(data)[0]\n",
    "    print(prediction)\n",
    "    if prediction == 0:\n",
    "        message = \"Heat Dissipation Failure\"\n",
    "    elif prediction == 1:\n",
    "        message = \"No Failure\"\n",
    "    elif prediction == 2:\n",
    "        message = \"Overstrain Failure\"\n",
    "    elif prediction == 3:\n",
    "        message = \"Power Failure\"\n",
    "    elif prediction == 4:\n",
    "        message = \"Random Failure\"\n",
    "    else:\n",
    "        message = \"Tool wear Failure\"\n",
    "    return message"
   ]
  },
  {
   "cell_type": "code",
   "execution_count": 99,
   "id": "7691f166",
   "metadata": {},
   "outputs": [],
   "source": [
    "import requests\n",
    "req = requests.Request()\n",
    "#req.json = {\"payload\":train_X.head(1).to_numpy()}\n",
    "req.json = {\"payload\":X_train.head(1).to_json()}"
   ]
  },
  {
   "cell_type": "code",
   "execution_count": 100,
   "id": "05f2f8de",
   "metadata": {
    "scrolled": true
   },
   "outputs": [
    {
     "data": {
      "text/plain": [
       "{'payload': '{\"Air temperature [K]\":{\"0\":295.5},\"Process temperature [K]\":{\"0\":305.9},\"Rotational speed [rpm]\":{\"0\":1542.0},\"Torque [Nm]\":{\"0\":36.2},\"Tool wear [min]\":{\"0\":12.0},\"Type_L\":{\"0\":1.0},\"Type_M\":{\"0\":0.0}}'}"
      ]
     },
     "execution_count": 100,
     "metadata": {},
     "output_type": "execute_result"
    }
   ],
   "source": [
    "req.json"
   ]
  },
  {
   "cell_type": "markdown",
   "id": "5b2af0ad",
   "metadata": {},
   "source": [
    "## Payload\n",
    "\n",
    "{'payload': '{\"Air temperature [\\\\u00b0C]\":{\"5504\":30.65},\n",
    " \"Process temperature [\\\\u00b0C]\":{\"5504\":40.05},\n",
    " \"Rotational speed [rpm]\":{\"5504\":1458},\n",
    " \"Torque [Nm]\":{\"5504\":51.0},\n",
    " \"Tool wear [min]\":{\"5504\":42},\n",
    " \"Temperature difference [\\\\u00b0C]\":{\"5504\":9.4}}'}"
   ]
  },
  {
   "cell_type": "code",
   "execution_count": 101,
   "id": "c2f05d92",
   "metadata": {
    "scrolled": false
   },
   "outputs": [
    {
     "name": "stdout",
     "output_type": "stream",
     "text": [
      "{'input': {'type': 'pd.core.frame.DataFrame', 'items': {'type': 'object', 'properties': {'Air temperature [K]': {'type': 'number', 'format': 'double'}, 'Process temperature [K]': {'type': 'number', 'format': 'double'}, 'Rotational speed [rpm]': {'type': 'number', 'format': 'double'}, 'Torque [Nm]': {'type': 'number', 'format': 'double'}, 'Tool wear [min]': {'type': 'number', 'format': 'double'}, 'Type_L': {'type': 'number', 'format': 'double'}, 'Type_M': {'type': 'number', 'format': 'double'}}}, 'example': [{'Air temperature [K]': 295.5, 'Process temperature [K]': 305.9, 'Rotational speed [rpm]': 1542.0, 'Torque [Nm]': 36.2, 'Tool wear [min]': 12.0, 'Type_L': 1.0, 'Type_M': 0.0}, {'Air temperature [K]': 304.0, 'Process temperature [K]': 313.2, 'Rotational speed [rpm]': 1416.0, 'Torque [Nm]': 46.0, 'Tool wear [min]': 128.0, 'Type_L': 1.0, 'Type_M': 0.0}]}, 'output': {'type': 'array', 'items': {'type': 'object'}, 'example': [1]}}\n"
     ]
    }
   ],
   "source": [
    "sch = generate_schema(score,(model_obj, req),X_train)\n",
    "print(sch)"
   ]
  },
  {
   "cell_type": "code",
   "execution_count": 113,
   "id": "b4ac0142",
   "metadata": {},
   "outputs": [
    {
     "name": "stdout",
     "output_type": "stream",
     "text": [
      "{\"Air temperature [K]\":{\"0\":295.5},\"Process temperature [K]\":{\"0\":305.9},\"Rotational speed [rpm]\":{\"0\":1542.0},\"Torque [Nm]\":{\"0\":36.2},\"Tool wear [min]\":{\"0\":12.0},\"Type_L\":{\"0\":1.0},\"Type_M\":{\"0\":0.0}}\n",
      "[[-1.83162007 -2.77798516  0.75994095 -0.65782832 -1.31462043  0.00984974\n",
      "   0.        ]]\n",
      "1\n"
     ]
    },
    {
     "data": {
      "text/plain": [
       "'No Failure'"
      ]
     },
     "execution_count": 113,
     "metadata": {},
     "output_type": "execute_result"
    }
   ],
   "source": [
    "score(rfc,req)"
   ]
  },
  {
   "cell_type": "code",
   "execution_count": 115,
   "id": "8288b62e",
   "metadata": {},
   "outputs": [
    {
     "name": "stdout",
     "output_type": "stream",
     "text": [
      "Calculating build time metrics\n",
      "\n",
      "Progress: ██████████████████████████████████████████████████████████████████████ 100.0%\n"
     ]
    },
    {
     "data": {
      "application/vnd.jupyter.widget-view+json": {
       "model_id": "b4e3788df4ab49f6b61aeaef77eaf3fe",
       "version_major": 2,
       "version_minor": 0
      },
      "text/plain": [
       "VBox(children=(HTML(value='<style>.grad_1{background: #2468a4;} .grad_2{ color:white; background: #2468a4;}</s…"
      ]
     },
     "metadata": {},
     "output_type": "display_data"
    }
   ],
   "source": [
    "tmp = register_model(model_obj, \n",
    "               score, \n",
    "               name=\"Predictive_Maintenance_Multi_Classification\", \n",
    "               description=\"Predictive Maintenance Multi Classification\",\n",
    "               flavour=MLModelFlavours.sklearn,\n",
    "               model_type=\"classification\",\n",
    "               schema=sch,\n",
    "               y_true=y_test,\n",
    "               y_pred=y_pred, \n",
    "               prob=y_prob, \n",
    "               features=X_train.columns,\n",
    "               labels=[0,1], \n",
    "               init_script=\"\" ,\n",
    "               input_type=\"json\", \n",
    "               explain_ai=True, \n",
    "               x_train=X_train, \n",
    "               x_test=X_test, \n",
    "               y_train=y_train.tolist(),\n",
    "               y_test=y_test.tolist(),\n",
    "               feature_names=X_train.columns.tolist(),\n",
    "               original_features=X_train.columns.tolist(),\n",
    "               feature_ids=X_train.columns,\n",
    "               target_names=['No Failure','Failure'],\n",
    "               kyd=True, kyd_score = True)\n",
    "#print(\"Registering model\")"
   ]
  },
  {
   "cell_type": "markdown",
   "id": "2266e9ed",
   "metadata": {},
   "source": [
    "# Sample Payloads"
   ]
  },
  {
   "cell_type": "markdown",
   "id": "eab0ea0e",
   "metadata": {},
   "source": [
    "### No Failure\n",
    "{\"payload\":\"{'Air temperature [K]':{'0':295.5}, 'Process temperature [K]':{'0':305.9}, 'Rotational speed [rpm]':{'0':1542}, 'Torque [Nm]':{'0':36.2}, 'Tool wear [min]':{'0':12.0} , 'Type_L':{'0':1.0} ,'Type_M':{'0':0.0}}\"}\n",
    "\n",
    "### Heat Dissipation Failure\n",
    "{\"payload\":\"{'Air temperature [K]':{'0':303.0}, 'Process temperature [K]':{'0':311.3}, 'Rotational speed [rpm]':{'0':1365}, 'Torque [Nm]':{'0':56.2}, 'Tool wear [min]':{'0':146.0} , 'Type_L':{'0':1.0} ,'Type_M':{'0':0.0}}\"}\n",
    "\n",
    "### Overstrain Failure\n",
    "{\"payload\":\"{'Air temperature [K]':{'0':299.2}, 'Process temperature [K]':{'0':309.1}, 'Rotational speed [rpm]':{'0':1345}, 'Torque [Nm]':{'0':60.7}, 'Tool wear [min]':{'0':191.0} , 'Type_L':{'0':1.0} ,'Type_M':{'0':0.0}}\"}\n",
    "\n",
    "### Power Failure\n",
    "{\"payload\":\"{'Air temperature [K]':{'0':301.5}, 'Process temperature [K]':{'0':310.7}, 'Rotational speed [rpm]':{'0':1336}, 'Torque [Nm]':{'0':65.6}, 'Tool wear [min]':{'0':0} , 'Type_L':{'0':0.0} ,'Type_M':{'0':1.0}}\"}\n",
    "\n",
    "### Random Failure\n",
    "{\"payload\":\"{'Air temperature [K]':{'0':298.6}, 'Process temperature [K]':{'0':309.8}, 'Rotational speed [rpm]':{'0':1505}, 'Torque [Nm]':{'0':45.7}, 'Tool wear [min]':{'0':144} , 'Type_L':{'0':1.0} ,'Type_M':{'0':0.0}}\"}\n",
    "\n",
    "### Tool wear Failure\n",
    "{\"payload\":\"{'Air temperature [K]':{'0':302.6}, 'Process temperature [K]':{'0':311.5}, 'Rotational speed [rpm]':{'0':1629}, 'Torque [Nm]':{'0':34.4}, 'Tool wear [min]':{'0':228} , 'Type_L':{'0':0.0} ,'Type_M':{'0':0.0}}\"}"
   ]
  },
  {
   "cell_type": "code",
   "execution_count": null,
   "id": "36e2fed9",
   "metadata": {},
   "outputs": [],
   "source": []
  }
 ],
 "metadata": {
  "kernelspec": {
   "display_name": "Python 3",
   "language": "python",
   "name": "python3"
  },
  "language_info": {
   "codemirror_mode": {
    "name": "ipython",
    "version": 3
   },
   "file_extension": ".py",
   "mimetype": "text/x-python",
   "name": "python",
   "nbconvert_exporter": "python",
   "pygments_lexer": "ipython3",
   "version": "3.6.15"
  }
 },
 "nbformat": 4,
 "nbformat_minor": 5
}
