{
 "cells": [
  {
   "cell_type": "code",
   "execution_count": 1,
   "id": "ce70ece5",
   "metadata": {},
   "outputs": [
    {
     "name": "stderr",
     "output_type": "stream",
     "text": [
      "Matplotlib created a temporary config/cache directory at /tmp/matplotlib-o366g3ni because the default path (/home/mosaic-ai/.config/matplotlib) is not a writable directory; it is highly recommended to set the MPLCONFIGDIR environment variable to a writable directory, in particular to speed up the import of Matplotlib and to better support multiprocessing.\n"
     ]
    }
   ],
   "source": [
    "import numpy as np \n",
    "import pandas as pd\n",
    "import seaborn as sns\n",
    "import matplotlib.pyplot as plt\n",
    "\n",
    "import warnings\n",
    "warnings.filterwarnings(\"ignore\")"
   ]
  },
  {
   "cell_type": "code",
   "execution_count": 2,
   "id": "56c9bf84",
   "metadata": {},
   "outputs": [],
   "source": [
    "pd.set_option(\"display.max_columns\",None)\n",
    "pd.set_option(\"display.max_rows\",None)"
   ]
  },
  {
   "cell_type": "code",
   "execution_count": 3,
   "id": "eecdfe7d",
   "metadata": {},
   "outputs": [],
   "source": [
    "from sklearn.metrics import accuracy_score,classification_report,confusion_matrix,plot_confusion_matrix, f1_score,roc_auc_score, roc_curve, recall_score\n",
    "from sklearn import model_selection\n",
    "\n",
    "from sklearn.preprocessing import MinMaxScaler,StandardScaler,RobustScaler\n",
    "\n",
    "from sklearn.linear_model import LogisticRegression\n",
    "from sklearn.tree import DecisionTreeClassifier\n",
    "from sklearn.ensemble import RandomForestClassifier\n",
    "from sklearn.svm import SVC\n",
    "from sklearn.naive_bayes import GaussianNB\n",
    "\n",
    "acc_log=[]"
   ]
  },
  {
   "cell_type": "code",
   "execution_count": 4,
   "id": "ee5efeb1",
   "metadata": {
    "scrolled": false
   },
   "outputs": [
    {
     "data": {
      "text/html": [
       "<div>\n",
       "<style scoped>\n",
       "    .dataframe tbody tr th:only-of-type {\n",
       "        vertical-align: middle;\n",
       "    }\n",
       "\n",
       "    .dataframe tbody tr th {\n",
       "        vertical-align: top;\n",
       "    }\n",
       "\n",
       "    .dataframe thead th {\n",
       "        text-align: right;\n",
       "    }\n",
       "</style>\n",
       "<table border=\"1\" class=\"dataframe\">\n",
       "  <thead>\n",
       "    <tr style=\"text-align: right;\">\n",
       "      <th></th>\n",
       "      <th>Unnamed: 0</th>\n",
       "      <th>Air temperature [K]</th>\n",
       "      <th>Process temperature [K]</th>\n",
       "      <th>Rotational speed [rpm]</th>\n",
       "      <th>Torque [Nm]</th>\n",
       "      <th>Tool wear [min]</th>\n",
       "      <th>Type_L</th>\n",
       "      <th>Type_M</th>\n",
       "      <th>Failure Type</th>\n",
       "      <th>Split</th>\n",
       "    </tr>\n",
       "  </thead>\n",
       "  <tbody>\n",
       "    <tr>\n",
       "      <th>0</th>\n",
       "      <td>0</td>\n",
       "      <td>295.5</td>\n",
       "      <td>305.9</td>\n",
       "      <td>1542.0</td>\n",
       "      <td>36.2</td>\n",
       "      <td>12.0</td>\n",
       "      <td>1.0</td>\n",
       "      <td>0.0</td>\n",
       "      <td>1</td>\n",
       "      <td>train</td>\n",
       "    </tr>\n",
       "    <tr>\n",
       "      <th>1</th>\n",
       "      <td>1</td>\n",
       "      <td>304.0</td>\n",
       "      <td>313.2</td>\n",
       "      <td>1416.0</td>\n",
       "      <td>46.0</td>\n",
       "      <td>128.0</td>\n",
       "      <td>1.0</td>\n",
       "      <td>0.0</td>\n",
       "      <td>1</td>\n",
       "      <td>train</td>\n",
       "    </tr>\n",
       "    <tr>\n",
       "      <th>2</th>\n",
       "      <td>2</td>\n",
       "      <td>300.5</td>\n",
       "      <td>311.8</td>\n",
       "      <td>1591.0</td>\n",
       "      <td>42.0</td>\n",
       "      <td>182.0</td>\n",
       "      <td>0.0</td>\n",
       "      <td>1.0</td>\n",
       "      <td>1</td>\n",
       "      <td>train</td>\n",
       "    </tr>\n",
       "    <tr>\n",
       "      <th>3</th>\n",
       "      <td>3</td>\n",
       "      <td>302.5</td>\n",
       "      <td>312.0</td>\n",
       "      <td>1487.0</td>\n",
       "      <td>46.1</td>\n",
       "      <td>175.0</td>\n",
       "      <td>0.0</td>\n",
       "      <td>1.0</td>\n",
       "      <td>1</td>\n",
       "      <td>train</td>\n",
       "    </tr>\n",
       "    <tr>\n",
       "      <th>4</th>\n",
       "      <td>4</td>\n",
       "      <td>298.0</td>\n",
       "      <td>308.1</td>\n",
       "      <td>1403.0</td>\n",
       "      <td>44.8</td>\n",
       "      <td>148.0</td>\n",
       "      <td>0.0</td>\n",
       "      <td>1.0</td>\n",
       "      <td>1</td>\n",
       "      <td>train</td>\n",
       "    </tr>\n",
       "  </tbody>\n",
       "</table>\n",
       "</div>"
      ],
      "text/plain": [
       "   Unnamed: 0  Air temperature [K]  Process temperature [K]  \\\n",
       "0           0                295.5                    305.9   \n",
       "1           1                304.0                    313.2   \n",
       "2           2                300.5                    311.8   \n",
       "3           3                302.5                    312.0   \n",
       "4           4                298.0                    308.1   \n",
       "\n",
       "   Rotational speed [rpm]  Torque [Nm]  Tool wear [min]  Type_L  Type_M  \\\n",
       "0                  1542.0         36.2             12.0     1.0     0.0   \n",
       "1                  1416.0         46.0            128.0     1.0     0.0   \n",
       "2                  1591.0         42.0            182.0     0.0     1.0   \n",
       "3                  1487.0         46.1            175.0     0.0     1.0   \n",
       "4                  1403.0         44.8            148.0     0.0     1.0   \n",
       "\n",
       "   Failure Type  Split  \n",
       "0             1  train  \n",
       "1             1  train  \n",
       "2             1  train  \n",
       "3             1  train  \n",
       "4             1  train  "
      ]
     },
     "execution_count": 4,
     "metadata": {},
     "output_type": "execute_result"
    }
   ],
   "source": [
    "df=pd.read_csv(\"/data/predictive_maintenance_upsample.csv\")\n",
    "df.head()"
   ]
  },
  {
   "cell_type": "code",
   "execution_count": 5,
   "id": "7894bb68",
   "metadata": {},
   "outputs": [
    {
     "data": {
      "text/plain": [
       "1    9627\n",
       "3    6796\n",
       "0    6794\n",
       "2    6792\n",
       "5    6772\n",
       "4    6765\n",
       "Name: Failure Type, dtype: int64"
      ]
     },
     "execution_count": 5,
     "metadata": {},
     "output_type": "execute_result"
    }
   ],
   "source": [
    "df['Failure Type'].value_counts()"
   ]
  },
  {
   "cell_type": "code",
   "execution_count": 6,
   "id": "e8d3352d",
   "metadata": {},
   "outputs": [],
   "source": [
    "df.drop(columns=\"Unnamed: 0\", axis=1, inplace=True)"
   ]
  },
  {
   "cell_type": "code",
   "execution_count": 7,
   "id": "7adc760c",
   "metadata": {},
   "outputs": [
    {
     "data": {
      "text/html": [
       "<div>\n",
       "<style scoped>\n",
       "    .dataframe tbody tr th:only-of-type {\n",
       "        vertical-align: middle;\n",
       "    }\n",
       "\n",
       "    .dataframe tbody tr th {\n",
       "        vertical-align: top;\n",
       "    }\n",
       "\n",
       "    .dataframe thead th {\n",
       "        text-align: right;\n",
       "    }\n",
       "</style>\n",
       "<table border=\"1\" class=\"dataframe\">\n",
       "  <thead>\n",
       "    <tr style=\"text-align: right;\">\n",
       "      <th></th>\n",
       "      <th>Air temperature [K]</th>\n",
       "      <th>Process temperature [K]</th>\n",
       "      <th>Rotational speed [rpm]</th>\n",
       "      <th>Torque [Nm]</th>\n",
       "      <th>Tool wear [min]</th>\n",
       "      <th>Type_L</th>\n",
       "      <th>Type_M</th>\n",
       "      <th>Failure Type</th>\n",
       "      <th>Split</th>\n",
       "    </tr>\n",
       "  </thead>\n",
       "  <tbody>\n",
       "    <tr>\n",
       "      <th>0</th>\n",
       "      <td>295.5</td>\n",
       "      <td>305.9</td>\n",
       "      <td>1542.0</td>\n",
       "      <td>36.2</td>\n",
       "      <td>12.0</td>\n",
       "      <td>1.0</td>\n",
       "      <td>0.0</td>\n",
       "      <td>1</td>\n",
       "      <td>train</td>\n",
       "    </tr>\n",
       "    <tr>\n",
       "      <th>1</th>\n",
       "      <td>304.0</td>\n",
       "      <td>313.2</td>\n",
       "      <td>1416.0</td>\n",
       "      <td>46.0</td>\n",
       "      <td>128.0</td>\n",
       "      <td>1.0</td>\n",
       "      <td>0.0</td>\n",
       "      <td>1</td>\n",
       "      <td>train</td>\n",
       "    </tr>\n",
       "    <tr>\n",
       "      <th>2</th>\n",
       "      <td>300.5</td>\n",
       "      <td>311.8</td>\n",
       "      <td>1591.0</td>\n",
       "      <td>42.0</td>\n",
       "      <td>182.0</td>\n",
       "      <td>0.0</td>\n",
       "      <td>1.0</td>\n",
       "      <td>1</td>\n",
       "      <td>train</td>\n",
       "    </tr>\n",
       "    <tr>\n",
       "      <th>3</th>\n",
       "      <td>302.5</td>\n",
       "      <td>312.0</td>\n",
       "      <td>1487.0</td>\n",
       "      <td>46.1</td>\n",
       "      <td>175.0</td>\n",
       "      <td>0.0</td>\n",
       "      <td>1.0</td>\n",
       "      <td>1</td>\n",
       "      <td>train</td>\n",
       "    </tr>\n",
       "    <tr>\n",
       "      <th>4</th>\n",
       "      <td>298.0</td>\n",
       "      <td>308.1</td>\n",
       "      <td>1403.0</td>\n",
       "      <td>44.8</td>\n",
       "      <td>148.0</td>\n",
       "      <td>0.0</td>\n",
       "      <td>1.0</td>\n",
       "      <td>1</td>\n",
       "      <td>train</td>\n",
       "    </tr>\n",
       "  </tbody>\n",
       "</table>\n",
       "</div>"
      ],
      "text/plain": [
       "   Air temperature [K]  Process temperature [K]  Rotational speed [rpm]  \\\n",
       "0                295.5                    305.9                  1542.0   \n",
       "1                304.0                    313.2                  1416.0   \n",
       "2                300.5                    311.8                  1591.0   \n",
       "3                302.5                    312.0                  1487.0   \n",
       "4                298.0                    308.1                  1403.0   \n",
       "\n",
       "   Torque [Nm]  Tool wear [min]  Type_L  Type_M  Failure Type  Split  \n",
       "0         36.2             12.0     1.0     0.0             1  train  \n",
       "1         46.0            128.0     1.0     0.0             1  train  \n",
       "2         42.0            182.0     0.0     1.0             1  train  \n",
       "3         46.1            175.0     0.0     1.0             1  train  \n",
       "4         44.8            148.0     0.0     1.0             1  train  "
      ]
     },
     "execution_count": 7,
     "metadata": {},
     "output_type": "execute_result"
    }
   ],
   "source": [
    "df.head()"
   ]
  },
  {
   "cell_type": "code",
   "execution_count": null,
   "id": "8cb290a8",
   "metadata": {},
   "outputs": [],
   "source": [
    "df_train = df[df['Split']==\"train\"]\n",
    "df_test = df[df['Split']==\"test\"]"
   ]
  },
  {
   "cell_type": "code",
   "execution_count": null,
   "id": "e0a5a16b",
   "metadata": {},
   "outputs": [],
   "source": [
    "df_train.shape, df_test.shape"
   ]
  },
  {
   "cell_type": "code",
   "execution_count": null,
   "id": "636be337",
   "metadata": {},
   "outputs": [],
   "source": [
    "feature_col = ['Air temperature [K]', 'Process temperature [K]',\n",
    "       'Rotational speed [rpm]', 'Torque [Nm]', 'Tool wear [min]', 'Type_L',\n",
    "       'Type_M']\n",
    "\n",
    "target_col = \"Failure Type\""
   ]
  },
  {
   "cell_type": "code",
   "execution_count": null,
   "id": "c37cf4ee",
   "metadata": {},
   "outputs": [],
   "source": [
    "X_train = df_train[['Air temperature [K]', 'Process temperature [K]',\n",
    "       'Rotational speed [rpm]', 'Torque [Nm]', 'Tool wear [min]', 'Type_L',\n",
    "       'Type_M']]\n",
    "\n",
    "X_test = df_test[['Air temperature [K]', 'Process temperature [K]',\n",
    "       'Rotational speed [rpm]', 'Torque [Nm]', 'Tool wear [min]', 'Type_L',\n",
    "       'Type_M']]"
   ]
  },
  {
   "cell_type": "code",
   "execution_count": null,
   "id": "5076c2ef",
   "metadata": {},
   "outputs": [],
   "source": [
    "y_train = df_train['Failure Type']\n",
    "y_test = df_test['Failure Type']"
   ]
  },
  {
   "cell_type": "code",
   "execution_count": null,
   "id": "2c2d1770",
   "metadata": {},
   "outputs": [],
   "source": [
    "X_train.shape, X_test.shape, y_train.shape, y_test.shape"
   ]
  },
  {
   "cell_type": "code",
   "execution_count": null,
   "id": "cba9e945",
   "metadata": {},
   "outputs": [],
   "source": [
    "ro_scaler=RobustScaler()\n",
    "X_train_scaled = ro_scaler.fit_transform(X_train)\n",
    "X_test_scaled = ro_scaler.transform(X_test)"
   ]
  },
  {
   "cell_type": "code",
   "execution_count": null,
   "id": "161b9f4a",
   "metadata": {},
   "outputs": [],
   "source": [
    "X_train_scaled.shape"
   ]
  },
  {
   "cell_type": "markdown",
   "id": "7f2a7af0",
   "metadata": {},
   "source": [
    "# Gaussian Naive Bayes"
   ]
  },
  {
   "cell_type": "code",
   "execution_count": null,
   "id": "91d71cf8",
   "metadata": {
    "scrolled": true
   },
   "outputs": [],
   "source": [
    "gnb=GaussianNB()\n",
    "gnb.fit(X_train_scaled,y_train)\n",
    "y_pred_gnb=gnb.predict(X_test_scaled)\n",
    "\n",
    "gnb_train = round(gnb.score(X_train_scaled, y_train) * 100, 2)\n",
    "gnb_accuracy = round(accuracy_score(y_pred_gnb, y_test) * 100, 2)\n",
    "gnb_f1score = round(f1_score(y_pred_gnb, y_test, average=\"weighted\")*100, 2)\n",
    "\n",
    "print(\"Training Accuracy    :\",gnb_train ,\"%\")\n",
    "print(\"Model Accuracy Score :\",gnb_accuracy ,\"%\")\n",
    "print(\"F1 Score             :\",gnb_f1score, \"%\")\n",
    "print(\"\\033[1m--------------------------------------------------------\\033[0m\")\n",
    "print(\"Classification_Report: \\n\",classification_report(y_test,y_pred_gnb))\n",
    "print(\"\\033[1m--------------------------------------------------------\\033[0m\")\n",
    "plot_confusion_matrix(gnb, X_test_scaled, y_test);"
   ]
  },
  {
   "cell_type": "markdown",
   "id": "a6c61f25",
   "metadata": {},
   "source": [
    "# Support Vector Machine"
   ]
  },
  {
   "cell_type": "code",
   "execution_count": null,
   "id": "e64fa264",
   "metadata": {},
   "outputs": [],
   "source": [
    "svc=SVC(kernel=\"linear\")\n",
    "svc.fit(X_train_scaled,y_train)\n",
    "y_pred_svc=svc.predict(X_test_scaled)\n",
    "\n",
    "svc_train = round(svc.score(X_train_scaled, y_train) * 100, 2)\n",
    "svc_accuracy = round(accuracy_score(y_pred_svc, y_test) * 100, 2)\n",
    "svc_f1score = round(f1_score(y_pred_svc, y_test, average=\"weighted\")*100, 2)\n",
    "\n",
    "print(\"Training Accuracy    :\",svc_train ,\"%\")\n",
    "print(\"Model Accuracy Score :\",svc_accuracy ,\"%\")\n",
    "print(\"F1 Score             :\",svc_f1score, \"%\")\n",
    "print(\"\\033[1m--------------------------------------------------------\\033[0m\")\n",
    "print(\"Classification_Report: \\n\",classification_report(y_test,y_pred_svc))\n",
    "print(\"\\033[1m--------------------------------------------------------\\033[0m\")\n",
    "plot_confusion_matrix(svc, X_test_scaled, y_test);"
   ]
  },
  {
   "cell_type": "code",
   "execution_count": null,
   "id": "87249a91",
   "metadata": {},
   "outputs": [],
   "source": [
    "svc_p=SVC(kernel=\"poly\")\n",
    "svc_p.fit(X_train_scaled,y_train)\n",
    "y_pred_svc_p=svc_p.predict(X_test_scaled)\n",
    "\n",
    "svc_p_train = round(svc_p.score(X_train_scaled, y_train) * 100, 2)\n",
    "svc_p_accuracy = round(accuracy_score(y_pred_svc_p, y_test) * 100, 2)\n",
    "svc_p_f1score = round(f1_score(y_pred_svc_p, y_test, average=\"weighted\")*100, 2)\n",
    "\n",
    "print(\"Training Accuracy    :\",svc_p_train ,\"%\")\n",
    "print(\"Model Accuracy Score :\",svc_p_accuracy ,\"%\")\n",
    "print(\"F1 Score             :\",svc_p_f1score, \"%\")\n",
    "print(\"\\033[1m--------------------------------------------------------\\033[0m\")\n",
    "print(\"Classification_Report: \\n\",classification_report(y_test,y_pred_svc_p))\n",
    "print(\"\\033[1m--------------------------------------------------------\\033[0m\")\n",
    "plot_confusion_matrix(svc_p, X_test_scaled, y_test);"
   ]
  },
  {
   "cell_type": "markdown",
   "id": "a235fa7f",
   "metadata": {},
   "source": [
    "# Logistics Regression"
   ]
  },
  {
   "cell_type": "code",
   "execution_count": null,
   "id": "caa14595",
   "metadata": {
    "scrolled": true
   },
   "outputs": [],
   "source": [
    "log_reg=LogisticRegression()\n",
    "log_reg.fit(X_train_scaled,y_train)\n",
    "y_pred_log=log_reg.predict(X_test_scaled)\n",
    "\n",
    "log_train = round(log_reg.score(X_train_scaled, y_train) * 100, 2)\n",
    "log_accuracy = round(accuracy_score(y_pred_log, y_test) * 100, 2)\n",
    "log_f1score = round(f1_score(y_pred_log, y_test, average=\"weighted\")*100, 2)\n",
    "\n",
    "print(\"Training Accuracy    :\",log_train ,\"%\")\n",
    "print(\"Model Accuracy Score :\",log_accuracy ,\"%\")\n",
    "print(\"F1 Score             :\",log_f1score, \"%\")\n",
    "print(\"\\033[1m--------------------------------------------------------\\033[0m\")\n",
    "print(\"Classification_Report: \\n\",classification_report(y_test,y_pred_log))\n",
    "print(\"\\033[1m--------------------------------------------------------\\033[0m\")\n",
    "plot_confusion_matrix(log_reg, X_test_scaled, y_test);"
   ]
  },
  {
   "cell_type": "markdown",
   "id": "8d3c788c",
   "metadata": {},
   "source": [
    "# Decision Tree"
   ]
  },
  {
   "cell_type": "code",
   "execution_count": null,
   "id": "b7ca517d",
   "metadata": {},
   "outputs": [],
   "source": [
    "decision = DecisionTreeClassifier()\n",
    "decision.fit(X_train_scaled, y_train)\n",
    "y_pred_dec = decision.predict(X_test_scaled)\n",
    "\n",
    "decision_train = round(decision.score(X_train_scaled, y_train) * 100, 2)\n",
    "decision_accuracy = round(accuracy_score(y_pred_dec, y_test) * 100, 2)\n",
    "decision_f1score = round(f1_score(y_pred_dec, y_test,average=\"weighted\")*100, 2)\n",
    "\n",
    "print(\"Training Accuracy    :\",decision_train ,\"%\")\n",
    "print(\"Model Accuracy Score :\",decision_accuracy ,\"%\")\n",
    "print(\"F1 Score             :\",decision_f1score, \"%\")\n",
    "print(\"\\033[1m--------------------------------------------------------\\033[0m\")\n",
    "print(\"Classification_Report: \\n\",classification_report(y_test,y_pred_dec))\n",
    "print(\"\\033[1m--------------------------------------------------------\\033[0m\")\n",
    "plot_confusion_matrix(decision, X_test_scaled, y_test);\n",
    "plt.title('Confusion Matrix');"
   ]
  },
  {
   "cell_type": "markdown",
   "id": "7598e438",
   "metadata": {},
   "source": [
    "# Random Forest Classifier"
   ]
  },
  {
   "cell_type": "code",
   "execution_count": null,
   "id": "aad604bd",
   "metadata": {
    "scrolled": true
   },
   "outputs": [],
   "source": [
    "# Random Forest\n",
    "random_forest = RandomForestClassifier(n_estimators=100)\n",
    "random_forest.fit(X_train_scaled, y_train)\n",
    "y_pred_rf = random_forest.predict(X_test_scaled)\n",
    "random_forest.score(X_train_scaled, y_train)\n",
    "\n",
    "random_forest_train = round(random_forest.score(X_train_scaled, y_train) * 100, 2)\n",
    "random_forest_accuracy = round(accuracy_score(y_pred_rf, y_test) * 100, 2)\n",
    "random_forest_f1score = round(f1_score(y_pred_rf, y_test,average=\"weighted\")*100, 2)\n",
    "\n",
    "print(\"Training Accuracy    :\",random_forest_train ,\"%\")\n",
    "print(\"Model Accuracy Score :\",random_forest_accuracy ,\"%\")\n",
    "print(\"F1 Score             :\",random_forest_f1score, \"%\")\n",
    "print(\"\\033[1m--------------------------------------------------------\\033[0m\")\n",
    "print(\"Classification_Report: \\n\",classification_report(y_test,y_pred_rf))\n",
    "print(\"\\033[1m--------------------------------------------------------\\033[0m\")\n",
    "plot_confusion_matrix(random_forest, X_test_scaled, y_test);\n",
    "plt.title('Confusion Matrix');"
   ]
  },
  {
   "cell_type": "markdown",
   "id": "9bb28538",
   "metadata": {},
   "source": [
    "# Model building"
   ]
  },
  {
   "cell_type": "code",
   "execution_count": null,
   "id": "0509ff50",
   "metadata": {},
   "outputs": [],
   "source": [
    "models = pd.DataFrame({\n",
    "    'Model': [\n",
    "         'Logistic Regression','Linear SVM','Polynomial SVM','Decision Tree', 'Random Forest','GuassianNB'],\n",
    "    \n",
    "    'Training Accuracy': [log_train, svc_train,svc_p_train, decision_train, random_forest_train, gnb_train],\n",
    "    \n",
    "    'Model Accuracy Score': [log_accuracy, svc_accuracy,svc_p_accuracy, decision_accuracy, random_forest_accuracy, gnb_accuracy],\n",
    "    \n",
    "    'Model F1 Score': [log_f1score , svc_f1score, svc_p_f1score,decision_f1score, random_forest_f1score, gnb_f1score]\n",
    "})"
   ]
  },
  {
   "cell_type": "code",
   "execution_count": null,
   "id": "246402ea",
   "metadata": {},
   "outputs": [],
   "source": [
    "pd.set_option('precision',2)\n",
    "models.sort_values(by='Model F1 Score', ascending=False).style.background_gradient(\n",
    "        cmap='coolwarm').hide_index().set_properties(**{\n",
    "            'font-family': 'Lucida Calligraphy',\n",
    "            'color': 'LigntGreen',\n",
    "            'font-size': '15px'\n",
    "        })"
   ]
  },
  {
   "cell_type": "code",
   "execution_count": null,
   "id": "4bf34eb3",
   "metadata": {},
   "outputs": [],
   "source": [
    "#Model function\n",
    "def model(algorithm,dtrain_X,dtrain_Y,dtest_X,dtest_Y,cols=None):\n",
    "\n",
    "    algorithm.fit(dtrain_X,dtrain_Y)\n",
    "    predictions = algorithm.predict(dtest_X)\n",
    "    print (algorithm)\n",
    "    \n",
    "    print (\"Accuracy score : \", accuracy_score(predictions,dtest_Y))\n",
    "    print (\"Recall score   : \", recall_score(predictions,dtest_Y, average=\"weighted\"))\n",
    "    print (\"classification report :\\n\",classification_report(predictions,dtest_Y))\n",
    "    \n",
    "    fig = plt.figure(figsize=(10,8))\n",
    "    ax  = fig.add_subplot(111)\n",
    "    prediction_probabilities = algorithm.predict_proba(dtest_X)[:,1]\n",
    "    #fpr , tpr , thresholds   = roc_curve(dtest_Y,prediction_probabilities)\n",
    "    #ax.plot(fpr,tpr,label   = [\"Area under curve : \",auc(fpr,tpr)],linewidth=2,linestyle=\"dotted\")\n",
    "    #ax.plot([0,1],[0,1],linewidth=2,linestyle=\"dashed\")\n",
    "    #plt.legend(loc=\"best\")\n",
    "    #plt.title(\"ROC-CURVE & AREA UNDER CURVE\")\n",
    "    #ax.set_facecolor(\"k\")\n",
    "    return predictions,prediction_probabilities,algorithm"
   ]
  },
  {
   "cell_type": "code",
   "execution_count": null,
   "id": "5bd98ab0",
   "metadata": {
    "scrolled": true
   },
   "outputs": [],
   "source": [
    "rfc =  RandomForestClassifier(n_estimators=100)\n",
    "\n",
    "y_pred,y_prob,model_obj=model(rfc,X_train_scaled,y_train,X_test_scaled,y_test,feature_col)"
   ]
  },
  {
   "cell_type": "code",
   "execution_count": null,
   "id": "5ebedfd9",
   "metadata": {},
   "outputs": [],
   "source": [
    "y_pred"
   ]
  },
  {
   "cell_type": "code",
   "execution_count": null,
   "id": "33e33dc8",
   "metadata": {
    "scrolled": true
   },
   "outputs": [],
   "source": [
    "y_prob"
   ]
  },
  {
   "cell_type": "code",
   "execution_count": null,
   "id": "9cf0cb19",
   "metadata": {},
   "outputs": [],
   "source": [
    "X_train_scaled"
   ]
  },
  {
   "cell_type": "code",
   "execution_count": null,
   "id": "22c6d81c",
   "metadata": {},
   "outputs": [],
   "source": [
    "X_train.head()"
   ]
  },
  {
   "cell_type": "code",
   "execution_count": null,
   "id": "1ee88d3b",
   "metadata": {},
   "outputs": [],
   "source": [
    "from mosaicml import *\n",
    "from mosaicml.constants import MLModelFlavours"
   ]
  },
  {
   "cell_type": "code",
   "execution_count": null,
   "id": "ca95755e",
   "metadata": {},
   "outputs": [],
   "source": [
    "@scoring_func\n",
    "def score(model, request):\n",
    "    payload = request.json[\"payload\"]\n",
    "    print(payload)\n",
    "    data = pd.DataFrame(eval(payload))\n",
    "    data = ro_scaler.transform(data)\n",
    "    print(data)\n",
    "    prediction = model.predict(data)[0]\n",
    "    print(prediction)\n",
    "    if prediction == 0:\n",
    "        message = \"Heat Dissipation Failure\"\n",
    "    elif prediction == 1:\n",
    "        message = \"No Failure\"\n",
    "    elif prediction == 2:\n",
    "        message = \"Overstrain Failure\"\n",
    "    elif prediction == 3:\n",
    "        message = \"Power Failure\"\n",
    "    elif prediction == 4:\n",
    "        message = \"Random Failure\"\n",
    "    else:\n",
    "        message = \"Tool wear Failure\"\n",
    "    return message"
   ]
  },
  {
   "cell_type": "code",
   "execution_count": null,
   "id": "7691f166",
   "metadata": {},
   "outputs": [],
   "source": [
    "import requests\n",
    "req = requests.Request()\n",
    "#req.json = {\"payload\":train_X.head(1).to_numpy()}\n",
    "req.json = {\"payload\":X_train.head(1).to_json()}"
   ]
  },
  {
   "cell_type": "code",
   "execution_count": null,
   "id": "05f2f8de",
   "metadata": {
    "scrolled": true
   },
   "outputs": [],
   "source": [
    "req.json"
   ]
  },
  {
   "cell_type": "markdown",
   "id": "5b2af0ad",
   "metadata": {},
   "source": [
    "## Payload\n",
    "\n",
    "{'payload': '{\"Air temperature [\\\\u00b0C]\":{\"5504\":30.65},\n",
    " \"Process temperature [\\\\u00b0C]\":{\"5504\":40.05},\n",
    " \"Rotational speed [rpm]\":{\"5504\":1458},\n",
    " \"Torque [Nm]\":{\"5504\":51.0},\n",
    " \"Tool wear [min]\":{\"5504\":42},\n",
    " \"Temperature difference [\\\\u00b0C]\":{\"5504\":9.4}}'}"
   ]
  },
  {
   "cell_type": "code",
   "execution_count": null,
   "id": "c2f05d92",
   "metadata": {
    "scrolled": false
   },
   "outputs": [],
   "source": [
    "sch = generate_schema(score,(model_obj, req),X_train)\n",
    "print(sch)"
   ]
  },
  {
   "cell_type": "code",
   "execution_count": null,
   "id": "b4ac0142",
   "metadata": {},
   "outputs": [],
   "source": [
    "score(rfc,req)"
   ]
  },
  {
   "cell_type": "code",
   "execution_count": null,
   "id": "8288b62e",
   "metadata": {},
   "outputs": [],
   "source": [
    "tmp = register_model(model_obj, \n",
    "               score, \n",
    "               name=\"Predictive_Maintenance_Multi_Classification\", \n",
    "               description=\"Predictive Maintenance Multi Classification\",\n",
    "               flavour=MLModelFlavours.sklearn,\n",
    "               model_type=\"classification\",\n",
    "               schema=sch,\n",
    "               y_true=y_test,\n",
    "               y_pred=y_pred, \n",
    "               prob=y_prob, \n",
    "               features=X_train.columns,\n",
    "               labels=[0,1], \n",
    "               init_script=\"\" ,\n",
    "               input_type=\"json\", \n",
    "               explain_ai=True, \n",
    "               x_train=X_train, \n",
    "               x_test=X_test, \n",
    "               y_train=y_train.tolist(),\n",
    "               y_test=y_test.tolist(),\n",
    "               feature_names=X_train.columns.tolist(),\n",
    "               original_features=X_train.columns.tolist(),\n",
    "               feature_ids=X_train.columns,\n",
    "               target_names=['Overstrain Failure','Random Failure','Heat dissipation Failure','Tool Wear Failure','Power Failure'],\n",
    "               kyd=True, kyd_score = True)\n",
    "#print(\"Registering model\")"
   ]
  },
  {
   "cell_type": "markdown",
   "id": "2266e9ed",
   "metadata": {},
   "source": [
    "# Sample Payloads"
   ]
  },
  {
   "cell_type": "markdown",
   "id": "eab0ea0e",
   "metadata": {},
   "source": [
    "### No Failure\n",
    "{\"payload\":\"{'Air temperature [K]':{'0':295.5}, 'Process temperature [K]':{'0':305.9}, 'Rotational speed [rpm]':{'0':1542}, 'Torque [Nm]':{'0':36.2}, 'Tool wear [min]':{'0':12.0} , 'Type_L':{'0':1.0} ,'Type_M':{'0':0.0}}\"}\n",
    "\n",
    "### Heat Dissipation Failure\n",
    "{\"payload\":\"{'Air temperature [K]':{'0':303.0}, 'Process temperature [K]':{'0':311.3}, 'Rotational speed [rpm]':{'0':1365}, 'Torque [Nm]':{'0':56.2}, 'Tool wear [min]':{'0':146.0} , 'Type_L':{'0':1.0} ,'Type_M':{'0':0.0}}\"}\n",
    "\n",
    "### Overstrain Failure\n",
    "{\"payload\":\"{'Air temperature [K]':{'0':299.2}, 'Process temperature [K]':{'0':309.1}, 'Rotational speed [rpm]':{'0':1345}, 'Torque [Nm]':{'0':60.7}, 'Tool wear [min]':{'0':191.0} , 'Type_L':{'0':1.0} ,'Type_M':{'0':0.0}}\"}\n",
    "\n",
    "### Power Failure\n",
    "{\"payload\":\"{'Air temperature [K]':{'0':301.5}, 'Process temperature [K]':{'0':310.7}, 'Rotational speed [rpm]':{'0':1336}, 'Torque [Nm]':{'0':65.6}, 'Tool wear [min]':{'0':0} , 'Type_L':{'0':0.0} ,'Type_M':{'0':1.0}}\"}\n",
    "\n",
    "### Random Failure\n",
    "{\"payload\":\"{'Air temperature [K]':{'0':298.6}, 'Process temperature [K]':{'0':309.8}, 'Rotational speed [rpm]':{'0':1505}, 'Torque [Nm]':{'0':45.7}, 'Tool wear [min]':{'0':144} , 'Type_L':{'0':1.0} ,'Type_M':{'0':0.0}}\"}\n",
    "\n",
    "### Tool wear Failure\n",
    "{\"payload\":\"{'Air temperature [K]':{'0':302.6}, 'Process temperature [K]':{'0':311.5}, 'Rotational speed [rpm]':{'0':1629}, 'Torque [Nm]':{'0':34.4}, 'Tool wear [min]':{'0':228} , 'Type_L':{'0':0.0} ,'Type_M':{'0':0.0}}\"}"
   ]
  },
  {
   "cell_type": "code",
   "execution_count": null,
   "id": "36e2fed9",
   "metadata": {},
   "outputs": [],
   "source": []
  }
 ],
 "metadata": {
  "kernelspec": {
   "display_name": "Python 3",
   "language": "python",
   "name": "python3"
  },
  "language_info": {
   "codemirror_mode": {
    "name": "ipython",
    "version": 3
   },
   "file_extension": ".py",
   "mimetype": "text/x-python",
   "name": "python",
   "nbconvert_exporter": "python",
   "pygments_lexer": "ipython3",
   "version": "3.6.15"
  }
 },
 "nbformat": 4,
 "nbformat_minor": 5
}
