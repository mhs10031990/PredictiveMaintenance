{
 "cells": [
  {
   "cell_type": "code",
   "execution_count": 1,
   "id": "67a4060d",
   "metadata": {},
   "outputs": [
    {
     "name": "stdout",
     "output_type": "stream",
     "text": [
      "Please enter openai api key: ········\n"
     ]
    }
   ],
   "source": [
    "%gpt Generate feature engineering code for sensor data"
   ]
  },
  {
   "cell_type": "code",
   "execution_count": null,
   "id": "f97cfe5e",
   "metadata": {},
   "outputs": [],
   "source": [
    "// Create a function to calculate the average of a set of sensor readings\n",
    "function averageSensorReadings(sensorData) {\n",
    "  let total = 0;\n",
    "  for (let i = 0; i < sensorData.length; i++) {\n",
    "    total += sensorData[i];\n",
    "  }\n",
    "  return total/sensorData.length;\n",
    "}\n",
    "\n",
    "// Create a function to calculate the standard deviation of a set of sensor readings\n",
    "function standardDeviationSensorReadings(sensorData) {\n",
    "  let mean = averageSensorReadings(sensorData);\n",
    "  let sum = 0;\n",
    "  for (let i = 0; i < sensorData.length; i++) {\n",
    "    sum += Math.pow(sensorData[i] - mean, 2);\n",
    "  }\n",
    "  return Math.sqrt(sum/sensorData.length);\n",
    "}\n",
    "\n",
    "// Create a function to calculate the min and max of a set of sensor readings\n",
    "function minMaxSensorReadings(sensorData) {\n",
    "  let min = sensorData[0];\n",
    "  let max = sensorData[0];\n",
    "  for (let i = 0; i < sensorData.length; i++) {\n",
    "    if (sensorData[i] < min) {\n",
    "      min = sensorData[i];\n",
    "    }\n",
    "    if (sensorData[i] > max) {\n",
    "      max = sensorData[i];\n",
    "    }\n",
    "  }\n",
    "  return {min, max};\n",
    "}"
   ]
  },
  {
   "cell_type": "code",
   "execution_count": 2,
   "id": "eabb7470",
   "metadata": {},
   "outputs": [],
   "source": [
    "%gpt generate python code to visualize model output"
   ]
  },
  {
   "cell_type": "code",
   "execution_count": null,
   "id": "0b13c1a0",
   "metadata": {},
   "outputs": [],
   "source": [
    "import matplotlib.pyplot as plt\n",
    "\n",
    "# Get the model output\n",
    "output = model.predict(input)\n",
    "\n",
    "# Plot the output\n",
    "plt.plot(output)\n",
    "plt.title('Model Output')\n",
    "plt.xlabel('Input')\n",
    "plt.ylabel('Output')\n",
    "plt.show()"
   ]
  },
  {
   "cell_type": "code",
   "execution_count": null,
   "id": "38d07d9d",
   "metadata": {},
   "outputs": [],
   "source": []
  }
 ],
 "metadata": {
  "kernelspec": {
   "display_name": "Python 3",
   "language": "python",
   "name": "python3"
  },
  "language_info": {
   "codemirror_mode": {
    "name": "ipython",
    "version": 3
   },
   "file_extension": ".py",
   "mimetype": "text/x-python",
   "name": "python",
   "nbconvert_exporter": "python",
   "pygments_lexer": "ipython3",
   "version": "3.8.12"
  }
 },
 "nbformat": 4,
 "nbformat_minor": 5
}
