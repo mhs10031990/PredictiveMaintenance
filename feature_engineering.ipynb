{
 "cells": [
  {
   "cell_type": "code",
   "execution_count": 1,
   "id": "ce70ece5",
   "metadata": {},
   "outputs": [],
   "source": [
    "import numpy as np \n",
    "import pandas as pd\n",
    "import seaborn as sns\n",
    "import matplotlib.pyplot as plt\n",
    "\n",
    "import warnings\n",
    "warnings.filterwarnings(\"ignore\")"
   ]
  },
  {
   "cell_type": "code",
   "execution_count": 2,
   "id": "56c9bf84",
   "metadata": {},
   "outputs": [],
   "source": [
    "pd.set_option(\"display.max_columns\",None)\n",
    "pd.set_option(\"display.max_rows\",None)"
   ]
  },
  {
   "cell_type": "code",
   "execution_count": 3,
   "id": "ee5efeb1",
   "metadata": {},
   "outputs": [
    {
     "data": {
      "text/html": [
       "<style  type=\"text/css\" >\n",
       "#T_fe005eb2_a484_11ed_a84b_227bc58c8565row0_col0,#T_fe005eb2_a484_11ed_a84b_227bc58c8565row0_col1,#T_fe005eb2_a484_11ed_a84b_227bc58c8565row0_col2,#T_fe005eb2_a484_11ed_a84b_227bc58c8565row0_col3,#T_fe005eb2_a484_11ed_a84b_227bc58c8565row0_col4,#T_fe005eb2_a484_11ed_a84b_227bc58c8565row0_col5,#T_fe005eb2_a484_11ed_a84b_227bc58c8565row0_col6,#T_fe005eb2_a484_11ed_a84b_227bc58c8565row0_col7,#T_fe005eb2_a484_11ed_a84b_227bc58c8565row1_col0,#T_fe005eb2_a484_11ed_a84b_227bc58c8565row1_col1,#T_fe005eb2_a484_11ed_a84b_227bc58c8565row1_col2,#T_fe005eb2_a484_11ed_a84b_227bc58c8565row1_col3,#T_fe005eb2_a484_11ed_a84b_227bc58c8565row1_col4,#T_fe005eb2_a484_11ed_a84b_227bc58c8565row1_col5,#T_fe005eb2_a484_11ed_a84b_227bc58c8565row1_col6,#T_fe005eb2_a484_11ed_a84b_227bc58c8565row1_col7,#T_fe005eb2_a484_11ed_a84b_227bc58c8565row2_col0,#T_fe005eb2_a484_11ed_a84b_227bc58c8565row2_col1,#T_fe005eb2_a484_11ed_a84b_227bc58c8565row2_col2,#T_fe005eb2_a484_11ed_a84b_227bc58c8565row2_col3,#T_fe005eb2_a484_11ed_a84b_227bc58c8565row2_col4,#T_fe005eb2_a484_11ed_a84b_227bc58c8565row2_col5,#T_fe005eb2_a484_11ed_a84b_227bc58c8565row2_col6,#T_fe005eb2_a484_11ed_a84b_227bc58c8565row2_col7,#T_fe005eb2_a484_11ed_a84b_227bc58c8565row3_col0,#T_fe005eb2_a484_11ed_a84b_227bc58c8565row3_col1,#T_fe005eb2_a484_11ed_a84b_227bc58c8565row3_col2,#T_fe005eb2_a484_11ed_a84b_227bc58c8565row3_col3,#T_fe005eb2_a484_11ed_a84b_227bc58c8565row3_col4,#T_fe005eb2_a484_11ed_a84b_227bc58c8565row3_col5,#T_fe005eb2_a484_11ed_a84b_227bc58c8565row3_col6,#T_fe005eb2_a484_11ed_a84b_227bc58c8565row3_col7,#T_fe005eb2_a484_11ed_a84b_227bc58c8565row4_col0,#T_fe005eb2_a484_11ed_a84b_227bc58c8565row4_col1,#T_fe005eb2_a484_11ed_a84b_227bc58c8565row4_col2,#T_fe005eb2_a484_11ed_a84b_227bc58c8565row4_col3,#T_fe005eb2_a484_11ed_a84b_227bc58c8565row4_col4,#T_fe005eb2_a484_11ed_a84b_227bc58c8565row4_col5,#T_fe005eb2_a484_11ed_a84b_227bc58c8565row4_col6,#T_fe005eb2_a484_11ed_a84b_227bc58c8565row4_col7,#T_fe005eb2_a484_11ed_a84b_227bc58c8565row5_col0,#T_fe005eb2_a484_11ed_a84b_227bc58c8565row5_col1,#T_fe005eb2_a484_11ed_a84b_227bc58c8565row5_col2,#T_fe005eb2_a484_11ed_a84b_227bc58c8565row5_col3,#T_fe005eb2_a484_11ed_a84b_227bc58c8565row5_col4,#T_fe005eb2_a484_11ed_a84b_227bc58c8565row5_col5,#T_fe005eb2_a484_11ed_a84b_227bc58c8565row5_col6,#T_fe005eb2_a484_11ed_a84b_227bc58c8565row5_col7{\n",
       "            background-color:  purple;\n",
       "            color:  white;\n",
       "            border-color:  White;\n",
       "        }</style><table id=\"T_fe005eb2_a484_11ed_a84b_227bc58c8565\" ><thead>    <tr>        <th class=\"blank level0\" ></th>        <th class=\"col_heading level0 col0\" >Type</th>        <th class=\"col_heading level0 col1\" >Air temperature [K]</th>        <th class=\"col_heading level0 col2\" >Process temperature [K]</th>        <th class=\"col_heading level0 col3\" >Rotational speed [rpm]</th>        <th class=\"col_heading level0 col4\" >Torque [Nm]</th>        <th class=\"col_heading level0 col5\" >Tool wear [min]</th>        <th class=\"col_heading level0 col6\" >Target</th>        <th class=\"col_heading level0 col7\" >Failure Type</th>    </tr></thead><tbody>\n",
       "                <tr>\n",
       "                        <th id=\"T_fe005eb2_a484_11ed_a84b_227bc58c8565level0_row0\" class=\"row_heading level0 row0\" >1323</th>\n",
       "                        <td id=\"T_fe005eb2_a484_11ed_a84b_227bc58c8565row0_col0\" class=\"data row0 col0\" >L</td>\n",
       "                        <td id=\"T_fe005eb2_a484_11ed_a84b_227bc58c8565row0_col1\" class=\"data row0 col1\" >298.900000</td>\n",
       "                        <td id=\"T_fe005eb2_a484_11ed_a84b_227bc58c8565row0_col2\" class=\"data row0 col2\" >310.100000</td>\n",
       "                        <td id=\"T_fe005eb2_a484_11ed_a84b_227bc58c8565row0_col3\" class=\"data row0 col3\" >1361</td>\n",
       "                        <td id=\"T_fe005eb2_a484_11ed_a84b_227bc58c8565row0_col4\" class=\"data row0 col4\" >51.700000</td>\n",
       "                        <td id=\"T_fe005eb2_a484_11ed_a84b_227bc58c8565row0_col5\" class=\"data row0 col5\" >192</td>\n",
       "                        <td id=\"T_fe005eb2_a484_11ed_a84b_227bc58c8565row0_col6\" class=\"data row0 col6\" >0</td>\n",
       "                        <td id=\"T_fe005eb2_a484_11ed_a84b_227bc58c8565row0_col7\" class=\"data row0 col7\" >No Failure</td>\n",
       "            </tr>\n",
       "            <tr>\n",
       "                        <th id=\"T_fe005eb2_a484_11ed_a84b_227bc58c8565level0_row1\" class=\"row_heading level0 row1\" >4302</th>\n",
       "                        <td id=\"T_fe005eb2_a484_11ed_a84b_227bc58c8565row1_col0\" class=\"data row1 col0\" >L</td>\n",
       "                        <td id=\"T_fe005eb2_a484_11ed_a84b_227bc58c8565row1_col1\" class=\"data row1 col1\" >301.700000</td>\n",
       "                        <td id=\"T_fe005eb2_a484_11ed_a84b_227bc58c8565row1_col2\" class=\"data row1 col2\" >310.100000</td>\n",
       "                        <td id=\"T_fe005eb2_a484_11ed_a84b_227bc58c8565row1_col3\" class=\"data row1 col3\" >2695</td>\n",
       "                        <td id=\"T_fe005eb2_a484_11ed_a84b_227bc58c8565row1_col4\" class=\"data row1 col4\" >12.600000</td>\n",
       "                        <td id=\"T_fe005eb2_a484_11ed_a84b_227bc58c8565row1_col5\" class=\"data row1 col5\" >10</td>\n",
       "                        <td id=\"T_fe005eb2_a484_11ed_a84b_227bc58c8565row1_col6\" class=\"data row1 col6\" >0</td>\n",
       "                        <td id=\"T_fe005eb2_a484_11ed_a84b_227bc58c8565row1_col7\" class=\"data row1 col7\" >No Failure</td>\n",
       "            </tr>\n",
       "            <tr>\n",
       "                        <th id=\"T_fe005eb2_a484_11ed_a84b_227bc58c8565level0_row2\" class=\"row_heading level0 row2\" >2544</th>\n",
       "                        <td id=\"T_fe005eb2_a484_11ed_a84b_227bc58c8565row2_col0\" class=\"data row2 col0\" >L</td>\n",
       "                        <td id=\"T_fe005eb2_a484_11ed_a84b_227bc58c8565row2_col1\" class=\"data row2 col1\" >299.200000</td>\n",
       "                        <td id=\"T_fe005eb2_a484_11ed_a84b_227bc58c8565row2_col2\" class=\"data row2 col2\" >309.000000</td>\n",
       "                        <td id=\"T_fe005eb2_a484_11ed_a84b_227bc58c8565row2_col3\" class=\"data row2 col3\" >1951</td>\n",
       "                        <td id=\"T_fe005eb2_a484_11ed_a84b_227bc58c8565row2_col4\" class=\"data row2 col4\" >21.400000</td>\n",
       "                        <td id=\"T_fe005eb2_a484_11ed_a84b_227bc58c8565row2_col5\" class=\"data row2 col5\" >102</td>\n",
       "                        <td id=\"T_fe005eb2_a484_11ed_a84b_227bc58c8565row2_col6\" class=\"data row2 col6\" >0</td>\n",
       "                        <td id=\"T_fe005eb2_a484_11ed_a84b_227bc58c8565row2_col7\" class=\"data row2 col7\" >No Failure</td>\n",
       "            </tr>\n",
       "            <tr>\n",
       "                        <th id=\"T_fe005eb2_a484_11ed_a84b_227bc58c8565level0_row3\" class=\"row_heading level0 row3\" >9376</th>\n",
       "                        <td id=\"T_fe005eb2_a484_11ed_a84b_227bc58c8565row3_col0\" class=\"data row3 col0\" >H</td>\n",
       "                        <td id=\"T_fe005eb2_a484_11ed_a84b_227bc58c8565row3_col1\" class=\"data row3 col1\" >297.700000</td>\n",
       "                        <td id=\"T_fe005eb2_a484_11ed_a84b_227bc58c8565row3_col2\" class=\"data row3 col2\" >308.400000</td>\n",
       "                        <td id=\"T_fe005eb2_a484_11ed_a84b_227bc58c8565row3_col3\" class=\"data row3 col3\" >1738</td>\n",
       "                        <td id=\"T_fe005eb2_a484_11ed_a84b_227bc58c8565row3_col4\" class=\"data row3 col4\" >27.700000</td>\n",
       "                        <td id=\"T_fe005eb2_a484_11ed_a84b_227bc58c8565row3_col5\" class=\"data row3 col5\" >96</td>\n",
       "                        <td id=\"T_fe005eb2_a484_11ed_a84b_227bc58c8565row3_col6\" class=\"data row3 col6\" >0</td>\n",
       "                        <td id=\"T_fe005eb2_a484_11ed_a84b_227bc58c8565row3_col7\" class=\"data row3 col7\" >No Failure</td>\n",
       "            </tr>\n",
       "            <tr>\n",
       "                        <th id=\"T_fe005eb2_a484_11ed_a84b_227bc58c8565level0_row4\" class=\"row_heading level0 row4\" >828</th>\n",
       "                        <td id=\"T_fe005eb2_a484_11ed_a84b_227bc58c8565row4_col0\" class=\"data row4 col0\" >L</td>\n",
       "                        <td id=\"T_fe005eb2_a484_11ed_a84b_227bc58c8565row4_col1\" class=\"data row4 col1\" >296.500000</td>\n",
       "                        <td id=\"T_fe005eb2_a484_11ed_a84b_227bc58c8565row4_col2\" class=\"data row4 col2\" >307.300000</td>\n",
       "                        <td id=\"T_fe005eb2_a484_11ed_a84b_227bc58c8565row4_col3\" class=\"data row4 col3\" >1566</td>\n",
       "                        <td id=\"T_fe005eb2_a484_11ed_a84b_227bc58c8565row4_col4\" class=\"data row4 col4\" >37.200000</td>\n",
       "                        <td id=\"T_fe005eb2_a484_11ed_a84b_227bc58c8565row4_col5\" class=\"data row4 col5\" >164</td>\n",
       "                        <td id=\"T_fe005eb2_a484_11ed_a84b_227bc58c8565row4_col6\" class=\"data row4 col6\" >0</td>\n",
       "                        <td id=\"T_fe005eb2_a484_11ed_a84b_227bc58c8565row4_col7\" class=\"data row4 col7\" >No Failure</td>\n",
       "            </tr>\n",
       "            <tr>\n",
       "                        <th id=\"T_fe005eb2_a484_11ed_a84b_227bc58c8565level0_row5\" class=\"row_heading level0 row5\" >8447</th>\n",
       "                        <td id=\"T_fe005eb2_a484_11ed_a84b_227bc58c8565row5_col0\" class=\"data row5 col0\" >L</td>\n",
       "                        <td id=\"T_fe005eb2_a484_11ed_a84b_227bc58c8565row5_col1\" class=\"data row5 col1\" >298.600000</td>\n",
       "                        <td id=\"T_fe005eb2_a484_11ed_a84b_227bc58c8565row5_col2\" class=\"data row5 col2\" >310.100000</td>\n",
       "                        <td id=\"T_fe005eb2_a484_11ed_a84b_227bc58c8565row5_col3\" class=\"data row5 col3\" >1439</td>\n",
       "                        <td id=\"T_fe005eb2_a484_11ed_a84b_227bc58c8565row5_col4\" class=\"data row5 col4\" >49.900000</td>\n",
       "                        <td id=\"T_fe005eb2_a484_11ed_a84b_227bc58c8565row5_col5\" class=\"data row5 col5\" >17</td>\n",
       "                        <td id=\"T_fe005eb2_a484_11ed_a84b_227bc58c8565row5_col6\" class=\"data row5 col6\" >0</td>\n",
       "                        <td id=\"T_fe005eb2_a484_11ed_a84b_227bc58c8565row5_col7\" class=\"data row5 col7\" >No Failure</td>\n",
       "            </tr>\n",
       "    </tbody></table>"
      ],
      "text/plain": [
       "<pandas.io.formats.style.Styler at 0x7f0e9460a898>"
      ]
     },
     "execution_count": 3,
     "metadata": {},
     "output_type": "execute_result"
    }
   ],
   "source": [
    "df=pd.read_csv(\"/data/predictive_maintenance.csv\")\n",
    "df = df.drop([\"UDI\",\"Product ID\"],axis=1)\n",
    "df.sample(6).style.set_properties(\n",
    "    **{\n",
    "        'background-color': 'purple',\n",
    "        'color': 'white',\n",
    "        'border-color': 'White'\n",
    "    })"
   ]
  },
  {
   "cell_type": "code",
   "execution_count": 4,
   "id": "8c27dfe2",
   "metadata": {},
   "outputs": [],
   "source": [
    "## Converting temperature in centigrate from Kelvin [1 K = -272.15 °C  ] \n",
    "\n",
    "df[\"Air temperature [K]\"] = df[\"Air temperature [K]\"] - 272.15\n",
    "df[\"Process temperature [K]\"] = df[\"Process temperature [K]\"] - 272.15\n",
    "\n",
    "# Renaming temperature in Centigrate(°C) from Kelvin (K)\n",
    "df.rename(columns={\"Air temperature [K]\" : \"Air temperature [°C]\",\"Process temperature [K]\" : \"Process temperature [°C]\"},inplace=True)"
   ]
  },
  {
   "cell_type": "code",
   "execution_count": 5,
   "id": "869404a0",
   "metadata": {},
   "outputs": [
    {
     "data": {
      "text/html": [
       "<div>\n",
       "<style scoped>\n",
       "    .dataframe tbody tr th:only-of-type {\n",
       "        vertical-align: middle;\n",
       "    }\n",
       "\n",
       "    .dataframe tbody tr th {\n",
       "        vertical-align: top;\n",
       "    }\n",
       "\n",
       "    .dataframe thead th {\n",
       "        text-align: right;\n",
       "    }\n",
       "</style>\n",
       "<table border=\"1\" class=\"dataframe\">\n",
       "  <thead>\n",
       "    <tr style=\"text-align: right;\">\n",
       "      <th></th>\n",
       "      <th>Type</th>\n",
       "      <th>Air temperature [°C]</th>\n",
       "      <th>Process temperature [°C]</th>\n",
       "      <th>Rotational speed [rpm]</th>\n",
       "      <th>Torque [Nm]</th>\n",
       "      <th>Tool wear [min]</th>\n",
       "      <th>Target</th>\n",
       "      <th>Failure Type</th>\n",
       "      <th>Temperature difference [°C]</th>\n",
       "    </tr>\n",
       "  </thead>\n",
       "  <tbody>\n",
       "    <tr>\n",
       "      <th>3910</th>\n",
       "      <td>L</td>\n",
       "      <td>30.25</td>\n",
       "      <td>39.25</td>\n",
       "      <td>1831</td>\n",
       "      <td>26.9</td>\n",
       "      <td>121</td>\n",
       "      <td>0</td>\n",
       "      <td>No Failure</td>\n",
       "      <td>9.0</td>\n",
       "    </tr>\n",
       "    <tr>\n",
       "      <th>6006</th>\n",
       "      <td>M</td>\n",
       "      <td>28.45</td>\n",
       "      <td>38.35</td>\n",
       "      <td>2156</td>\n",
       "      <td>18.0</td>\n",
       "      <td>16</td>\n",
       "      <td>0</td>\n",
       "      <td>No Failure</td>\n",
       "      <td>9.9</td>\n",
       "    </tr>\n",
       "    <tr>\n",
       "      <th>2765</th>\n",
       "      <td>M</td>\n",
       "      <td>27.75</td>\n",
       "      <td>37.25</td>\n",
       "      <td>1399</td>\n",
       "      <td>54.8</td>\n",
       "      <td>3</td>\n",
       "      <td>0</td>\n",
       "      <td>No Failure</td>\n",
       "      <td>9.5</td>\n",
       "    </tr>\n",
       "    <tr>\n",
       "      <th>1338</th>\n",
       "      <td>L</td>\n",
       "      <td>26.45</td>\n",
       "      <td>37.95</td>\n",
       "      <td>1721</td>\n",
       "      <td>27.2</td>\n",
       "      <td>5</td>\n",
       "      <td>0</td>\n",
       "      <td>No Failure</td>\n",
       "      <td>11.5</td>\n",
       "    </tr>\n",
       "    <tr>\n",
       "      <th>8800</th>\n",
       "      <td>L</td>\n",
       "      <td>25.25</td>\n",
       "      <td>36.35</td>\n",
       "      <td>1475</td>\n",
       "      <td>47.2</td>\n",
       "      <td>69</td>\n",
       "      <td>0</td>\n",
       "      <td>No Failure</td>\n",
       "      <td>11.1</td>\n",
       "    </tr>\n",
       "  </tbody>\n",
       "</table>\n",
       "</div>"
      ],
      "text/plain": [
       "     Type  Air temperature [°C]  Process temperature [°C]  \\\n",
       "3910    L                 30.25                     39.25   \n",
       "6006    M                 28.45                     38.35   \n",
       "2765    M                 27.75                     37.25   \n",
       "1338    L                 26.45                     37.95   \n",
       "8800    L                 25.25                     36.35   \n",
       "\n",
       "      Rotational speed [rpm]  Torque [Nm]  Tool wear [min]  Target  \\\n",
       "3910                    1831         26.9              121       0   \n",
       "6006                    2156         18.0               16       0   \n",
       "2765                    1399         54.8                3       0   \n",
       "1338                    1721         27.2                5       0   \n",
       "8800                    1475         47.2               69       0   \n",
       "\n",
       "     Failure Type  Temperature difference [°C]  \n",
       "3910   No Failure                          9.0  \n",
       "6006   No Failure                          9.9  \n",
       "2765   No Failure                          9.5  \n",
       "1338   No Failure                         11.5  \n",
       "8800   No Failure                         11.1  "
      ]
     },
     "execution_count": 5,
     "metadata": {},
     "output_type": "execute_result"
    }
   ],
   "source": [
    "df[\"Temperature difference [°C]\"] = df[\"Process temperature [°C]\"] - df[\"Air temperature [°C]\"]\n",
    "df.sample(5)"
   ]
  },
  {
   "cell_type": "code",
   "execution_count": 6,
   "id": "03767ba0",
   "metadata": {},
   "outputs": [
    {
     "data": {
      "text/plain": [
       "(10000, 9)"
      ]
     },
     "metadata": {},
     "output_type": "display_data"
    },
    {
     "data": {
      "text/plain": [
       "90000"
      ]
     },
     "metadata": {},
     "output_type": "display_data"
    }
   ],
   "source": [
    "display(df.shape)\n",
    "display(df.size)"
   ]
  },
  {
   "cell_type": "code",
   "execution_count": 7,
   "id": "a895422a",
   "metadata": {},
   "outputs": [
    {
     "name": "stdout",
     "output_type": "stream",
     "text": [
      "<class 'pandas.core.frame.DataFrame'>\n",
      "RangeIndex: 10000 entries, 0 to 9999\n",
      "Data columns (total 9 columns):\n",
      " #   Column                       Non-Null Count  Dtype  \n",
      "---  ------                       --------------  -----  \n",
      " 0   Type                         10000 non-null  object \n",
      " 1   Air temperature [°C]         10000 non-null  float64\n",
      " 2   Process temperature [°C]     10000 non-null  float64\n",
      " 3   Rotational speed [rpm]       10000 non-null  int64  \n",
      " 4   Torque [Nm]                  10000 non-null  float64\n",
      " 5   Tool wear [min]              10000 non-null  int64  \n",
      " 6   Target                       10000 non-null  int64  \n",
      " 7   Failure Type                 10000 non-null  object \n",
      " 8   Temperature difference [°C]  10000 non-null  float64\n",
      "dtypes: float64(4), int64(3), object(2)\n",
      "memory usage: 703.2+ KB\n"
     ]
    }
   ],
   "source": [
    "df.info()"
   ]
  },
  {
   "cell_type": "code",
   "execution_count": 8,
   "id": "6f72ffba",
   "metadata": {},
   "outputs": [
    {
     "data": {
      "text/html": [
       "<style  type=\"text/css\" >\n",
       "#T_0470b2e2_a485_11ed_a84b_227bc58c8565row0_col0,#T_0470b2e2_a485_11ed_a84b_227bc58c8565row0_col1,#T_0470b2e2_a485_11ed_a84b_227bc58c8565row0_col2,#T_0470b2e2_a485_11ed_a84b_227bc58c8565row0_col3,#T_0470b2e2_a485_11ed_a84b_227bc58c8565row0_col4,#T_0470b2e2_a485_11ed_a84b_227bc58c8565row0_col5,#T_0470b2e2_a485_11ed_a84b_227bc58c8565row0_col6{\n",
       "            background-color:  #fcfdbf;\n",
       "            color:  #000000;\n",
       "        }#T_0470b2e2_a485_11ed_a84b_227bc58c8565row1_col0,#T_0470b2e2_a485_11ed_a84b_227bc58c8565row1_col1,#T_0470b2e2_a485_11ed_a84b_227bc58c8565row1_col3,#T_0470b2e2_a485_11ed_a84b_227bc58c8565row1_col5,#T_0470b2e2_a485_11ed_a84b_227bc58c8565row1_col6,#T_0470b2e2_a485_11ed_a84b_227bc58c8565row2_col0,#T_0470b2e2_a485_11ed_a84b_227bc58c8565row2_col1,#T_0470b2e2_a485_11ed_a84b_227bc58c8565row2_col2,#T_0470b2e2_a485_11ed_a84b_227bc58c8565row2_col3,#T_0470b2e2_a485_11ed_a84b_227bc58c8565row2_col5,#T_0470b2e2_a485_11ed_a84b_227bc58c8565row2_col6,#T_0470b2e2_a485_11ed_a84b_227bc58c8565row3_col0,#T_0470b2e2_a485_11ed_a84b_227bc58c8565row3_col1,#T_0470b2e2_a485_11ed_a84b_227bc58c8565row3_col3,#T_0470b2e2_a485_11ed_a84b_227bc58c8565row3_col4,#T_0470b2e2_a485_11ed_a84b_227bc58c8565row3_col5,#T_0470b2e2_a485_11ed_a84b_227bc58c8565row3_col6,#T_0470b2e2_a485_11ed_a84b_227bc58c8565row4_col0,#T_0470b2e2_a485_11ed_a84b_227bc58c8565row4_col1,#T_0470b2e2_a485_11ed_a84b_227bc58c8565row4_col3,#T_0470b2e2_a485_11ed_a84b_227bc58c8565row4_col5,#T_0470b2e2_a485_11ed_a84b_227bc58c8565row4_col6,#T_0470b2e2_a485_11ed_a84b_227bc58c8565row5_col0,#T_0470b2e2_a485_11ed_a84b_227bc58c8565row5_col1,#T_0470b2e2_a485_11ed_a84b_227bc58c8565row5_col3,#T_0470b2e2_a485_11ed_a84b_227bc58c8565row5_col5,#T_0470b2e2_a485_11ed_a84b_227bc58c8565row5_col6,#T_0470b2e2_a485_11ed_a84b_227bc58c8565row6_col0,#T_0470b2e2_a485_11ed_a84b_227bc58c8565row6_col1,#T_0470b2e2_a485_11ed_a84b_227bc58c8565row6_col5,#T_0470b2e2_a485_11ed_a84b_227bc58c8565row6_col6,#T_0470b2e2_a485_11ed_a84b_227bc58c8565row7_col0,#T_0470b2e2_a485_11ed_a84b_227bc58c8565row7_col5,#T_0470b2e2_a485_11ed_a84b_227bc58c8565row7_col6{\n",
       "            background-color:  #000004;\n",
       "            color:  #f1f1f1;\n",
       "        }#T_0470b2e2_a485_11ed_a84b_227bc58c8565row1_col2{\n",
       "            background-color:  #21114e;\n",
       "            color:  #f1f1f1;\n",
       "        }#T_0470b2e2_a485_11ed_a84b_227bc58c8565row1_col4,#T_0470b2e2_a485_11ed_a84b_227bc58c8565row5_col4{\n",
       "            background-color:  #010106;\n",
       "            color:  #f1f1f1;\n",
       "        }#T_0470b2e2_a485_11ed_a84b_227bc58c8565row2_col4,#T_0470b2e2_a485_11ed_a84b_227bc58c8565row4_col4,#T_0470b2e2_a485_11ed_a84b_227bc58c8565row6_col3,#T_0470b2e2_a485_11ed_a84b_227bc58c8565row7_col1,#T_0470b2e2_a485_11ed_a84b_227bc58c8565row7_col3{\n",
       "            background-color:  #010005;\n",
       "            color:  #f1f1f1;\n",
       "        }#T_0470b2e2_a485_11ed_a84b_227bc58c8565row3_col2{\n",
       "            background-color:  #140e36;\n",
       "            color:  #f1f1f1;\n",
       "        }#T_0470b2e2_a485_11ed_a84b_227bc58c8565row4_col2{\n",
       "            background-color:  #1d1147;\n",
       "            color:  #f1f1f1;\n",
       "        }#T_0470b2e2_a485_11ed_a84b_227bc58c8565row5_col2{\n",
       "            background-color:  #20114b;\n",
       "            color:  #f1f1f1;\n",
       "        }#T_0470b2e2_a485_11ed_a84b_227bc58c8565row6_col2{\n",
       "            background-color:  #241253;\n",
       "            color:  #f1f1f1;\n",
       "        }#T_0470b2e2_a485_11ed_a84b_227bc58c8565row6_col4{\n",
       "            background-color:  #020109;\n",
       "            color:  #f1f1f1;\n",
       "        }#T_0470b2e2_a485_11ed_a84b_227bc58c8565row7_col2{\n",
       "            background-color:  #5a167e;\n",
       "            color:  #f1f1f1;\n",
       "        }#T_0470b2e2_a485_11ed_a84b_227bc58c8565row7_col4{\n",
       "            background-color:  #02020d;\n",
       "            color:  #f1f1f1;\n",
       "        }</style><table id=\"T_0470b2e2_a485_11ed_a84b_227bc58c8565\" ><thead>    <tr>        <th class=\"blank level0\" ></th>        <th class=\"col_heading level0 col0\" >Air temperature [°C]</th>        <th class=\"col_heading level0 col1\" >Process temperature [°C]</th>        <th class=\"col_heading level0 col2\" >Rotational speed [rpm]</th>        <th class=\"col_heading level0 col3\" >Torque [Nm]</th>        <th class=\"col_heading level0 col4\" >Tool wear [min]</th>        <th class=\"col_heading level0 col5\" >Target</th>        <th class=\"col_heading level0 col6\" >Temperature difference [°C]</th>    </tr></thead><tbody>\n",
       "                <tr>\n",
       "                        <th id=\"T_0470b2e2_a485_11ed_a84b_227bc58c8565level0_row0\" class=\"row_heading level0 row0\" >count</th>\n",
       "                        <td id=\"T_0470b2e2_a485_11ed_a84b_227bc58c8565row0_col0\" class=\"data row0 col0\" >10000.000000</td>\n",
       "                        <td id=\"T_0470b2e2_a485_11ed_a84b_227bc58c8565row0_col1\" class=\"data row0 col1\" >10000.000000</td>\n",
       "                        <td id=\"T_0470b2e2_a485_11ed_a84b_227bc58c8565row0_col2\" class=\"data row0 col2\" >10000.000000</td>\n",
       "                        <td id=\"T_0470b2e2_a485_11ed_a84b_227bc58c8565row0_col3\" class=\"data row0 col3\" >10000.000000</td>\n",
       "                        <td id=\"T_0470b2e2_a485_11ed_a84b_227bc58c8565row0_col4\" class=\"data row0 col4\" >10000.000000</td>\n",
       "                        <td id=\"T_0470b2e2_a485_11ed_a84b_227bc58c8565row0_col5\" class=\"data row0 col5\" >10000.000000</td>\n",
       "                        <td id=\"T_0470b2e2_a485_11ed_a84b_227bc58c8565row0_col6\" class=\"data row0 col6\" >10000.000000</td>\n",
       "            </tr>\n",
       "            <tr>\n",
       "                        <th id=\"T_0470b2e2_a485_11ed_a84b_227bc58c8565level0_row1\" class=\"row_heading level0 row1\" >mean</th>\n",
       "                        <td id=\"T_0470b2e2_a485_11ed_a84b_227bc58c8565row1_col0\" class=\"data row1 col0\" >27.854930</td>\n",
       "                        <td id=\"T_0470b2e2_a485_11ed_a84b_227bc58c8565row1_col1\" class=\"data row1 col1\" >37.855560</td>\n",
       "                        <td id=\"T_0470b2e2_a485_11ed_a84b_227bc58c8565row1_col2\" class=\"data row1 col2\" >1538.776100</td>\n",
       "                        <td id=\"T_0470b2e2_a485_11ed_a84b_227bc58c8565row1_col3\" class=\"data row1 col3\" >39.986910</td>\n",
       "                        <td id=\"T_0470b2e2_a485_11ed_a84b_227bc58c8565row1_col4\" class=\"data row1 col4\" >107.951000</td>\n",
       "                        <td id=\"T_0470b2e2_a485_11ed_a84b_227bc58c8565row1_col5\" class=\"data row1 col5\" >0.033900</td>\n",
       "                        <td id=\"T_0470b2e2_a485_11ed_a84b_227bc58c8565row1_col6\" class=\"data row1 col6\" >10.000630</td>\n",
       "            </tr>\n",
       "            <tr>\n",
       "                        <th id=\"T_0470b2e2_a485_11ed_a84b_227bc58c8565level0_row2\" class=\"row_heading level0 row2\" >std</th>\n",
       "                        <td id=\"T_0470b2e2_a485_11ed_a84b_227bc58c8565row2_col0\" class=\"data row2 col0\" >2.000259</td>\n",
       "                        <td id=\"T_0470b2e2_a485_11ed_a84b_227bc58c8565row2_col1\" class=\"data row2 col1\" >1.483734</td>\n",
       "                        <td id=\"T_0470b2e2_a485_11ed_a84b_227bc58c8565row2_col2\" class=\"data row2 col2\" >179.284096</td>\n",
       "                        <td id=\"T_0470b2e2_a485_11ed_a84b_227bc58c8565row2_col3\" class=\"data row2 col3\" >9.968934</td>\n",
       "                        <td id=\"T_0470b2e2_a485_11ed_a84b_227bc58c8565row2_col4\" class=\"data row2 col4\" >63.654147</td>\n",
       "                        <td id=\"T_0470b2e2_a485_11ed_a84b_227bc58c8565row2_col5\" class=\"data row2 col5\" >0.180981</td>\n",
       "                        <td id=\"T_0470b2e2_a485_11ed_a84b_227bc58c8565row2_col6\" class=\"data row2 col6\" >1.001094</td>\n",
       "            </tr>\n",
       "            <tr>\n",
       "                        <th id=\"T_0470b2e2_a485_11ed_a84b_227bc58c8565level0_row3\" class=\"row_heading level0 row3\" >min</th>\n",
       "                        <td id=\"T_0470b2e2_a485_11ed_a84b_227bc58c8565row3_col0\" class=\"data row3 col0\" >23.150000</td>\n",
       "                        <td id=\"T_0470b2e2_a485_11ed_a84b_227bc58c8565row3_col1\" class=\"data row3 col1\" >33.550000</td>\n",
       "                        <td id=\"T_0470b2e2_a485_11ed_a84b_227bc58c8565row3_col2\" class=\"data row3 col2\" >1168.000000</td>\n",
       "                        <td id=\"T_0470b2e2_a485_11ed_a84b_227bc58c8565row3_col3\" class=\"data row3 col3\" >3.800000</td>\n",
       "                        <td id=\"T_0470b2e2_a485_11ed_a84b_227bc58c8565row3_col4\" class=\"data row3 col4\" >0.000000</td>\n",
       "                        <td id=\"T_0470b2e2_a485_11ed_a84b_227bc58c8565row3_col5\" class=\"data row3 col5\" >0.000000</td>\n",
       "                        <td id=\"T_0470b2e2_a485_11ed_a84b_227bc58c8565row3_col6\" class=\"data row3 col6\" >7.600000</td>\n",
       "            </tr>\n",
       "            <tr>\n",
       "                        <th id=\"T_0470b2e2_a485_11ed_a84b_227bc58c8565level0_row4\" class=\"row_heading level0 row4\" >25%</th>\n",
       "                        <td id=\"T_0470b2e2_a485_11ed_a84b_227bc58c8565row4_col0\" class=\"data row4 col0\" >26.150000</td>\n",
       "                        <td id=\"T_0470b2e2_a485_11ed_a84b_227bc58c8565row4_col1\" class=\"data row4 col1\" >36.650000</td>\n",
       "                        <td id=\"T_0470b2e2_a485_11ed_a84b_227bc58c8565row4_col2\" class=\"data row4 col2\" >1423.000000</td>\n",
       "                        <td id=\"T_0470b2e2_a485_11ed_a84b_227bc58c8565row4_col3\" class=\"data row4 col3\" >33.200000</td>\n",
       "                        <td id=\"T_0470b2e2_a485_11ed_a84b_227bc58c8565row4_col4\" class=\"data row4 col4\" >53.000000</td>\n",
       "                        <td id=\"T_0470b2e2_a485_11ed_a84b_227bc58c8565row4_col5\" class=\"data row4 col5\" >0.000000</td>\n",
       "                        <td id=\"T_0470b2e2_a485_11ed_a84b_227bc58c8565row4_col6\" class=\"data row4 col6\" >9.300000</td>\n",
       "            </tr>\n",
       "            <tr>\n",
       "                        <th id=\"T_0470b2e2_a485_11ed_a84b_227bc58c8565level0_row5\" class=\"row_heading level0 row5\" >50%</th>\n",
       "                        <td id=\"T_0470b2e2_a485_11ed_a84b_227bc58c8565row5_col0\" class=\"data row5 col0\" >27.950000</td>\n",
       "                        <td id=\"T_0470b2e2_a485_11ed_a84b_227bc58c8565row5_col1\" class=\"data row5 col1\" >37.950000</td>\n",
       "                        <td id=\"T_0470b2e2_a485_11ed_a84b_227bc58c8565row5_col2\" class=\"data row5 col2\" >1503.000000</td>\n",
       "                        <td id=\"T_0470b2e2_a485_11ed_a84b_227bc58c8565row5_col3\" class=\"data row5 col3\" >40.100000</td>\n",
       "                        <td id=\"T_0470b2e2_a485_11ed_a84b_227bc58c8565row5_col4\" class=\"data row5 col4\" >108.000000</td>\n",
       "                        <td id=\"T_0470b2e2_a485_11ed_a84b_227bc58c8565row5_col5\" class=\"data row5 col5\" >0.000000</td>\n",
       "                        <td id=\"T_0470b2e2_a485_11ed_a84b_227bc58c8565row5_col6\" class=\"data row5 col6\" >9.800000</td>\n",
       "            </tr>\n",
       "            <tr>\n",
       "                        <th id=\"T_0470b2e2_a485_11ed_a84b_227bc58c8565level0_row6\" class=\"row_heading level0 row6\" >75%</th>\n",
       "                        <td id=\"T_0470b2e2_a485_11ed_a84b_227bc58c8565row6_col0\" class=\"data row6 col0\" >29.350000</td>\n",
       "                        <td id=\"T_0470b2e2_a485_11ed_a84b_227bc58c8565row6_col1\" class=\"data row6 col1\" >38.950000</td>\n",
       "                        <td id=\"T_0470b2e2_a485_11ed_a84b_227bc58c8565row6_col2\" class=\"data row6 col2\" >1612.000000</td>\n",
       "                        <td id=\"T_0470b2e2_a485_11ed_a84b_227bc58c8565row6_col3\" class=\"data row6 col3\" >46.800000</td>\n",
       "                        <td id=\"T_0470b2e2_a485_11ed_a84b_227bc58c8565row6_col4\" class=\"data row6 col4\" >162.000000</td>\n",
       "                        <td id=\"T_0470b2e2_a485_11ed_a84b_227bc58c8565row6_col5\" class=\"data row6 col5\" >0.000000</td>\n",
       "                        <td id=\"T_0470b2e2_a485_11ed_a84b_227bc58c8565row6_col6\" class=\"data row6 col6\" >11.000000</td>\n",
       "            </tr>\n",
       "            <tr>\n",
       "                        <th id=\"T_0470b2e2_a485_11ed_a84b_227bc58c8565level0_row7\" class=\"row_heading level0 row7\" >max</th>\n",
       "                        <td id=\"T_0470b2e2_a485_11ed_a84b_227bc58c8565row7_col0\" class=\"data row7 col0\" >32.350000</td>\n",
       "                        <td id=\"T_0470b2e2_a485_11ed_a84b_227bc58c8565row7_col1\" class=\"data row7 col1\" >41.650000</td>\n",
       "                        <td id=\"T_0470b2e2_a485_11ed_a84b_227bc58c8565row7_col2\" class=\"data row7 col2\" >2886.000000</td>\n",
       "                        <td id=\"T_0470b2e2_a485_11ed_a84b_227bc58c8565row7_col3\" class=\"data row7 col3\" >76.600000</td>\n",
       "                        <td id=\"T_0470b2e2_a485_11ed_a84b_227bc58c8565row7_col4\" class=\"data row7 col4\" >253.000000</td>\n",
       "                        <td id=\"T_0470b2e2_a485_11ed_a84b_227bc58c8565row7_col5\" class=\"data row7 col5\" >1.000000</td>\n",
       "                        <td id=\"T_0470b2e2_a485_11ed_a84b_227bc58c8565row7_col6\" class=\"data row7 col6\" >12.100000</td>\n",
       "            </tr>\n",
       "    </tbody></table>"
      ],
      "text/plain": [
       "<pandas.io.formats.style.Styler at 0x7f0e9667fb00>"
      ]
     },
     "execution_count": 8,
     "metadata": {},
     "output_type": "execute_result"
    }
   ],
   "source": [
    "df.describe().style.background_gradient(cmap=\"magma\")"
   ]
  },
  {
   "cell_type": "markdown",
   "id": "939b26c1",
   "metadata": {},
   "source": [
    "# Feature Selection"
   ]
  },
  {
   "cell_type": "code",
   "execution_count": 9,
   "id": "6ff6b139",
   "metadata": {},
   "outputs": [
    {
     "data": {
      "text/html": [
       "<div>\n",
       "<style scoped>\n",
       "    .dataframe tbody tr th:only-of-type {\n",
       "        vertical-align: middle;\n",
       "    }\n",
       "\n",
       "    .dataframe tbody tr th {\n",
       "        vertical-align: top;\n",
       "    }\n",
       "\n",
       "    .dataframe thead th {\n",
       "        text-align: right;\n",
       "    }\n",
       "</style>\n",
       "<table border=\"1\" class=\"dataframe\">\n",
       "  <thead>\n",
       "    <tr style=\"text-align: right;\">\n",
       "      <th></th>\n",
       "      <th>Type</th>\n",
       "      <th>Air temperature [°C]</th>\n",
       "      <th>Process temperature [°C]</th>\n",
       "      <th>Rotational speed [rpm]</th>\n",
       "      <th>Torque [Nm]</th>\n",
       "      <th>Tool wear [min]</th>\n",
       "      <th>Target</th>\n",
       "      <th>Failure Type</th>\n",
       "      <th>Temperature difference [°C]</th>\n",
       "    </tr>\n",
       "  </thead>\n",
       "  <tbody>\n",
       "    <tr>\n",
       "      <th>0</th>\n",
       "      <td>1</td>\n",
       "      <td>25.95</td>\n",
       "      <td>36.45</td>\n",
       "      <td>1551</td>\n",
       "      <td>42.8</td>\n",
       "      <td>0</td>\n",
       "      <td>0</td>\n",
       "      <td>1</td>\n",
       "      <td>10.5</td>\n",
       "    </tr>\n",
       "    <tr>\n",
       "      <th>1</th>\n",
       "      <td>2</td>\n",
       "      <td>26.05</td>\n",
       "      <td>36.55</td>\n",
       "      <td>1408</td>\n",
       "      <td>46.3</td>\n",
       "      <td>3</td>\n",
       "      <td>0</td>\n",
       "      <td>1</td>\n",
       "      <td>10.5</td>\n",
       "    </tr>\n",
       "  </tbody>\n",
       "</table>\n",
       "</div>"
      ],
      "text/plain": [
       "   Type  Air temperature [°C]  Process temperature [°C]  \\\n",
       "0     1                 25.95                     36.45   \n",
       "1     2                 26.05                     36.55   \n",
       "\n",
       "   Rotational speed [rpm]  Torque [Nm]  Tool wear [min]  Target  Failure Type  \\\n",
       "0                    1551         42.8                0       0             1   \n",
       "1                    1408         46.3                3       0             1   \n",
       "\n",
       "   Temperature difference [°C]  \n",
       "0                         10.5  \n",
       "1                         10.5  "
      ]
     },
     "execution_count": 9,
     "metadata": {},
     "output_type": "execute_result"
    }
   ],
   "source": [
    "import category_encoders as ce\n",
    "encoder = ce.OrdinalEncoder(cols=['Type','Failure Type'])\n",
    "df = encoder.fit_transform(df)\n",
    "df.head(2)"
   ]
  },
  {
   "cell_type": "code",
   "execution_count": 10,
   "id": "f654ccc4",
   "metadata": {},
   "outputs": [],
   "source": [
    "from sklearn.preprocessing import LabelEncoder\n",
    "scaler = LabelEncoder()\n",
    "df['Failure Type'] = scaler.fit_transform(df['Failure Type'])"
   ]
  },
  {
   "cell_type": "code",
   "execution_count": 11,
   "id": "ec68c117",
   "metadata": {},
   "outputs": [],
   "source": [
    "X = df.drop(columns=\"Failure Type\" , axis=1)\n",
    "y = df[\"Failure Type\"]"
   ]
  },
  {
   "cell_type": "code",
   "execution_count": 12,
   "id": "8c46ba72",
   "metadata": {},
   "outputs": [
    {
     "data": {
      "text/plain": [
       "0    9652\n",
       "5     112\n",
       "1      95\n",
       "3      78\n",
       "2      45\n",
       "4      18\n",
       "Name: Failure Type, dtype: int64"
      ]
     },
     "execution_count": 12,
     "metadata": {},
     "output_type": "execute_result"
    }
   ],
   "source": [
    "df['Failure Type'].value_counts()"
   ]
  },
  {
   "cell_type": "code",
   "execution_count": 13,
   "id": "82490c73",
   "metadata": {},
   "outputs": [],
   "source": [
    "df_copy=df.copy()"
   ]
  },
  {
   "cell_type": "code",
   "execution_count": 14,
   "id": "2b884aea",
   "metadata": {},
   "outputs": [],
   "source": [
    "df_copy.drop(['Type', 'Failure Type'], axis=1, inplace=True)"
   ]
  },
  {
   "cell_type": "code",
   "execution_count": 15,
   "id": "eb4f45b9",
   "metadata": {},
   "outputs": [
    {
     "data": {
      "text/html": [
       "<div>\n",
       "<style scoped>\n",
       "    .dataframe tbody tr th:only-of-type {\n",
       "        vertical-align: middle;\n",
       "    }\n",
       "\n",
       "    .dataframe tbody tr th {\n",
       "        vertical-align: top;\n",
       "    }\n",
       "\n",
       "    .dataframe thead th {\n",
       "        text-align: right;\n",
       "    }\n",
       "</style>\n",
       "<table border=\"1\" class=\"dataframe\">\n",
       "  <thead>\n",
       "    <tr style=\"text-align: right;\">\n",
       "      <th></th>\n",
       "      <th>Air temperature [°C]</th>\n",
       "      <th>Process temperature [°C]</th>\n",
       "      <th>Rotational speed [rpm]</th>\n",
       "      <th>Torque [Nm]</th>\n",
       "      <th>Tool wear [min]</th>\n",
       "      <th>Target</th>\n",
       "      <th>Temperature difference [°C]</th>\n",
       "    </tr>\n",
       "  </thead>\n",
       "  <tbody>\n",
       "    <tr>\n",
       "      <th>0</th>\n",
       "      <td>25.95</td>\n",
       "      <td>36.45</td>\n",
       "      <td>1551</td>\n",
       "      <td>42.8</td>\n",
       "      <td>0</td>\n",
       "      <td>0</td>\n",
       "      <td>10.5</td>\n",
       "    </tr>\n",
       "    <tr>\n",
       "      <th>1</th>\n",
       "      <td>26.05</td>\n",
       "      <td>36.55</td>\n",
       "      <td>1408</td>\n",
       "      <td>46.3</td>\n",
       "      <td>3</td>\n",
       "      <td>0</td>\n",
       "      <td>10.5</td>\n",
       "    </tr>\n",
       "    <tr>\n",
       "      <th>2</th>\n",
       "      <td>25.95</td>\n",
       "      <td>36.35</td>\n",
       "      <td>1498</td>\n",
       "      <td>49.4</td>\n",
       "      <td>5</td>\n",
       "      <td>0</td>\n",
       "      <td>10.4</td>\n",
       "    </tr>\n",
       "    <tr>\n",
       "      <th>3</th>\n",
       "      <td>26.05</td>\n",
       "      <td>36.45</td>\n",
       "      <td>1433</td>\n",
       "      <td>39.5</td>\n",
       "      <td>7</td>\n",
       "      <td>0</td>\n",
       "      <td>10.4</td>\n",
       "    </tr>\n",
       "    <tr>\n",
       "      <th>4</th>\n",
       "      <td>26.05</td>\n",
       "      <td>36.55</td>\n",
       "      <td>1408</td>\n",
       "      <td>40.0</td>\n",
       "      <td>9</td>\n",
       "      <td>0</td>\n",
       "      <td>10.5</td>\n",
       "    </tr>\n",
       "  </tbody>\n",
       "</table>\n",
       "</div>"
      ],
      "text/plain": [
       "   Air temperature [°C]  Process temperature [°C]  Rotational speed [rpm]  \\\n",
       "0                 25.95                     36.45                    1551   \n",
       "1                 26.05                     36.55                    1408   \n",
       "2                 25.95                     36.35                    1498   \n",
       "3                 26.05                     36.45                    1433   \n",
       "4                 26.05                     36.55                    1408   \n",
       "\n",
       "   Torque [Nm]  Tool wear [min]  Target  Temperature difference [°C]  \n",
       "0         42.8                0       0                         10.5  \n",
       "1         46.3                3       0                         10.5  \n",
       "2         49.4                5       0                         10.4  \n",
       "3         39.5                7       0                         10.4  \n",
       "4         40.0                9       0                         10.5  "
      ]
     },
     "execution_count": 15,
     "metadata": {},
     "output_type": "execute_result"
    }
   ],
   "source": [
    "df_copy.head()"
   ]
  },
  {
   "cell_type": "code",
   "execution_count": 16,
   "id": "ed710a78",
   "metadata": {},
   "outputs": [
    {
     "data": {
      "text/plain": [
       "0    9661\n",
       "1     339\n",
       "Name: Target, dtype: int64"
      ]
     },
     "execution_count": 16,
     "metadata": {},
     "output_type": "execute_result"
    }
   ],
   "source": [
    "df_copy.Target.value_counts()"
   ]
  },
  {
   "cell_type": "code",
   "execution_count": 17,
   "id": "890e0dca",
   "metadata": {},
   "outputs": [],
   "source": [
    "df_copy.to_csv('/data/binaryclassification_modelinput.csv')"
   ]
  }
 ],
 "metadata": {
  "kernelspec": {
   "display_name": "Python 3",
   "language": "python",
   "name": "python3"
  },
  "language_info": {
   "codemirror_mode": {
    "name": "ipython",
    "version": 3
   },
   "file_extension": ".py",
   "mimetype": "text/x-python",
   "name": "python",
   "nbconvert_exporter": "python",
   "pygments_lexer": "ipython3",
   "version": "3.6.15"
  }
 },
 "nbformat": 4,
 "nbformat_minor": 5
}
