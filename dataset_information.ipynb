{
 "cells": [
  {
   "cell_type": "markdown",
   "id": "f6cd4f1c",
   "metadata": {},
   "source": [
    "# Brief Description\n",
    "This dataset reflects real predictive maintenance encountered in the industry with measurements from real equipment. \n",
    "The features description is taken directly from the dataset source.\n",
    "\n",
    "\n",
    "---------------------------------------------------------------------------------------------\n",
    "####  Features\n",
    "---------------------------------------------------------------------------------------------\n",
    "#####  Type:   \n",
    "the quality of the product, consisting of a letter L, M, or H. Meaning low, medium, and high, respectively.\n",
    "\n",
    "#####  Air temperature [K]: \n",
    "generated using a random walk process later normalized to a standard deviation of 2 K around 300 K.\n",
    "\n",
    "#####  Process temperature [K]: \n",
    "generated using a random walk process normalized to a standard deviation of 1 K, added to the air temperature plus 10 K.\n",
    "\n",
    "#####   Rotational speed [rpm]: \n",
    "calculated from power of 2860 W, overlaid with a normally distributed noise.\n",
    "\n",
    "##### Torque [Nm]: \n",
    "torque values are normally distributed around 40 Nm with an Ïƒ = 10 Nm and no negative values.\n",
    "\n",
    "##### Tool wear [min]: \n",
    "The quality variants H/M/L add 5/3/2 minutes of tool wear to the used tool in the process.\n",
    "\n",
    "---------------------------------------------------------------------------------------------\n",
    "####  Targets\n",
    "---------------------------------------------------------------------------------------------\n",
    "#####  Target: \n",
    "failure or no failure (to perform binary classification).\n",
    "\n",
    "#####  Failure Type: \n",
    "type of failure (to perform multiclass classification).\n",
    "\n",
    "\n",
    "\n",
    "---------------------------------------------------------------------------------------------\n",
    "####  Additional Information\n",
    "---------------------------------------------------------------------------------------------\n",
    "It also includes the following information, which is not useful for building the models:\n",
    "##### UID: \n",
    "unique identifier ranging from 1 to 10000.\n",
    "\n",
    "##### ProductID: \n",
    "the id of the product."
   ]
  },
  {
   "cell_type": "code",
   "execution_count": null,
   "id": "d4273f62",
   "metadata": {},
   "outputs": [],
   "source": []
  }
 ],
 "metadata": {
  "kernelspec": {
   "display_name": "Python 3",
   "language": "python",
   "name": "python3"
  },
  "language_info": {
   "codemirror_mode": {
    "name": "ipython",
    "version": 3
   },
   "file_extension": ".py",
   "mimetype": "text/x-python",
   "name": "python",
   "nbconvert_exporter": "python",
   "pygments_lexer": "ipython3",
   "version": "3.6.15"
  }
 },
 "nbformat": 4,
 "nbformat_minor": 5
}
