{
 "cells": [
  {
   "cell_type": "code",
   "execution_count": 2,
   "id": "51cea37b",
   "metadata": {},
   "outputs": [],
   "source": [
    "import requests\n",
    "data = {'payload': \"{'Air temperature [°C]': {'0': 31}, 'Process temperature [°C]': {'0': 38}, 'Rotational speed [rpm]': {'0': 1400}, 'Torque [Nm]': {'0': 56}, 'Tool wear [min]': {'0': 233}, 'Temperature difference [°C]': {'0': 7}}\"}"
   ]
  },
  {
   "cell_type": "code",
   "execution_count": 4,
   "id": "835e2e74",
   "metadata": {},
   "outputs": [],
   "source": [
    "headers={\"Content-type\":\"application/json\"}\n",
    "url = 'http://svc-3beb86ee-32ca-4775-92bc-2a8a463e12d4:5001/predictivemaintenancebinaryclassification/ec2b1439-42f2-4c69-94e7-e52dd57c3e6c/score'\n",
    "response_json = requests.post(url, json=data, headers=headers)\n",
    "\n",
    "#st.text_input(\"API Response: \",response_json.content)\n",
    "response = response_json.json()\n",
    "# try:\n",
    "#     return response['upload_logging_data']['response_data']\n",
    "# except ValueError:\n",
    "#     return response.status_code "
   ]
  },
  {
   "cell_type": "code",
   "execution_count": 5,
   "id": "ded045fa",
   "metadata": {},
   "outputs": [
    {
     "data": {
      "text/plain": [
       "200"
      ]
     },
     "execution_count": 5,
     "metadata": {},
     "output_type": "execute_result"
    }
   ],
   "source": [
    "response_json.status_code"
   ]
  },
  {
   "cell_type": "code",
   "execution_count": 10,
   "id": "7d83edb4",
   "metadata": {},
   "outputs": [
    {
     "ename": "TypeError",
     "evalue": "byte indices must be integers or slices, not str",
     "output_type": "error",
     "traceback": [
      "\u001b[0;31m---------------------------------------------------------------------------\u001b[0m",
      "\u001b[0;31mTypeError\u001b[0m                                 Traceback (most recent call last)",
      "\u001b[0;32m<ipython-input-10-61662eaa31f4>\u001b[0m in \u001b[0;36m<module>\u001b[0;34m\u001b[0m\n\u001b[0;32m----> 1\u001b[0;31m \u001b[0mresponse_json\u001b[0m\u001b[0;34m.\u001b[0m\u001b[0mcontent\u001b[0m\u001b[0;34m[\u001b[0m\u001b[0;34m'data'\u001b[0m\u001b[0;34m]\u001b[0m\u001b[0;34m\u001b[0m\u001b[0;34m\u001b[0m\u001b[0m\n\u001b[0m",
      "\u001b[0;31mTypeError\u001b[0m: byte indices must be integers or slices, not str"
     ]
    }
   ],
   "source": [
    "response_json.content["
   ]
  },
  {
   "cell_type": "code",
   "execution_count": null,
   "id": "32ffdf12",
   "metadata": {},
   "outputs": [],
   "source": []
  }
 ],
 "metadata": {
  "kernelspec": {
   "display_name": "Python 3",
   "language": "python",
   "name": "python3"
  },
  "language_info": {
   "codemirror_mode": {
    "name": "ipython",
    "version": 3
   },
   "file_extension": ".py",
   "mimetype": "text/x-python",
   "name": "python",
   "nbconvert_exporter": "python",
   "pygments_lexer": "ipython3",
   "version": "3.6.15"
  }
 },
 "nbformat": 4,
 "nbformat_minor": 5
}
