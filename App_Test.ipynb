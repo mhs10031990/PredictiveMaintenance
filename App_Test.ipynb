{
 "cells": [
  {
   "cell_type": "code",
   "execution_count": 2,
   "id": "51cea37b",
   "metadata": {},
   "outputs": [],
   "source": [
    "import requests\n",
    "data = {'payload': \"{'Air temperature [°C]': {'0': 31}, 'Process temperature [°C]': {'0': 38}, 'Rotational speed [rpm]': {'0': 1400}, 'Torque [Nm]': {'0': 56}, 'Tool wear [min]': {'0': 233}, 'Temperature difference [°C]': {'0': 7}}\"}"
   ]
  },
  {
   "cell_type": "code",
   "execution_count": 4,
   "id": "9ac343b9",
   "metadata": {},
   "outputs": [],
   "source": [
    "headers={\"Content-type\":\"application/json\"}\n",
    "url = 'http://svc-3beb86ee-32ca-4775-92bc-2a8a463e12d4:5001/predictivemaintenancebinaryclassification/ec2b1439-42f2-4c69-94e7-e52dd57c3e6c/score'\n",
    "response_json = requests.post(url, json=data, headers=headers)\n",
    "\n",
    "#st.text_input(\"API Response: \",response_json.content)\n",
    "response = response_json.json()\n",
    "# try:\n",
    "#     return response['upload_logging_data']['response_data']\n",
    "# except ValueError:\n",
    "#     return response.status_code "
   ]
  },
  {
   "cell_type": "code",
   "execution_count": 5,
   "id": "18809169",
   "metadata": {},
   "outputs": [
    {
     "data": {
      "text/plain": [
       "200"
      ]
     },
     "execution_count": 5,
     "metadata": {},
     "output_type": "execute_result"
    }
   ],
   "source": [
    "response_json.status_code"
   ]
  },
  {
   "cell_type": "code",
   "execution_count": 17,
   "id": "36111f4d",
   "metadata": {},
   "outputs": [
    {
     "data": {
      "text/plain": [
       "{'data': 'Failure', 'request_id': 'adf83866-8c1c-42b6-8caf-f18c749e5b52'}"
      ]
     },
     "execution_count": 17,
     "metadata": {},
     "output_type": "execute_result"
    }
   ],
   "source": [
    "response_json.json()[d]"
   ]
  },
  {
   "cell_type": "code",
   "execution_count": null,
   "id": "2ea5aeb6",
   "metadata": {},
   "outputs": [],
   "source": []
  }
 ],
 "metadata": {
  "kernelspec": {
   "display_name": "Python 3",
   "language": "python",
   "name": "python3"
  },
  "language_info": {
   "codemirror_mode": {
    "name": "ipython",
    "version": 3
   },
   "file_extension": ".py",
   "mimetype": "text/x-python",
   "name": "python",
   "nbconvert_exporter": "python",
   "pygments_lexer": "ipython3",
   "version": "3.6.15"
  }
 },
 "nbformat": 4,
 "nbformat_minor": 5
}
