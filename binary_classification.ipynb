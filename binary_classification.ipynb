{
 "cells": [
  {
   "cell_type": "code",
   "execution_count": 1,
   "id": "ce70ece5",
   "metadata": {},
   "outputs": [],
   "source": [
    "import numpy as np \n",
    "import pandas as pd\n",
    "import seaborn as sns\n",
    "import matplotlib.pyplot as plt\n",
    "\n",
    "import warnings\n",
    "warnings.filterwarnings(\"ignore\")"
   ]
  },
  {
   "cell_type": "code",
   "execution_count": 2,
   "id": "56c9bf84",
   "metadata": {},
   "outputs": [],
   "source": [
    "pd.set_option(\"display.max_columns\",None)\n",
    "pd.set_option(\"display.max_rows\",None)"
   ]
  },
  {
   "cell_type": "code",
   "execution_count": 3,
   "id": "eecdfe7d",
   "metadata": {},
   "outputs": [],
   "source": [
    "from sklearn.metrics import accuracy_score,classification_report,confusion_matrix,plot_confusion_matrix, f1_score\n",
    "\n",
    "from sklearn.linear_model import LogisticRegression\n",
    "from sklearn.tree import DecisionTreeClassifier\n",
    "from sklearn.ensemble import RandomForestClassifier\n",
    "from sklearn.svm import SVC"
   ]
  },
  {
   "cell_type": "code",
   "execution_count": 4,
   "id": "ee5efeb1",
   "metadata": {
    "scrolled": true
   },
   "outputs": [
    {
     "data": {
      "text/html": [
       "<div>\n",
       "<style scoped>\n",
       "    .dataframe tbody tr th:only-of-type {\n",
       "        vertical-align: middle;\n",
       "    }\n",
       "\n",
       "    .dataframe tbody tr th {\n",
       "        vertical-align: top;\n",
       "    }\n",
       "\n",
       "    .dataframe thead th {\n",
       "        text-align: right;\n",
       "    }\n",
       "</style>\n",
       "<table border=\"1\" class=\"dataframe\">\n",
       "  <thead>\n",
       "    <tr style=\"text-align: right;\">\n",
       "      <th></th>\n",
       "      <th>Unnamed: 0</th>\n",
       "      <th>Air temperature [Â°C]</th>\n",
       "      <th>Process temperature [Â°C]</th>\n",
       "      <th>Rotational speed [rpm]</th>\n",
       "      <th>Torque [Nm]</th>\n",
       "      <th>Tool wear [min]</th>\n",
       "      <th>Target</th>\n",
       "      <th>Temperature difference [Â°C]</th>\n",
       "    </tr>\n",
       "  </thead>\n",
       "  <tbody>\n",
       "    <tr>\n",
       "      <th>0</th>\n",
       "      <td>0</td>\n",
       "      <td>25.95</td>\n",
       "      <td>36.45</td>\n",
       "      <td>1551</td>\n",
       "      <td>42.8</td>\n",
       "      <td>0</td>\n",
       "      <td>0</td>\n",
       "      <td>10.5</td>\n",
       "    </tr>\n",
       "    <tr>\n",
       "      <th>1</th>\n",
       "      <td>1</td>\n",
       "      <td>26.05</td>\n",
       "      <td>36.55</td>\n",
       "      <td>1408</td>\n",
       "      <td>46.3</td>\n",
       "      <td>3</td>\n",
       "      <td>0</td>\n",
       "      <td>10.5</td>\n",
       "    </tr>\n",
       "    <tr>\n",
       "      <th>2</th>\n",
       "      <td>2</td>\n",
       "      <td>25.95</td>\n",
       "      <td>36.35</td>\n",
       "      <td>1498</td>\n",
       "      <td>49.4</td>\n",
       "      <td>5</td>\n",
       "      <td>0</td>\n",
       "      <td>10.4</td>\n",
       "    </tr>\n",
       "    <tr>\n",
       "      <th>3</th>\n",
       "      <td>3</td>\n",
       "      <td>26.05</td>\n",
       "      <td>36.45</td>\n",
       "      <td>1433</td>\n",
       "      <td>39.5</td>\n",
       "      <td>7</td>\n",
       "      <td>0</td>\n",
       "      <td>10.4</td>\n",
       "    </tr>\n",
       "    <tr>\n",
       "      <th>4</th>\n",
       "      <td>4</td>\n",
       "      <td>26.05</td>\n",
       "      <td>36.55</td>\n",
       "      <td>1408</td>\n",
       "      <td>40.0</td>\n",
       "      <td>9</td>\n",
       "      <td>0</td>\n",
       "      <td>10.5</td>\n",
       "    </tr>\n",
       "  </tbody>\n",
       "</table>\n",
       "</div>"
      ],
      "text/plain": [
       "   Unnamed: 0  Air temperature [Â°C]  Process temperature [Â°C]  \\\n",
       "0           0                  25.95                      36.45   \n",
       "1           1                  26.05                      36.55   \n",
       "2           2                  25.95                      36.35   \n",
       "3           3                  26.05                      36.45   \n",
       "4           4                  26.05                      36.55   \n",
       "\n",
       "   Rotational speed [rpm]  Torque [Nm]  Tool wear [min]  Target  \\\n",
       "0                    1551         42.8                0       0   \n",
       "1                    1408         46.3                3       0   \n",
       "2                    1498         49.4                5       0   \n",
       "3                    1433         39.5                7       0   \n",
       "4                    1408         40.0                9       0   \n",
       "\n",
       "   Temperature difference [Â°C]  \n",
       "0                          10.5  \n",
       "1                          10.5  \n",
       "2                          10.4  \n",
       "3                          10.4  \n",
       "4                          10.5  "
      ]
     },
     "execution_count": 4,
     "metadata": {},
     "output_type": "execute_result"
    }
   ],
   "source": [
    "df=pd.read_csv(\"/data/binaryclassification_modelinput.csv\",encoding= 'unicode_escape')\n",
    "df.head()"
   ]
  },
  {
   "cell_type": "code",
   "execution_count": 5,
   "id": "7894bb68",
   "metadata": {},
   "outputs": [],
   "source": [
    "df.drop('Unnamed: 0', axis=1, inplace=True)"
   ]
  },
  {
   "cell_type": "code",
   "execution_count": 6,
   "id": "e8d3352d",
   "metadata": {},
   "outputs": [],
   "source": [
    "X = df.drop(columns=\"Target\" , axis=1)\n",
    "y = df[\"Target\"]"
   ]
  },
  {
   "cell_type": "code",
   "execution_count": 7,
   "id": "8cb290a8",
   "metadata": {},
   "outputs": [],
   "source": [
    "from sklearn.model_selection import train_test_split\n",
    "X_train,X_test,y_train,y_test = train_test_split(X,y,test_size=0.2,random_state=21)"
   ]
  },
  {
   "cell_type": "code",
   "execution_count": 8,
   "id": "aa494497",
   "metadata": {},
   "outputs": [
    {
     "data": {
      "image/png": "[encoded data removed]",
      "text/plain": [
       "<Figure size 1296x360 with 1 Axes>"
      ]
     },
     "metadata": {
      "needs_background": "light"
     },
     "output_type": "display_data"
    }
   ],
   "source": [
    "plt.figure(figsize=(18,5))\n",
    "ax = sns.countplot(x = y_train, palette = 'tab10')\n",
    "t= len(y_train)\n",
    "for p in ax.patches:\n",
    "    percentage = f'{100 * p.get_height() / t:.1f}%\\n'\n",
    "    x = p.get_x() + p.get_width() / 2\n",
    "    y = p.get_height()\n",
    "    ax.annotate(percentage, (x, y), ha='center', va='center')\n",
    "plt.show()"
   ]
  },
  {
   "cell_type": "markdown",
   "id": "a235fa7f",
   "metadata": {},
   "source": [
    "# Logistics Regression"
   ]
  },
  {
   "cell_type": "code",
   "execution_count": 9,
   "id": "caa14595",
   "metadata": {
    "scrolled": true
   },
   "outputs": [
    {
     "name": "stdout",
     "output_type": "stream",
     "text": [
      "Training Accuracy    : 96.99 %\n",
      "Model Accuracy Score : 96.35 %\n",
      "F1 Score             : 17.98 %\n",
      "\u001b[1m--------------------------------------------------------\u001b[0m\n",
      "Classification_Report: \n",
      "               precision    recall  f1-score   support\n",
      "\n",
      "           0       0.97      1.00      0.98      1923\n",
      "           1       0.67      0.10      0.18        77\n",
      "\n",
      "    accuracy                           0.96      2000\n",
      "   macro avg       0.82      0.55      0.58      2000\n",
      "weighted avg       0.95      0.96      0.95      2000\n",
      "\n",
      "\u001b[1m--------------------------------------------------------\u001b[0m\n"
     ]
    },
    {
     "data": {
      "image/png": "[encoded data removed]",
      "text/plain": [
       "<Figure size 432x288 with 2 Axes>"
      ]
     },
     "metadata": {
      "needs_background": "light"
     },
     "output_type": "display_data"
    }
   ],
   "source": [
    "# Logistic Regression\n",
    "logreg = LogisticRegression()\n",
    "logreg.fit(X_train, y_train)\n",
    "y_pred_lr = logreg.predict(X_test)\n",
    "\n",
    "log_train = round(logreg.score(X_train, y_train) * 100, 2)\n",
    "log_accuracy = round(accuracy_score(y_pred_lr, y_test) * 100, 2)\n",
    "log_f1score = round(f1_score(y_pred_lr, y_test)*100, 2)\n",
    "\n",
    "print(\"Training Accuracy    :\",log_train ,\"%\")\n",
    "print(\"Model Accuracy Score :\",log_accuracy ,\"%\")\n",
    "print(\"F1 Score             :\",log_f1score, \"%\")\n",
    "print(\"\\033[1m--------------------------------------------------------\\033[0m\")\n",
    "print(\"Classification_Report: \\n\",classification_report(y_test,y_pred_lr))\n",
    "print(\"\\033[1m--------------------------------------------------------\\033[0m\")\n",
    "plot_confusion_matrix(logreg, X_test, y_test);\n",
    "plt.title('Confusion Matrix');"
   ]
  },
  {
   "cell_type": "markdown",
   "id": "8d3c788c",
   "metadata": {},
   "source": [
    "# Decision Tree"
   ]
  },
  {
   "cell_type": "code",
   "execution_count": 10,
   "id": "b7ca517d",
   "metadata": {},
   "outputs": [
    {
     "name": "stdout",
     "output_type": "stream",
     "text": [
      "Training Accuracy    : 100.0 %\n",
      "Model Accuracy Score : 98.0 %\n",
      "F1 Score             : 75.0 %\n",
      "\u001b[1m--------------------------------------------------------\u001b[0m\n",
      "Classification_Report: \n",
      "               precision    recall  f1-score   support\n",
      "\n",
      "           0       0.99      0.99      0.99      1923\n",
      "           1       0.72      0.78      0.75        77\n",
      "\n",
      "    accuracy                           0.98      2000\n",
      "   macro avg       0.86      0.88      0.87      2000\n",
      "weighted avg       0.98      0.98      0.98      2000\n",
      "\n",
      "\u001b[1m--------------------------------------------------------\u001b[0m\n"
     ]
    },
    {
     "data": {
      "image/png": "[encoded data removed]",
      "text/plain": [
       "<Figure size 432x288 with 2 Axes>"
      ]
     },
     "metadata": {
      "needs_background": "light"
     },
     "output_type": "display_data"
    }
   ],
   "source": [
    "decision = DecisionTreeClassifier()\n",
    "decision.fit(X_train, y_train)\n",
    "y_pred_dec = decision.predict(X_test)\n",
    "\n",
    "decision_train = round(decision.score(X_train, y_train) * 100, 2)\n",
    "decision_accuracy = round(accuracy_score(y_pred_dec, y_test) * 100, 2)\n",
    "decision_f1score = round(f1_score(y_pred_dec, y_test)*100, 2)\n",
    "\n",
    "print(\"Training Accuracy    :\",decision_train ,\"%\")\n",
    "print(\"Model Accuracy Score :\",decision_accuracy ,\"%\")\n",
    "print(\"F1 Score             :\",decision_f1score, \"%\")\n",
    "print(\"\\033[1m--------------------------------------------------------\\033[0m\")\n",
    "print(\"Classification_Report: \\n\",classification_report(y_test,y_pred_dec))\n",
    "print(\"\\033[1m--------------------------------------------------------\\033[0m\")\n",
    "plot_confusion_matrix(decision, X_test, y_test);\n",
    "plt.title('Confusion Matrix');"
   ]
  },
  {
   "cell_type": "markdown",
   "id": "7598e438",
   "metadata": {},
   "source": [
    "# Random Forest Classifier"
   ]
  },
  {
   "cell_type": "code",
   "execution_count": 11,
   "id": "aad604bd",
   "metadata": {},
   "outputs": [
    {
     "name": "stdout",
     "output_type": "stream",
     "text": [
      "Training Accuracy    : 100.0 %\n",
      "Model Accuracy Score : 98.65 %\n",
      "F1 Score             : 80.29 %\n",
      "\u001b[1m--------------------------------------------------------\u001b[0m\n",
      "Classification_Report: \n",
      "               precision    recall  f1-score   support\n",
      "\n",
      "           0       0.99      1.00      0.99      1923\n",
      "           1       0.92      0.71      0.80        77\n",
      "\n",
      "    accuracy                           0.99      2000\n",
      "   macro avg       0.95      0.86      0.90      2000\n",
      "weighted avg       0.99      0.99      0.99      2000\n",
      "\n",
      "\u001b[1m--------------------------------------------------------\u001b[0m\n"
     ]
    },
    {
     "data": {
      "image/png": "[encoded data removed]",
      "text/plain": [
       "<Figure size 432x288 with 2 Axes>"
      ]
     },
     "metadata": {
      "needs_background": "light"
     },
     "output_type": "display_data"
    }
   ],
   "source": [
    "# Random Forest\n",
    "random_forest = RandomForestClassifier(n_estimators=100)\n",
    "random_forest.fit(X_train, y_train)\n",
    "y_pred_rf = random_forest.predict(X_test)\n",
    "random_forest.score(X_train, y_train)\n",
    "\n",
    "random_forest_train = round(random_forest.score(X_train, y_train) * 100, 2)\n",
    "random_forest_accuracy = round(accuracy_score(y_pred_rf, y_test) * 100, 2)\n",
    "random_forest_f1score = round(f1_score(y_pred_rf, y_test)*100, 2)\n",
    "\n",
    "print(\"Training Accuracy    :\",random_forest_train ,\"%\")\n",
    "print(\"Model Accuracy Score :\",random_forest_accuracy ,\"%\")\n",
    "print(\"F1 Score             :\",random_forest_f1score, \"%\")\n",
    "print(\"\\033[1m--------------------------------------------------------\\033[0m\")\n",
    "print(\"Classification_Report: \\n\",classification_report(y_test,y_pred_rf))\n",
    "print(\"\\033[1m--------------------------------------------------------\\033[0m\")\n",
    "plot_confusion_matrix(random_forest, X_test, y_test);\n",
    "plt.title('Confusion Matrix');"
   ]
  },
  {
   "cell_type": "markdown",
   "id": "581d1be0",
   "metadata": {},
   "source": [
    "# Support Vector Machine "
   ]
  },
  {
   "cell_type": "code",
   "execution_count": 12,
   "id": "f49dd9ea",
   "metadata": {},
   "outputs": [
    {
     "name": "stdout",
     "output_type": "stream",
     "text": [
      "Training Accuracy    : 96.72 %\n",
      "Model Accuracy Score : 96.15 %\n",
      "F1 Score             : 0.0 %\n",
      "\u001b[1m--------------------------------------------------------\u001b[0m\n",
      "Classification_Report: \n",
      "               precision    recall  f1-score   support\n",
      "\n",
      "           0       0.96      1.00      0.98      1923\n",
      "           1       0.00      0.00      0.00        77\n",
      "\n",
      "    accuracy                           0.96      2000\n",
      "   macro avg       0.48      0.50      0.49      2000\n",
      "weighted avg       0.92      0.96      0.94      2000\n",
      "\n",
      "\u001b[1m--------------------------------------------------------\u001b[0m\n"
     ]
    },
    {
     "data": {
      "image/png": "[encoded data removed]",
      "text/plain": [
       "<Figure size 432x288 with 2 Axes>"
      ]
     },
     "metadata": {
      "needs_background": "light"
     },
     "output_type": "display_data"
    }
   ],
   "source": [
    "# Support Vector Machine\n",
    "svc = SVC()\n",
    "svc.fit(X_train, y_train)\n",
    "y_pred_svc = svc.predict(X_test)\n",
    "\n",
    "svc_train = round(svc.score(X_train, y_train) * 100, 2)\n",
    "svc_accuracy = round(accuracy_score(y_pred_svc, y_test) * 100, 2)\n",
    "svc_f1score = round(f1_score(y_pred_svc, y_test)*100, 2)\n",
    "\n",
    "print(\"Training Accuracy    :\",svc_train ,\"%\")\n",
    "print(\"Model Accuracy Score :\",svc_accuracy ,\"%\")\n",
    "print(\"F1 Score             :\",svc_f1score, \"%\")\n",
    "print(\"\\033[1m--------------------------------------------------------\\033[0m\")\n",
    "print(\"Classification_Report: \\n\",classification_report(y_test,y_pred_svc))\n",
    "print(\"\\033[1m--------------------------------------------------------\\033[0m\")\n",
    "plot_confusion_matrix(svc, X_test, y_test);\n",
    "plt.title('Confusion Matrix');"
   ]
  },
  {
   "cell_type": "markdown",
   "id": "9bb28538",
   "metadata": {},
   "source": [
    "# Model building"
   ]
  },
  {
   "cell_type": "code",
   "execution_count": 13,
   "id": "0509ff50",
   "metadata": {},
   "outputs": [],
   "source": [
    "models = pd.DataFrame({\n",
    "    'Model': [\n",
    "         'Logistic Regression','Support Vector Machines','Decision Tree', 'Random Forest'],\n",
    "    \n",
    "    'Training Accuracy': [log_train, svc_train, decision_train, random_forest_train],\n",
    "    \n",
    "    'Model Accuracy Score': [log_accuracy, svc_accuracy, decision_accuracy, random_forest_accuracy],\n",
    "    \n",
    "    'Model F1 Score': [log_f1score , svc_f1score, decision_f1score, random_forest_f1score]\n",
    "})"
   ]
  },
  {
   "cell_type": "code",
   "execution_count": 14,
   "id": "246402ea",
   "metadata": {},
   "outputs": [
    {
     "data": {
      "text/html": [
       "<style  type=\"text/css\" >\n",
       "#T_728e2e30_f46c_11ed_a645_9edb706c9be0row0_col0,#T_728e2e30_f46c_11ed_a645_9edb706c9be0row1_col0,#T_728e2e30_f46c_11ed_a645_9edb706c9be0row2_col0,#T_728e2e30_f46c_11ed_a645_9edb706c9be0row3_col0{\n",
       "            font-family:  Lucida Calligraphy;\n",
       "            color:  LigntGreen;\n",
       "            font-size:  15px;\n",
       "        }#T_728e2e30_f46c_11ed_a645_9edb706c9be0row0_col1,#T_728e2e30_f46c_11ed_a645_9edb706c9be0row0_col2,#T_728e2e30_f46c_11ed_a645_9edb706c9be0row0_col3,#T_728e2e30_f46c_11ed_a645_9edb706c9be0row1_col1{\n",
       "            background-color:  #b40426;\n",
       "            color:  #f1f1f1;\n",
       "            font-family:  Lucida Calligraphy;\n",
       "            color:  LigntGreen;\n",
       "            font-size:  15px;\n",
       "        }#T_728e2e30_f46c_11ed_a645_9edb706c9be0row1_col2{\n",
       "            background-color:  #f59d7e;\n",
       "            color:  #000000;\n",
       "            font-family:  Lucida Calligraphy;\n",
       "            color:  LigntGreen;\n",
       "            font-size:  15px;\n",
       "        }#T_728e2e30_f46c_11ed_a645_9edb706c9be0row1_col3{\n",
       "            background-color:  #cb3e38;\n",
       "            color:  #f1f1f1;\n",
       "            font-family:  Lucida Calligraphy;\n",
       "            color:  LigntGreen;\n",
       "            font-size:  15px;\n",
       "        }#T_728e2e30_f46c_11ed_a645_9edb706c9be0row2_col1{\n",
       "            background-color:  #5470de;\n",
       "            color:  #000000;\n",
       "            font-family:  Lucida Calligraphy;\n",
       "            color:  LigntGreen;\n",
       "            font-size:  15px;\n",
       "        }#T_728e2e30_f46c_11ed_a645_9edb706c9be0row2_col2{\n",
       "            background-color:  #536edd;\n",
       "            color:  #000000;\n",
       "            font-family:  Lucida Calligraphy;\n",
       "            color:  LigntGreen;\n",
       "            font-size:  15px;\n",
       "        }#T_728e2e30_f46c_11ed_a645_9edb706c9be0row2_col3{\n",
       "            background-color:  #84a7fc;\n",
       "            color:  #000000;\n",
       "            font-family:  Lucida Calligraphy;\n",
       "            color:  LigntGreen;\n",
       "            font-size:  15px;\n",
       "        }#T_728e2e30_f46c_11ed_a645_9edb706c9be0row3_col1,#T_728e2e30_f46c_11ed_a645_9edb706c9be0row3_col2,#T_728e2e30_f46c_11ed_a645_9edb706c9be0row3_col3{\n",
       "            background-color:  #3b4cc0;\n",
       "            color:  #f1f1f1;\n",
       "            font-family:  Lucida Calligraphy;\n",
       "            color:  LigntGreen;\n",
       "            font-size:  15px;\n",
       "        }</style><table id=\"T_728e2e30_f46c_11ed_a645_9edb706c9be0\" ><thead>    <tr>        <th class=\"col_heading level0 col0\" >Model</th>        <th class=\"col_heading level0 col1\" >Training Accuracy</th>        <th class=\"col_heading level0 col2\" >Model Accuracy Score</th>        <th class=\"col_heading level0 col3\" >Model F1 Score</th>    </tr></thead><tbody>\n",
       "                <tr>\n",
       "                                <td id=\"T_728e2e30_f46c_11ed_a645_9edb706c9be0row0_col0\" class=\"data row0 col0\" >Random Forest</td>\n",
       "                        <td id=\"T_728e2e30_f46c_11ed_a645_9edb706c9be0row0_col1\" class=\"data row0 col1\" >100.00</td>\n",
       "                        <td id=\"T_728e2e30_f46c_11ed_a645_9edb706c9be0row0_col2\" class=\"data row0 col2\" >98.65</td>\n",
       "                        <td id=\"T_728e2e30_f46c_11ed_a645_9edb706c9be0row0_col3\" class=\"data row0 col3\" >80.29</td>\n",
       "            </tr>\n",
       "            <tr>\n",
       "                                <td id=\"T_728e2e30_f46c_11ed_a645_9edb706c9be0row1_col0\" class=\"data row1 col0\" >Decision Tree</td>\n",
       "                        <td id=\"T_728e2e30_f46c_11ed_a645_9edb706c9be0row1_col1\" class=\"data row1 col1\" >100.00</td>\n",
       "                        <td id=\"T_728e2e30_f46c_11ed_a645_9edb706c9be0row1_col2\" class=\"data row1 col2\" >98.00</td>\n",
       "                        <td id=\"T_728e2e30_f46c_11ed_a645_9edb706c9be0row1_col3\" class=\"data row1 col3\" >75.00</td>\n",
       "            </tr>\n",
       "            <tr>\n",
       "                                <td id=\"T_728e2e30_f46c_11ed_a645_9edb706c9be0row2_col0\" class=\"data row2 col0\" >Logistic Regression</td>\n",
       "                        <td id=\"T_728e2e30_f46c_11ed_a645_9edb706c9be0row2_col1\" class=\"data row2 col1\" >96.99</td>\n",
       "                        <td id=\"T_728e2e30_f46c_11ed_a645_9edb706c9be0row2_col2\" class=\"data row2 col2\" >96.35</td>\n",
       "                        <td id=\"T_728e2e30_f46c_11ed_a645_9edb706c9be0row2_col3\" class=\"data row2 col3\" >17.98</td>\n",
       "            </tr>\n",
       "            <tr>\n",
       "                                <td id=\"T_728e2e30_f46c_11ed_a645_9edb706c9be0row3_col0\" class=\"data row3 col0\" >Support Vector Machines</td>\n",
       "                        <td id=\"T_728e2e30_f46c_11ed_a645_9edb706c9be0row3_col1\" class=\"data row3 col1\" >96.72</td>\n",
       "                        <td id=\"T_728e2e30_f46c_11ed_a645_9edb706c9be0row3_col2\" class=\"data row3 col2\" >96.15</td>\n",
       "                        <td id=\"T_728e2e30_f46c_11ed_a645_9edb706c9be0row3_col3\" class=\"data row3 col3\" >0.00</td>\n",
       "            </tr>\n",
       "    </tbody></table>"
      ],
      "text/plain": [
       "<pandas.io.formats.style.Styler at 0x7f7d7d906898>"
      ]
     },
     "execution_count": 14,
     "metadata": {},
     "output_type": "execute_result"
    }
   ],
   "source": [
    "pd.set_option('precision',2)\n",
    "models.sort_values(by='Model F1 Score', ascending=False).style.background_gradient(\n",
    "        cmap='coolwarm').hide_index().set_properties(**{\n",
    "            'font-family': 'Lucida Calligraphy',\n",
    "            'color': 'LigntGreen',\n",
    "            'font-size': '15px'\n",
    "        })"
   ]
  },
  {
   "cell_type": "code",
   "execution_count": 15,
   "id": "08d9f79c",
   "metadata": {},
   "outputs": [
    {
     "data": {
      "text/plain": [
       "Index(['Air temperature [Â°C]', 'Process temperature [Â°C]',\n",
       "       'Rotational speed [rpm]', 'Torque [Nm]', 'Tool wear [min]',\n",
       "       'Temperature difference [Â°C]'],\n",
       "      dtype='object')"
      ]
     },
     "execution_count": 15,
     "metadata": {},
     "output_type": "execute_result"
    }
   ],
   "source": [
    "X_test.columns"
   ]
  },
  {
   "cell_type": "code",
   "execution_count": 16,
   "id": "483af290",
   "metadata": {},
   "outputs": [],
   "source": [
    "#X_train.columns=cols\n",
    "#X_test.columns=cols"
   ]
  },
  {
   "cell_type": "code",
   "execution_count": 17,
   "id": "ad7a4921",
   "metadata": {
    "scrolled": true
   },
   "outputs": [
    {
     "data": {
      "text/html": [
       "<div>\n",
       "<style scoped>\n",
       "    .dataframe tbody tr th:only-of-type {\n",
       "        vertical-align: middle;\n",
       "    }\n",
       "\n",
       "    .dataframe tbody tr th {\n",
       "        vertical-align: top;\n",
       "    }\n",
       "\n",
       "    .dataframe thead th {\n",
       "        text-align: right;\n",
       "    }\n",
       "</style>\n",
       "<table border=\"1\" class=\"dataframe\">\n",
       "  <thead>\n",
       "    <tr style=\"text-align: right;\">\n",
       "      <th></th>\n",
       "      <th>Air temperature [Â°C]</th>\n",
       "      <th>Process temperature [Â°C]</th>\n",
       "      <th>Rotational speed [rpm]</th>\n",
       "      <th>Torque [Nm]</th>\n",
       "      <th>Tool wear [min]</th>\n",
       "      <th>Temperature difference [Â°C]</th>\n",
       "    </tr>\n",
       "  </thead>\n",
       "  <tbody>\n",
       "    <tr>\n",
       "      <th>5504</th>\n",
       "      <td>30.65</td>\n",
       "      <td>40.05</td>\n",
       "      <td>1458</td>\n",
       "      <td>51.0</td>\n",
       "      <td>42</td>\n",
       "      <td>9.4</td>\n",
       "    </tr>\n",
       "    <tr>\n",
       "      <th>5307</th>\n",
       "      <td>31.85</td>\n",
       "      <td>41.15</td>\n",
       "      <td>1530</td>\n",
       "      <td>34.8</td>\n",
       "      <td>211</td>\n",
       "      <td>9.3</td>\n",
       "    </tr>\n",
       "    <tr>\n",
       "      <th>1684</th>\n",
       "      <td>25.65</td>\n",
       "      <td>35.15</td>\n",
       "      <td>1438</td>\n",
       "      <td>44.5</td>\n",
       "      <td>3</td>\n",
       "      <td>9.5</td>\n",
       "    </tr>\n",
       "    <tr>\n",
       "      <th>2441</th>\n",
       "      <td>26.95</td>\n",
       "      <td>36.35</td>\n",
       "      <td>1676</td>\n",
       "      <td>31.0</td>\n",
       "      <td>69</td>\n",
       "      <td>9.4</td>\n",
       "    </tr>\n",
       "    <tr>\n",
       "      <th>0</th>\n",
       "      <td>25.95</td>\n",
       "      <td>36.45</td>\n",
       "      <td>1551</td>\n",
       "      <td>42.8</td>\n",
       "      <td>0</td>\n",
       "      <td>10.5</td>\n",
       "    </tr>\n",
       "  </tbody>\n",
       "</table>\n",
       "</div>"
      ],
      "text/plain": [
       "      Air temperature [Â°C]  Process temperature [Â°C]  \\\n",
       "5504                  30.65                      40.05   \n",
       "5307                  31.85                      41.15   \n",
       "1684                  25.65                      35.15   \n",
       "2441                  26.95                      36.35   \n",
       "0                     25.95                      36.45   \n",
       "\n",
       "      Rotational speed [rpm]  Torque [Nm]  Tool wear [min]  \\\n",
       "5504                    1458         51.0               42   \n",
       "5307                    1530         34.8              211   \n",
       "1684                    1438         44.5                3   \n",
       "2441                    1676         31.0               69   \n",
       "0                       1551         42.8                0   \n",
       "\n",
       "      Temperature difference [Â°C]  \n",
       "5504                           9.4  \n",
       "5307                           9.3  \n",
       "1684                           9.5  \n",
       "2441                           9.4  \n",
       "0                             10.5  "
      ]
     },
     "execution_count": 17,
     "metadata": {},
     "output_type": "execute_result"
    }
   ],
   "source": [
    "X_train.head()"
   ]
  },
  {
   "cell_type": "code",
   "execution_count": 18,
   "id": "a79f485b",
   "metadata": {},
   "outputs": [
    {
     "data": {
      "text/html": [
       "<div>\n",
       "<style scoped>\n",
       "    .dataframe tbody tr th:only-of-type {\n",
       "        vertical-align: middle;\n",
       "    }\n",
       "\n",
       "    .dataframe tbody tr th {\n",
       "        vertical-align: top;\n",
       "    }\n",
       "\n",
       "    .dataframe thead th {\n",
       "        text-align: right;\n",
       "    }\n",
       "</style>\n",
       "<table border=\"1\" class=\"dataframe\">\n",
       "  <thead>\n",
       "    <tr style=\"text-align: right;\">\n",
       "      <th></th>\n",
       "      <th>Air temperature [Â°C]</th>\n",
       "      <th>Process temperature [Â°C]</th>\n",
       "      <th>Rotational speed [rpm]</th>\n",
       "      <th>Torque [Nm]</th>\n",
       "      <th>Tool wear [min]</th>\n",
       "      <th>Temperature difference [Â°C]</th>\n",
       "    </tr>\n",
       "  </thead>\n",
       "  <tbody>\n",
       "    <tr>\n",
       "      <th>3644</th>\n",
       "      <td>30.05</td>\n",
       "      <td>39.35</td>\n",
       "      <td>1548</td>\n",
       "      <td>32.4</td>\n",
       "      <td>81</td>\n",
       "      <td>9.3</td>\n",
       "    </tr>\n",
       "    <tr>\n",
       "      <th>1828</th>\n",
       "      <td>25.65</td>\n",
       "      <td>35.05</td>\n",
       "      <td>1351</td>\n",
       "      <td>56.3</td>\n",
       "      <td>174</td>\n",
       "      <td>9.4</td>\n",
       "    </tr>\n",
       "    <tr>\n",
       "      <th>6661</th>\n",
       "      <td>29.15</td>\n",
       "      <td>38.25</td>\n",
       "      <td>1501</td>\n",
       "      <td>39.8</td>\n",
       "      <td>187</td>\n",
       "      <td>9.1</td>\n",
       "    </tr>\n",
       "    <tr>\n",
       "      <th>9216</th>\n",
       "      <td>25.55</td>\n",
       "      <td>36.65</td>\n",
       "      <td>1469</td>\n",
       "      <td>43.7</td>\n",
       "      <td>96</td>\n",
       "      <td>11.1</td>\n",
       "    </tr>\n",
       "    <tr>\n",
       "      <th>5911</th>\n",
       "      <td>28.65</td>\n",
       "      <td>38.25</td>\n",
       "      <td>1288</td>\n",
       "      <td>64.0</td>\n",
       "      <td>3</td>\n",
       "      <td>9.6</td>\n",
       "    </tr>\n",
       "  </tbody>\n",
       "</table>\n",
       "</div>"
      ],
      "text/plain": [
       "      Air temperature [Â°C]  Process temperature [Â°C]  \\\n",
       "3644                  30.05                      39.35   \n",
       "1828                  25.65                      35.05   \n",
       "6661                  29.15                      38.25   \n",
       "9216                  25.55                      36.65   \n",
       "5911                  28.65                      38.25   \n",
       "\n",
       "      Rotational speed [rpm]  Torque [Nm]  Tool wear [min]  \\\n",
       "3644                    1548         32.4               81   \n",
       "1828                    1351         56.3              174   \n",
       "6661                    1501         39.8              187   \n",
       "9216                    1469         43.7               96   \n",
       "5911                    1288         64.0                3   \n",
       "\n",
       "      Temperature difference [Â°C]  \n",
       "3644                           9.3  \n",
       "1828                           9.4  \n",
       "6661                           9.1  \n",
       "9216                          11.1  \n",
       "5911                           9.6  "
      ]
     },
     "execution_count": 18,
     "metadata": {},
     "output_type": "execute_result"
    }
   ],
   "source": [
    "X_test.head()"
   ]
  },
  {
   "cell_type": "code",
   "execution_count": 19,
   "id": "4bf34eb3",
   "metadata": {},
   "outputs": [],
   "source": [
    "#Final Model Random Forest Classifier\n",
    "from sklearn.metrics import confusion_matrix,accuracy_score,recall_score,roc_auc_score,classification_report,roc_auc_score,roc_curve,auc\n",
    "\n",
    "#Model function\n",
    "def model(algorithm,dtrain_X,dtrain_Y,dtest_X,dtest_Y,cols=None):\n",
    "\n",
    "    algorithm.fit(dtrain_X[cols],dtrain_Y)\n",
    "    predictions = algorithm.predict(dtest_X[cols])\n",
    "    print (algorithm)\n",
    "    \n",
    "    print (\"Accuracy score : \", accuracy_score(predictions,dtest_Y))\n",
    "    print (\"Recall score   : \", recall_score(predictions,dtest_Y))\n",
    "    print (\"classification report :\\n\",classification_report(predictions,dtest_Y))\n",
    "    \n",
    "    fig = plt.figure(figsize=(10,8))\n",
    "    ax  = fig.add_subplot(111)\n",
    "    prediction_probabilities = algorithm.predict_proba(dtest_X[cols])[:,1]\n",
    "    fpr , tpr , thresholds   = roc_curve(dtest_Y,prediction_probabilities)\n",
    "    ax.plot(fpr,tpr,label   = [\"Area under curve : \",auc(fpr,tpr)],linewidth=2,linestyle=\"dotted\")\n",
    "    ax.plot([0,1],[0,1],linewidth=2,linestyle=\"dashed\")\n",
    "    plt.legend(loc=\"best\")\n",
    "    plt.title(\"ROC-CURVE & AREA UNDER CURVE\")\n",
    "    ax.set_facecolor(\"k\")\n",
    "    return predictions,prediction_probabilities,algorithm"
   ]
  },
  {
   "cell_type": "code",
   "execution_count": 20,
   "id": "5bd98ab0",
   "metadata": {
    "scrolled": true
   },
   "outputs": [
    {
     "name": "stdout",
     "output_type": "stream",
     "text": [
      "RandomForestClassifier()\n",
      "Accuracy score :  0.987\n",
      "Recall score   :  0.9047619047619048\n",
      "classification report :\n",
      "               precision    recall  f1-score   support\n",
      "\n",
      "           0       1.00      0.99      0.99      1937\n",
      "           1       0.74      0.90      0.81        63\n",
      "\n",
      "    accuracy                           0.99      2000\n",
      "   macro avg       0.87      0.95      0.90      2000\n",
      "weighted avg       0.99      0.99      0.99      2000\n",
      "\n"
     ]
    },
    {
     "data": {
      "image/png": "[encoded data removed]",
      "text/plain": [
       "<Figure size 720x576 with 1 Axes>"
      ]
     },
     "metadata": {
      "needs_background": "light"
     },
     "output_type": "display_data"
    }
   ],
   "source": [
    "rfc =  RandomForestClassifier(n_estimators=100)\n",
    "#cols = ['Air temperature [C]','Process temperature [C]','Rotational speed [rpm]','Torque [Nm]','Tool wear [min]',\n",
    "#        'Temperature difference [C]']\n",
    "\n",
    "y_pred,y_prob,model_obj=model(rfc,X_train,y_train,X_test,y_test,X_train.columns)"
   ]
  },
  {
   "cell_type": "code",
   "execution_count": 21,
   "id": "5ebedfd9",
   "metadata": {},
   "outputs": [
    {
     "data": {
      "text/plain": [
       "array([0, 0, 0, ..., 0, 0, 0])"
      ]
     },
     "execution_count": 21,
     "metadata": {},
     "output_type": "execute_result"
    }
   ],
   "source": [
    "y_pred"
   ]
  },
  {
   "cell_type": "code",
   "execution_count": 22,
   "id": "33e33dc8",
   "metadata": {},
   "outputs": [
    {
     "data": {
      "text/plain": [
       "array([0.  , 0.02, 0.  , ..., 0.  , 0.  , 0.  ])"
      ]
     },
     "execution_count": 22,
     "metadata": {},
     "output_type": "execute_result"
    }
   ],
   "source": [
    "y_prob"
   ]
  },
  {
   "cell_type": "code",
   "execution_count": 23,
   "id": "1ee88d3b",
   "metadata": {},
   "outputs": [],
   "source": [
    "from mosaicml import *\n",
    "from mosaicml.constants import MLModelFlavours"
   ]
  },
  {
   "cell_type": "code",
   "execution_count": 24,
   "id": "ca95755e",
   "metadata": {},
   "outputs": [],
   "source": [
    "@scoring_func\n",
    "def score(model, request):\n",
    "    payload = request.json[\"payload\"]\n",
    "    data = pd.DataFrame(eval(payload))\n",
    "    prediction = pd.Series(model.predict(data))[0]\n",
    "    return \"No failure\" if prediction == 0 else \"Failure\""
   ]
  },
  {
   "cell_type": "code",
   "execution_count": 25,
   "id": "7691f166",
   "metadata": {},
   "outputs": [],
   "source": [
    "import requests\n",
    "req = requests.Request()\n",
    "req.json = {\"payload\":X_train.head(1).to_json()}"
   ]
  },
  {
   "cell_type": "code",
   "execution_count": 26,
   "id": "05f2f8de",
   "metadata": {
    "scrolled": true
   },
   "outputs": [
    {
     "data": {
      "text/plain": [
       "{'payload': '{\"Air temperature [\\\\u00c2\\\\u00b0C]\":{\"5504\":30.65},\"Process temperature [\\\\u00c2\\\\u00b0C]\":{\"5504\":40.05},\"Rotational speed [rpm]\":{\"5504\":1458},\"Torque [Nm]\":{\"5504\":51.0},\"Tool wear [min]\":{\"5504\":42},\"Temperature difference [\\\\u00c2\\\\u00b0C]\":{\"5504\":9.4}}'}"
      ]
     },
     "execution_count": 26,
     "metadata": {},
     "output_type": "execute_result"
    }
   ],
   "source": [
    "req.json"
   ]
  },
  {
   "cell_type": "code",
   "execution_count": 27,
   "id": "c2f05d92",
   "metadata": {
    "scrolled": false
   },
   "outputs": [
    {
     "name": "stdout",
     "output_type": "stream",
     "text": [
      "{'input': {'type': 'pd.core.frame.DataFrame', 'items': {'type': 'object', 'properties': {'Air temperature [Â°C]': {'type': 'number', 'format': 'double'}, 'Process temperature [Â°C]': {'type': 'number', 'format': 'double'}, 'Rotational speed [rpm]': {'type': 'integer', 'format': 'int64'}, 'Torque [Nm]': {'type': 'number', 'format': 'double'}, 'Tool wear [min]': {'type': 'integer', 'format': 'int64'}, 'Temperature difference [Â°C]': {'type': 'number', 'format': 'double'}}}, 'example': [{'Air temperature [Â°C]': 30.650000000000034, 'Process temperature [Â°C]': 40.05000000000001, 'Rotational speed [rpm]': 1458, 'Torque [Nm]': 51.0, 'Tool wear [min]': 42, 'Temperature difference [Â°C]': 9.399999999999975}, {'Air temperature [Â°C]': 31.850000000000023, 'Process temperature [Â°C]': 41.150000000000034, 'Rotational speed [rpm]': 1530, 'Torque [Nm]': 34.8, 'Tool wear [min]': 211, 'Temperature difference [Â°C]': 9.300000000000011}]}, 'output': {'type': 'string', 'example': 'No failure'}}\n"
     ]
    }
   ],
   "source": [
    "sch = generate_schema(score,(model_obj, req),X_train)\n",
    "print(sch)"
   ]
  },
  {
   "cell_type": "code",
   "execution_count": 28,
   "id": "8288b62e",
   "metadata": {},
   "outputs": [
    {
     "name": "stdout",
     "output_type": "stream",
     "text": [
      "Calculating build time metrics\n",
      "\n",
      "Progress: ██████████████████████████████████████████████████████████████████████ 100.0%\n"
     ]
    },
    {
     "data": {
      "application/vnd.jupyter.widget-view+json": {
       "model_id": "71aceb20a5394861ad08e86568c6e1ab",
       "version_major": 2,
       "version_minor": 0
      },
      "text/plain": [
       "VBox(children=(HTML(value='<style>.grad_1{background: #2468a4;} .grad_2{ color:white; background: #2468a4;}</s…"
      ]
     },
     "metadata": {},
     "output_type": "display_data"
    }
   ],
   "source": [
    "tmp = register_model(model_obj, \n",
    "               score, \n",
    "               name=\"Predictive_Maintenance_Binary_Classification\", \n",
    "               description=\"Predictive Maintenance Binary Classification\",\n",
    "               flavour=MLModelFlavours.sklearn,\n",
    "               model_type=\"classification\",\n",
    "               init_script=\"pip install scikit-learn==0.24.2 && pip install pandas==1.3.5\",\n",
    "               schema=sch,\n",
    "               y_true=y_test,\n",
    "               y_pred=y_pred, \n",
    "               prob=y_prob, \n",
    "               features=X_train.columns,\n",
    "               labels=[0,1],\n",
    "               input_type=\"json\", \n",
    "               explain_ai=True, \n",
    "               x_train=X_train, \n",
    "               x_test=X_test, \n",
    "               y_train=y_train.tolist(),\n",
    "               y_test=y_test.tolist(),\n",
    "               feature_names=X_train.columns.tolist(),\n",
    "               original_features=X_train.columns.tolist(),\n",
    "               feature_ids=X_train.columns,\n",
    "               target_names=['No Failure',' or Failure'],\n",
    "               kyd=True, kyd_score = True)\n",
    "#print(\"Registering model\")"
   ]
  },
  {
   "cell_type": "markdown",
   "id": "f50e5a58",
   "metadata": {},
   "source": [
    "# Sample  Payloads"
   ]
  },
  {
   "cell_type": "markdown",
   "id": "8aa3de4e",
   "metadata": {},
   "source": [
    "### Failure\n",
    "{\"payload\":\"{'Air temperature [°C]':{'0':31.0}, 'Process temperature [°C]':{'0':38.7}, 'Rotational speed [rpm]':{'0':1365}, 'Torque [Nm]':{'0':56.2}, 'Tool wear [min]':{'0':146.0} , 'Temperature difference [°C]':{'0':6.7} }\"}\n",
    "\n",
    "\n",
    "### No Failure\n",
    "{\"payload\":\"{'Air temperature [°C]':{'0':25.95}, 'Process temperature [°C]':{'0':36.45}, 'Rotational speed [rpm]':{'0':1551}, 'Torque [Nm]':{'0':42.8}, 'Tool wear [min]':{'0':0.0} , 'Temperature difference [°C]':{'0':10.5}}\"}"
   ]
  },
  {
   "cell_type": "code",
   "execution_count": 6,
   "id": "41ef0c8a",
   "metadata": {},
   "outputs": [],
   "source": [
    "%gpt generate a machine learning code to do regression model"
   ]
  },
  {
   "cell_type": "code",
   "execution_count": null,
   "id": "e9730efd",
   "metadata": {},
   "outputs": [],
   "source": [
    "#import necessary libraries \n",
    "import numpy as np \n",
    "import pandas as pd \n",
    "from sklearn.model_selection import train_test_split \n",
    "from sklearn.linear_model import LinearRegression \n",
    "\n",
    "#load the data \n",
    "data = pd.read_csv('data.csv') \n",
    "\n",
    "#split the data into features (X) and labels (y) \n",
    "X = data.iloc[:, :-1].values \n",
    "y = data.iloc[:, -1].values \n",
    "\n",
    "#split the data into training and testing sets \n",
    "X_train, X_test, y_train, y_test = train_test_split(X, y, test_size=0.2, random_state=0) \n",
    "\n",
    "#train the model \n",
    "regressor = LinearRegression() \n",
    "regressor.fit(X_train, y_train) \n",
    "\n",
    "#make predictions \n",
    "y_pred = regressor.predict(X_test) \n",
    "\n",
    "#evaluate the model \n",
    "from sklearn.metrics import r2_score \n",
    "r2_score(y_test, y_pred)"
   ]
  },
  {
   "cell_type": "code",
   "execution_count": null,
   "id": "e48fa2fb",
   "metadata": {},
   "outputs": [],
   "source": [
    "import matplotlib.pyplot as plt \n",
    "\n",
    "temperature = [20, 22, 25, 27, 29, 32, 34, 35, 37, 39] \n",
    "failure = [0.05, 0.06, 0.07, 0.08, 0.09, 0.10, 0.11, 0.12, 0.13, 0.14] \n",
    "\n",
    "plt.plot(temperature, failure) \n",
    "plt.xlabel('Temperature (°C)') \n",
    "plt.ylabel('Failure (%)') \n",
    "plt.title('Failure vs Temperature') \n",
    "plt.show()"
   ]
  },
  {
   "cell_type": "code",
   "execution_count": null,
   "id": "d48c1269",
   "metadata": {},
   "outputs": [],
   "source": [
    "import matplotlib.pyplot as plt\n",
    "\n",
    "# Create data\n",
    "temperature = [20, 25, 30, 35, 40]\n",
    "failure_rate = [0.1, 0.2, 0.3, 0.4, 0.5]\n",
    "\n",
    "# Plot data\n",
    "plt.plot(temperature, failure_rate, marker='o', linestyle='--', color='b')\n",
    "\n",
    "# Add title\n",
    "plt.title('Failure Rate vs Temperature')\n",
    "\n",
    "# Add x and y labels\n",
    "plt.xlabel('Temperature (°C)')\n",
    "plt.ylabel('Failure Rate (%)')\n",
    "\n",
    "# Add grid\n",
    "plt.grid()\n",
    "\n",
    "# Show plot\n",
    "plt.show()"
   ]
  },
  {
   "cell_type": "code",
   "execution_count": null,
   "id": "765e9f4f",
   "metadata": {},
   "outputs": [],
   "source": []
  }
 ],
 "metadata": {
  "kernelspec": {
   "display_name": "Python 3",
   "language": "python",
   "name": "python3"
  },
  "language_info": {
   "codemirror_mode": {
    "name": "ipython",
    "version": 3
   },
   "file_extension": ".py",
   "mimetype": "text/x-python",
   "name": "python",
   "nbconvert_exporter": "python",
   "pygments_lexer": "ipython3",
   "version": "3.6.15"
  }
 },
 "nbformat": 4,
 "nbformat_minor": 5
}
